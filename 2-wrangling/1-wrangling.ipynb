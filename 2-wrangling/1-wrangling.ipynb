{
 "cells": [
  {
   "cell_type": "markdown",
   "metadata": {},
   "source": [
    "# Part 2 - Data Wrangling\n",
    "---\n",
    "### Papers Past Topic Modeling\n",
    "\n",
    "<br/>\n",
    "\n",
    "Ben Faulks - bmf43@uclive.ac.nz\n",
    "\n",
    "Xiandong Cai - xca24@uclive.ac.nz\n",
    "\n",
    "Yujie Cui - ycu23@uclive.ac.nz"
   ]
  },
  {
   "cell_type": "code",
   "execution_count": 1,
   "metadata": {},
   "outputs": [
    {
     "name": "stdout",
     "output_type": "stream",
     "text": [
      "2019-02-01 09:30:33\n",
      "[('spark.driver.port', '36728'),\n",
      " ('spark.driver.host', 'x99.hub'),\n",
      " ('spark.app.name', 'local'),\n",
      " ('spark.driver.maxResultSize', '8g'),\n",
      " ('spark.rdd.compress', 'True'),\n",
      " ('spark.app.id', 'local-1548966635539'),\n",
      " ('spark.serializer.objectStreamReset', '100'),\n",
      " ('spark.driver.memory', '62g'),\n",
      " ('spark.master', 'local[*]'),\n",
      " ('spark.executor.id', 'driver'),\n",
      " ('spark.submit.deployMode', 'client'),\n",
      " ('spark.ui.showConsoleProgress', 'true'),\n",
      " ('spark.driver.cores', '6')]\n"
     ]
    },
    {
     "data": {
      "text/html": [
       "\n",
       "        <div>\n",
       "            <p><b>SparkContext</b></p>\n",
       "\n",
       "            <p><a href=\"http://x99.hub:4040\">Spark UI</a></p>\n",
       "\n",
       "            <dl>\n",
       "              <dt>Version</dt>\n",
       "                <dd><code>v2.4.0</code></dd>\n",
       "              <dt>Master</dt>\n",
       "                <dd><code>local[*]</code></dd>\n",
       "              <dt>AppName</dt>\n",
       "                <dd><code>local</code></dd>\n",
       "            </dl>\n",
       "        </div>\n",
       "        "
      ],
      "text/plain": [
       "<SparkContext master=local[*] appName=local>"
      ]
     },
     "execution_count": 1,
     "metadata": {},
     "output_type": "execute_result"
    }
   ],
   "source": [
    "import sys, gc, subprocess\n",
    "sys.path.insert(0, '../utils')\n",
    "import numpy as np\n",
    "import pandas as pd\n",
    "pd.set_option('display.max_columns', 120)\n",
    "pd.set_option('display.max_colwidth', 120)\n",
    "from pyspark.sql import functions as F\n",
    "from pyspark.sql.types import *\n",
    "from utils import conf_pyspark, load_dataset\n",
    "from matplotlib import pyplot as plt\n",
    "plt.style.use('ggplot')\n",
    "%matplotlib inline\n",
    "dpi=80\n",
    "\n",
    "import datetime\n",
    "print (datetime.datetime.now().strftime(\"%Y-%m-%d %H:%M:%S\"))\n",
    "\n",
    "# intiate PySpark\n",
    "sc, spark = conf_pyspark()\n",
    "\n",
    "sc"
   ]
  },
  {
   "cell_type": "markdown",
   "metadata": {},
   "source": [
    "## 1 Load Data"
   ]
  },
  {
   "cell_type": "markdown",
   "metadata": {},
   "source": [
    "**Load raw dataset:**"
   ]
  },
  {
   "cell_type": "code",
   "execution_count": 2,
   "metadata": {},
   "outputs": [],
   "source": [
    "df = load_dataset('raw', spark)\n",
    "#df.cache();"
   ]
  },
  {
   "cell_type": "code",
   "execution_count": 3,
   "metadata": {},
   "outputs": [
    {
     "name": "stdout",
     "output_type": "stream",
     "text": [
      "Shape of dataframe: (16731578, 6)\n"
     ]
    },
    {
     "data": {
      "text/html": [
       "<div>\n",
       "<style scoped>\n",
       "    .dataframe tbody tr th:only-of-type {\n",
       "        vertical-align: middle;\n",
       "    }\n",
       "\n",
       "    .dataframe tbody tr th {\n",
       "        vertical-align: top;\n",
       "    }\n",
       "\n",
       "    .dataframe thead th {\n",
       "        text-align: right;\n",
       "    }\n",
       "</style>\n",
       "<table border=\"1\" class=\"dataframe\">\n",
       "  <thead>\n",
       "    <tr style=\"text-align: right;\">\n",
       "      <th></th>\n",
       "      <th>id</th>\n",
       "      <th>url</th>\n",
       "      <th>publisher</th>\n",
       "      <th>time</th>\n",
       "      <th>title</th>\n",
       "      <th>content</th>\n",
       "    </tr>\n",
       "  </thead>\n",
       "  <tbody>\n",
       "    <tr>\n",
       "      <th>0</th>\n",
       "      <td>10000044</td>\n",
       "      <td>http://api.digitalnz.org/records/10000044/source</td>\n",
       "      <td>Timaru Herald</td>\n",
       "      <td>1890-01-23T00:00:00.000Z</td>\n",
       "      <td>Page 4 Advertisements Column 4 (Timaru Herald, 23 January 1890)</td>\n",
       "      <td>f^BAXEytJIi — OOMFOBTINO EPPS'S~OOCOA. BBEAKffABT. \"By &amp; thorough knowledge of ths natural laws which govern the ope...</td>\n",
       "    </tr>\n",
       "    <tr>\n",
       "      <th>1</th>\n",
       "      <td>10000275</td>\n",
       "      <td>http://api.digitalnz.org/records/10000275/source</td>\n",
       "      <td>Timaru Herald</td>\n",
       "      <td>1890-01-24T00:00:00.000Z</td>\n",
       "      <td>Page 1 Advertisements Column 5 (Timaru Herald, 24 January 1890)</td>\n",
       "      <td>Tl/rONBY TO LEND on Approved Freehold Seourity, IN SUMS TO SUIT BOBBOWBBS. Apply to — PBRBY &amp;PBBRY, Bolioitors, Tima...</td>\n",
       "    </tr>\n",
       "    <tr>\n",
       "      <th>2</th>\n",
       "      <td>10000407</td>\n",
       "      <td>http://api.digitalnz.org/records/10000407/source</td>\n",
       "      <td>Timaru Herald</td>\n",
       "      <td>1890-01-24T00:00:00.000Z</td>\n",
       "      <td>ABSTRACT OF SALES BY AUCTION. (Timaru Herald, 24 January 1890)</td>\n",
       "      <td>ABSTRACT OF SALES BY AUCTION.|3ek advertisements. | This Day. By Tnrnbnll mid Sou, at tho residence of Mr ,T. Wood, ...</td>\n",
       "    </tr>\n",
       "    <tr>\n",
       "      <th>3</th>\n",
       "      <td>10000420</td>\n",
       "      <td>http://api.digitalnz.org/records/10000420/source</td>\n",
       "      <td>Timaru Herald</td>\n",
       "      <td>1890-01-24T00:00:00.000Z</td>\n",
       "      <td>MEETINGS. AMUSEMENTS, Etc. (Timaru Herald, 24 January 1890)</td>\n",
       "      <td>MEETINGS. AMUSEMENTS, Etc.This Day. Thoatro Royal — \" Sweot Lavender,\" at 8 p.m. Tho Hospital— S.C. Hospital and Cha...</td>\n",
       "    </tr>\n",
       "    <tr>\n",
       "      <th>4</th>\n",
       "      <td>10000450</td>\n",
       "      <td>http://api.digitalnz.org/records/10000450/source</td>\n",
       "      <td>Timaru Herald</td>\n",
       "      <td>1890-01-24T00:00:00.000Z</td>\n",
       "      <td>TRAINS ARRIVE AT TIMAEU. (Timaru Herald, 24 January 1890)</td>\n",
       "      <td>TRAINS ARRIVE AT TIMAEU.From F.iirlio Creole, 10.30 n.tn. From North— Orari, 0.50 a.m. (Saturdays t'rom Eangitata) ;...</td>\n",
       "    </tr>\n",
       "  </tbody>\n",
       "</table>\n",
       "</div>"
      ],
      "text/plain": [
       "         id                                               url      publisher  \\\n",
       "0  10000044  http://api.digitalnz.org/records/10000044/source  Timaru Herald   \n",
       "1  10000275  http://api.digitalnz.org/records/10000275/source  Timaru Herald   \n",
       "2  10000407  http://api.digitalnz.org/records/10000407/source  Timaru Herald   \n",
       "3  10000420  http://api.digitalnz.org/records/10000420/source  Timaru Herald   \n",
       "4  10000450  http://api.digitalnz.org/records/10000450/source  Timaru Herald   \n",
       "\n",
       "                       time  \\\n",
       "0  1890-01-23T00:00:00.000Z   \n",
       "1  1890-01-24T00:00:00.000Z   \n",
       "2  1890-01-24T00:00:00.000Z   \n",
       "3  1890-01-24T00:00:00.000Z   \n",
       "4  1890-01-24T00:00:00.000Z   \n",
       "\n",
       "                                                             title  \\\n",
       "0  Page 4 Advertisements Column 4 (Timaru Herald, 23 January 1890)   \n",
       "1  Page 1 Advertisements Column 5 (Timaru Herald, 24 January 1890)   \n",
       "2   ABSTRACT OF SALES BY AUCTION. (Timaru Herald, 24 January 1890)   \n",
       "3      MEETINGS. AMUSEMENTS, Etc. (Timaru Herald, 24 January 1890)   \n",
       "4        TRAINS ARRIVE AT TIMAEU. (Timaru Herald, 24 January 1890)   \n",
       "\n",
       "                                                                                                                   content  \n",
       "0  f^BAXEytJIi — OOMFOBTINO EPPS'S~OOCOA. BBEAKffABT. \"By & thorough knowledge of ths natural laws which govern the ope...  \n",
       "1  Tl/rONBY TO LEND on Approved Freehold Seourity, IN SUMS TO SUIT BOBBOWBBS. Apply to — PBRBY &PBBRY, Bolioitors, Tima...  \n",
       "2  ABSTRACT OF SALES BY AUCTION.|3ek advertisements. | This Day. By Tnrnbnll mid Sou, at tho residence of Mr ,T. Wood, ...  \n",
       "3  MEETINGS. AMUSEMENTS, Etc.This Day. Thoatro Royal — \" Sweot Lavender,\" at 8 p.m. Tho Hospital— S.C. Hospital and Cha...  \n",
       "4  TRAINS ARRIVE AT TIMAEU.From F.iirlio Creole, 10.30 n.tn. From North— Orari, 0.50 a.m. (Saturdays t'rom Eangitata) ;...  "
      ]
     },
     "execution_count": 3,
     "metadata": {},
     "output_type": "execute_result"
    }
   ],
   "source": [
    "nrow_raw = df.count()\n",
    "print('Shape of dataframe: ({}, {})'.format(nrow_raw, len(df.columns)))\n",
    "df.limit(5).toPandas().head()"
   ]
  },
  {
   "cell_type": "markdown",
   "metadata": {},
   "source": [
    "## 2 Clean Data"
   ]
  },
  {
   "cell_type": "markdown",
   "metadata": {},
   "source": [
    "### 2.1 Missing Values"
   ]
  },
  {
   "cell_type": "markdown",
   "metadata": {},
   "source": [
    "**Check empty values:**"
   ]
  },
  {
   "cell_type": "code",
   "execution_count": 5,
   "metadata": {},
   "outputs": [
    {
     "name": "stdout",
     "output_type": "stream",
     "text": [
      "Print Null:\n",
      "+---+---+---------+----+-----+-------+\n",
      "| id|url|publisher|time|title|content|\n",
      "+---+---+---------+----+-----+-------+\n",
      "|  0|  0|        0|   0|    0|  56232|\n",
      "+---+---+---------+----+-----+-------+\n",
      "\n"
     ]
    }
   ],
   "source": [
    "# Count null\n",
    "print('Print Null:')\n",
    "df.select([F.count(F.when(F.col(c).isNull() | (F.col(c) == ''), c))\n",
    "           .alias(c) for c in df.columns]).show()"
   ]
  },
  {
   "cell_type": "markdown",
   "metadata": {},
   "source": [
    "**Drop rows with empty document:**"
   ]
  },
  {
   "cell_type": "code",
   "execution_count": 3,
   "metadata": {},
   "outputs": [],
   "source": [
    "# Clean NA to avoid nonetype.\n",
    "df = df.na.drop(subset=['content'])"
   ]
  },
  {
   "cell_type": "markdown",
   "metadata": {},
   "source": [
    "### 2.2 Duplicate Values"
   ]
  },
  {
   "cell_type": "markdown",
   "metadata": {},
   "source": [
    "**The \"id\" should be unique, check duplication:**"
   ]
  },
  {
   "cell_type": "code",
   "execution_count": 7,
   "metadata": {},
   "outputs": [
    {
     "name": "stdout",
     "output_type": "stream",
     "text": [
      "Duplicated id number:  543700\n"
     ]
    }
   ],
   "source": [
    "print('Duplicated id number: ', nrow_raw - df.select('id').distinct().count())"
   ]
  },
  {
   "cell_type": "markdown",
   "metadata": {},
   "source": [
    "**There are duplicated \"id\" in the dataset, show three of them:**"
   ]
  },
  {
   "cell_type": "code",
   "execution_count": 8,
   "metadata": {},
   "outputs": [
    {
     "name": "stdout",
     "output_type": "stream",
     "text": [
      "+--------+-----+\n",
      "|      id|count|\n",
      "+--------+-----+\n",
      "|11642926|    2|\n",
      "|11651057|    2|\n",
      "|11709006|    2|\n",
      "+--------+-----+\n",
      "only showing top 3 rows\n",
      "\n"
     ]
    }
   ],
   "source": [
    "df.groupBy('id').count().where(F.col('count')>1).show(3)"
   ]
  },
  {
   "cell_type": "markdown",
   "metadata": {},
   "source": [
    "**Select the first one to check detail:**"
   ]
  },
  {
   "cell_type": "code",
   "execution_count": 9,
   "metadata": {},
   "outputs": [
    {
     "data": {
      "text/html": [
       "<div>\n",
       "<style scoped>\n",
       "    .dataframe tbody tr th:only-of-type {\n",
       "        vertical-align: middle;\n",
       "    }\n",
       "\n",
       "    .dataframe tbody tr th {\n",
       "        vertical-align: top;\n",
       "    }\n",
       "\n",
       "    .dataframe thead th {\n",
       "        text-align: right;\n",
       "    }\n",
       "</style>\n",
       "<table border=\"1\" class=\"dataframe\">\n",
       "  <thead>\n",
       "    <tr style=\"text-align: right;\">\n",
       "      <th></th>\n",
       "      <th>id</th>\n",
       "      <th>url</th>\n",
       "      <th>publisher</th>\n",
       "      <th>time</th>\n",
       "      <th>title</th>\n",
       "      <th>content</th>\n",
       "    </tr>\n",
       "  </thead>\n",
       "  <tbody>\n",
       "    <tr>\n",
       "      <th>0</th>\n",
       "      <td>10036037</td>\n",
       "      <td>http://api.digitalnz.org/records/10036037/source</td>\n",
       "      <td>Poverty Bay Herald</td>\n",
       "      <td>1898-01-06T00:00:00.000Z</td>\n",
       "      <td>THE EASTERN SITUATION (Poverty Bay Herald, 06 January 1898)</td>\n",
       "      <td>THE EASTERN SITUATION'Octis\" in the Sydney Telogrnph delivers himself of this clever satire on the recent events in ...</td>\n",
       "    </tr>\n",
       "    <tr>\n",
       "      <th>1</th>\n",
       "      <td>10036037</td>\n",
       "      <td>http://api.digitalnz.org/records/10036037/source</td>\n",
       "      <td>Poverty Bay Herald</td>\n",
       "      <td>1898-01-06T00:00:00.000Z</td>\n",
       "      <td>THE EASTERN SITUATION (Poverty Bay Herald, 06 January 1898)</td>\n",
       "      <td>THE EASTERN SITUATION'Octis\" in the Sydney Telogrnph delivers himself of this clever satire on the recent events in ...</td>\n",
       "    </tr>\n",
       "  </tbody>\n",
       "</table>\n",
       "</div>"
      ],
      "text/plain": [
       "         id                                               url  \\\n",
       "0  10036037  http://api.digitalnz.org/records/10036037/source   \n",
       "1  10036037  http://api.digitalnz.org/records/10036037/source   \n",
       "\n",
       "            publisher                      time  \\\n",
       "0  Poverty Bay Herald  1898-01-06T00:00:00.000Z   \n",
       "1  Poverty Bay Herald  1898-01-06T00:00:00.000Z   \n",
       "\n",
       "                                                         title  \\\n",
       "0  THE EASTERN SITUATION (Poverty Bay Herald, 06 January 1898)   \n",
       "1  THE EASTERN SITUATION (Poverty Bay Herald, 06 January 1898)   \n",
       "\n",
       "                                                                                                                   content  \n",
       "0  THE EASTERN SITUATION'Octis\" in the Sydney Telogrnph delivers himself of this clever satire on the recent events in ...  \n",
       "1  THE EASTERN SITUATION'Octis\" in the Sydney Telogrnph delivers himself of this clever satire on the recent events in ...  "
      ]
     },
     "execution_count": 9,
     "metadata": {},
     "output_type": "execute_result"
    }
   ],
   "source": [
    "df.filter(df.id == 10036037).toPandas().head()"
   ]
  },
  {
   "cell_type": "markdown",
   "metadata": {},
   "source": [
    "**Check difference of the content:**"
   ]
  },
  {
   "cell_type": "code",
   "execution_count": 10,
   "metadata": {},
   "outputs": [
    {
     "name": "stdout",
     "output_type": "stream",
     "text": [
      "Similarity:  0.9994846688997681\n"
     ]
    }
   ],
   "source": [
    "import difflib\n",
    "\n",
    "str1 = df.filter(df.id == 10036037).select('content').collect()[0]['content']\n",
    "#print(str1 + '\\n')\n",
    "\n",
    "str2 = df.filter(df.id == 10036037).select('content').collect()[1]['content']\n",
    "#print(str2 + '\\n')\n",
    "\n",
    "diff = difflib.SequenceMatcher(None, str1, str2).ratio()\n",
    "\n",
    "print('Similarity: ', diff)"
   ]
  },
  {
   "cell_type": "markdown",
   "metadata": {},
   "source": [
    "**The two duplicates are very close, drop one of them:**"
   ]
  },
  {
   "cell_type": "code",
   "execution_count": 4,
   "metadata": {},
   "outputs": [],
   "source": [
    "df = df.drop_duplicates(subset=['id'])"
   ]
  },
  {
   "cell_type": "markdown",
   "metadata": {},
   "source": [
    "**Check duplicate again:**"
   ]
  },
  {
   "cell_type": "code",
   "execution_count": 12,
   "metadata": {},
   "outputs": [
    {
     "name": "stdout",
     "output_type": "stream",
     "text": [
      "Duplicated id number:  0\n"
     ]
    }
   ],
   "source": [
    "print('Duplicated id number: ', nrow_raw - df.select('id').distinct().count())"
   ]
  },
  {
   "cell_type": "markdown",
   "metadata": {},
   "source": [
    "### 2.3 Abnormal Values"
   ]
  },
  {
   "cell_type": "markdown",
   "metadata": {},
   "source": [
    "**There should be 68 publishers, check numbers:**"
   ]
  },
  {
   "cell_type": "code",
   "execution_count": 13,
   "metadata": {},
   "outputs": [
    {
     "name": "stdout",
     "output_type": "stream",
     "text": [
      "68\n",
      "Correct! no abnormal values in publishers.\n"
     ]
    }
   ],
   "source": [
    "n = df.select('publisher').distinct().count()\n",
    "print(n)\n",
    "if n == 68:\n",
    "    print('Correct! no abnormal values in publishers.')\n",
    "else:\n",
    "    print('Error! abnormal values in publishers.')"
   ]
  },
  {
   "cell_type": "markdown",
   "metadata": {},
   "source": [
    "### 2.4 Outlier"
   ]
  },
  {
   "cell_type": "markdown",
   "metadata": {},
   "source": [
    "**Since short text would not contribute to topic modeling, we set a number as the minimum value, any content of a sample/document/row will regards as outlier and delete from dataset.**"
   ]
  },
  {
   "cell_type": "code",
   "execution_count": 5,
   "metadata": {},
   "outputs": [],
   "source": [
    "# generate charactor counts of each document\n",
    "df = df.withColumn('length', F.length('content'))"
   ]
  },
  {
   "cell_type": "code",
   "execution_count": 6,
   "metadata": {},
   "outputs": [],
   "source": [
    "# convert pyspark dataframe column to list\n",
    "length = list(\n",
    "    df.select('length').toPandas()['length']\n",
    ")\n",
    "\n",
    "# assume low limit of count\n",
    "min_count = 160"
   ]
  },
  {
   "cell_type": "markdown",
   "metadata": {},
   "source": [
    "**General statistical plot:**"
   ]
  },
  {
   "cell_type": "code",
   "execution_count": 7,
   "metadata": {},
   "outputs": [
    {
     "data": {
      "image/png": "[encoded data removed]",
      "text/plain": [
       "<Figure size 1040x640 with 1 Axes>"
      ]
     },
     "metadata": {
      "needs_background": "light"
     },
     "output_type": "display_data"
    }
   ],
   "source": [
    "# Plot\n",
    "plt.figure(figsize=(13,8), dpi=dpi)\n",
    "plt.hist(length, bins = 1000)\n",
    "plt.text(7000, 2000000, \"Max    : \" + str(round(np.max(length))))\n",
    "plt.text(7000, 1900000, \"Min    : \" + str(round(np.min(length))))\n",
    "plt.text(7000, 1800000, \"Mean   : \" + str(round(np.mean(length))))\n",
    "plt.text(7000, 1700000, \"Median : \" + str(round(np.median(length))))\n",
    "plt.text(7000, 1600000, \"Stdev  : \" + str(round(np.std(length))))\n",
    "plt.text(7000, 1500000, \"1%ile  : \" + str(round(np.quantile(length, q=0.01))))\n",
    "plt.text(7000, 1400000, \"99%ile : \" + str(round(np.quantile(length, q=0.99))))\n",
    "plt.gca().set(xlim=(0, 10000), ylabel='Number of Documents', xlabel='Character Count per Docmument')\n",
    "plt.tick_params(size=12)\n",
    "plt.axvline(x=min_count, color='blue', linestyle='--')\n",
    "plt.xticks(np.linspace(0,10000,21))\n",
    "plt.title('Distribution of Document Character Counts', fontdict=dict(size=16))\n",
    "plt.tight_layout()\n",
    "plt.show()"
   ]
  },
  {
   "cell_type": "markdown",
   "metadata": {},
   "source": [
    "**Magnify the range of 0 to 1000 character:**"
   ]
  },
  {
   "cell_type": "code",
   "execution_count": 8,
   "metadata": {},
   "outputs": [],
   "source": [
    "length1000 = [i for i in length if i <= 1000]"
   ]
  },
  {
   "cell_type": "code",
   "execution_count": 9,
   "metadata": {},
   "outputs": [
    {
     "data": {
      "image/png": "[encoded data removed]",
      "text/plain": [
       "<Figure size 1040x640 with 1 Axes>"
      ]
     },
     "metadata": {
      "needs_background": "light"
     },
     "output_type": "display_data"
    }
   ],
   "source": [
    "plt.figure(figsize=(13,8), dpi=dpi)\n",
    "plt.hist(length1000, bins = 100)\n",
    "plt.gca().set(ylabel='Number of Documents', xlabel='Character Count per Docmument')\n",
    "plt.tick_params(size=12)\n",
    "plt.axvline(x=min_count, color='blue', linestyle='--')\n",
    "plt.xticks(np.linspace(0,1000,21))\n",
    "plt.title('Distribution of Document Character Counts Under 1000', fontdict=dict(size=16))\n",
    "plt.tight_layout()\n",
    "plt.show()"
   ]
  },
  {
   "cell_type": "markdown",
   "metadata": {},
   "source": [
    "**From above plots we see that the number of documents drops rapidly when character count is under 200, consider the short text is not very useful for LDA algorithm, we set the lower limit of the outlier to 160, which means we remove documents with character count under 160. Please note the counting subject is \"character\" not \"word\", a string of 160 characters is like \"From above plots we see that the number of documents drops rapidly when character count is under 200, consider the short text is not very useful for LDA algorithm\", it may extract 1 or 2 topics at most, but if the topic number is over a hundred and most other text in the same corpus are much longer, the short text could be taken as a negative factor for topic modeling.**"
   ]
  },
  {
   "cell_type": "code",
   "execution_count": 6,
   "metadata": {},
   "outputs": [],
   "source": [
    "# remove rows with length under min_count\n",
    "df = df.filter(df.length >= min_count)"
   ]
  },
  {
   "cell_type": "code",
   "execution_count": null,
   "metadata": {},
   "outputs": [
    {
     "name": "stdout",
     "output_type": "stream",
     "text": [
      "1009676 (6.26%) samples/rows/documents were move out from dataset.\n"
     ]
    }
   ],
   "source": [
    "length_min = len([i for i in length if i < min_count])\n",
    "length_all = len(length)\n",
    "\n",
    "print('{} ({:.2f}%) samples/rows/documents were move out from dataset.'.format(length_min, 100*length_min/length_all))"
   ]
  },
  {
   "cell_type": "markdown",
   "metadata": {},
   "source": [
    "## 3 Extract Features"
   ]
  },
  {
   "cell_type": "markdown",
   "metadata": {},
   "source": [
    "### 3.1 Date"
   ]
  },
  {
   "cell_type": "markdown",
   "metadata": {},
   "source": [
    "**For history documents, it only need date as time unit, we extract \"date\" column from \"time\" column:**"
   ]
  },
  {
   "cell_type": "code",
   "execution_count": 7,
   "metadata": {},
   "outputs": [],
   "source": [
    "# extract feature date\n",
    "df = df.withColumn('date', df['time'].cast(DateType()))"
   ]
  },
  {
   "cell_type": "markdown",
   "metadata": {},
   "source": [
    "**Check schema of the dataframe:**"
   ]
  },
  {
   "cell_type": "code",
   "execution_count": null,
   "metadata": {},
   "outputs": [
    {
     "name": "stdout",
     "output_type": "stream",
     "text": [
      "root\n",
      " |-- id: integer (nullable = true)\n",
      " |-- url: string (nullable = true)\n",
      " |-- publisher: string (nullable = true)\n",
      " |-- time: string (nullable = true)\n",
      " |-- title: string (nullable = true)\n",
      " |-- content: string (nullable = true)\n",
      " |-- length: integer (nullable = true)\n",
      " |-- date: date (nullable = true)\n",
      "\n"
     ]
    }
   ],
   "source": [
    "df.printSchema()"
   ]
  },
  {
   "cell_type": "markdown",
   "metadata": {},
   "source": [
    "**Check date range has abnormal values:**"
   ]
  },
  {
   "cell_type": "code",
   "execution_count": null,
   "metadata": {},
   "outputs": [
    {
     "data": {
      "text/plain": [
       "(datetime.date(1839, 8, 21), datetime.date(1945, 12, 31))"
      ]
     },
     "execution_count": 23,
     "metadata": {},
     "output_type": "execute_result"
    }
   ],
   "source": [
    "start, end = df.select(F.min('date'), F.max('date')).first()\n",
    "start, end"
   ]
  },
  {
   "cell_type": "markdown",
   "metadata": {},
   "source": [
    "### 3.2 Advertisements"
   ]
  },
  {
   "cell_type": "markdown",
   "metadata": {},
   "source": [
    "**Check \"title\" column to see if it is possible to extract features:**"
   ]
  },
  {
   "cell_type": "code",
   "execution_count": 9,
   "metadata": {},
   "outputs": [
    {
     "data": {
      "text/html": [
       "<div>\n",
       "<style scoped>\n",
       "    .dataframe tbody tr th:only-of-type {\n",
       "        vertical-align: middle;\n",
       "    }\n",
       "\n",
       "    .dataframe tbody tr th {\n",
       "        vertical-align: top;\n",
       "    }\n",
       "\n",
       "    .dataframe thead th {\n",
       "        text-align: right;\n",
       "    }\n",
       "</style>\n",
       "<table border=\"1\" class=\"dataframe\">\n",
       "  <thead>\n",
       "    <tr style=\"text-align: right;\">\n",
       "      <th></th>\n",
       "      <th>id</th>\n",
       "      <th>title</th>\n",
       "    </tr>\n",
       "  </thead>\n",
       "  <tbody>\n",
       "    <tr>\n",
       "      <th>0</th>\n",
       "      <td>1854224</td>\n",
       "      <td>OUR OWN RIVER-ORUAWHARO ! (Albertland Gazette, 03 July 1862)</td>\n",
       "    </tr>\n",
       "    <tr>\n",
       "      <th>1</th>\n",
       "      <td>1854742</td>\n",
       "      <td>THE EASTERN CRISIS. (Ashburton Guardian, 11 January 1887)</td>\n",
       "    </tr>\n",
       "    <tr>\n",
       "      <th>2</th>\n",
       "      <td>1855004</td>\n",
       "      <td>SAN FRANCISCO ROUTE. (Bush Advocate, 28 July 1888)</td>\n",
       "    </tr>\n",
       "    <tr>\n",
       "      <th>3</th>\n",
       "      <td>1855305</td>\n",
       "      <td>Page 1 Advertisements Column 8 (Bush Advocate, 10 May 1888)</td>\n",
       "    </tr>\n",
       "    <tr>\n",
       "      <th>4</th>\n",
       "      <td>1855374</td>\n",
       "      <td>Page 3 Advertisements Column 5 (Bush Advocate, 10 May 1888)</td>\n",
       "    </tr>\n",
       "  </tbody>\n",
       "</table>\n",
       "</div>"
      ],
      "text/plain": [
       "        id                                                         title\n",
       "0  1854224  OUR OWN RIVER-ORUAWHARO ! (Albertland Gazette, 03 July 1862)\n",
       "1  1854742     THE EASTERN CRISIS. (Ashburton Guardian, 11 January 1887)\n",
       "2  1855004            SAN FRANCISCO ROUTE. (Bush Advocate, 28 July 1888)\n",
       "3  1855305   Page 1 Advertisements Column 8 (Bush Advocate, 10 May 1888)\n",
       "4  1855374   Page 3 Advertisements Column 5 (Bush Advocate, 10 May 1888)"
      ]
     },
     "execution_count": 9,
     "metadata": {},
     "output_type": "execute_result"
    }
   ],
   "source": [
    "df.limit(5).select('id', 'title').toPandas().head()"
   ]
  },
  {
   "cell_type": "markdown",
   "metadata": {},
   "source": [
    "**The \"title\" column specified advertisements, we extract \"ads\" column from \"title\" column:**"
   ]
  },
  {
   "cell_type": "code",
   "execution_count": 8,
   "metadata": {},
   "outputs": [],
   "source": [
    "# extract feature ads\n",
    "df = df.withColumn('ads', df.title.contains('dvertisement'))"
   ]
  },
  {
   "cell_type": "code",
   "execution_count": 11,
   "metadata": {},
   "outputs": [
    {
     "data": {
      "text/html": [
       "<div>\n",
       "<style scoped>\n",
       "    .dataframe tbody tr th:only-of-type {\n",
       "        vertical-align: middle;\n",
       "    }\n",
       "\n",
       "    .dataframe tbody tr th {\n",
       "        vertical-align: top;\n",
       "    }\n",
       "\n",
       "    .dataframe thead th {\n",
       "        text-align: right;\n",
       "    }\n",
       "</style>\n",
       "<table border=\"1\" class=\"dataframe\">\n",
       "  <thead>\n",
       "    <tr style=\"text-align: right;\">\n",
       "      <th></th>\n",
       "      <th>id</th>\n",
       "      <th>ads</th>\n",
       "      <th>title</th>\n",
       "    </tr>\n",
       "  </thead>\n",
       "  <tbody>\n",
       "    <tr>\n",
       "      <th>0</th>\n",
       "      <td>1854224</td>\n",
       "      <td>False</td>\n",
       "      <td>OUR OWN RIVER-ORUAWHARO ! (Albertland Gazette, 03 July 1862)</td>\n",
       "    </tr>\n",
       "    <tr>\n",
       "      <th>1</th>\n",
       "      <td>1854742</td>\n",
       "      <td>False</td>\n",
       "      <td>THE EASTERN CRISIS. (Ashburton Guardian, 11 January 1887)</td>\n",
       "    </tr>\n",
       "    <tr>\n",
       "      <th>2</th>\n",
       "      <td>1855004</td>\n",
       "      <td>False</td>\n",
       "      <td>SAN FRANCISCO ROUTE. (Bush Advocate, 28 July 1888)</td>\n",
       "    </tr>\n",
       "    <tr>\n",
       "      <th>3</th>\n",
       "      <td>1855305</td>\n",
       "      <td>True</td>\n",
       "      <td>Page 1 Advertisements Column 8 (Bush Advocate, 10 May 1888)</td>\n",
       "    </tr>\n",
       "    <tr>\n",
       "      <th>4</th>\n",
       "      <td>1855374</td>\n",
       "      <td>True</td>\n",
       "      <td>Page 3 Advertisements Column 5 (Bush Advocate, 10 May 1888)</td>\n",
       "    </tr>\n",
       "  </tbody>\n",
       "</table>\n",
       "</div>"
      ],
      "text/plain": [
       "        id    ads  \\\n",
       "0  1854224  False   \n",
       "1  1854742  False   \n",
       "2  1855004  False   \n",
       "3  1855305   True   \n",
       "4  1855374   True   \n",
       "\n",
       "                                                          title  \n",
       "0  OUR OWN RIVER-ORUAWHARO ! (Albertland Gazette, 03 July 1862)  \n",
       "1     THE EASTERN CRISIS. (Ashburton Guardian, 11 January 1887)  \n",
       "2            SAN FRANCISCO ROUTE. (Bush Advocate, 28 July 1888)  \n",
       "3   Page 1 Advertisements Column 8 (Bush Advocate, 10 May 1888)  \n",
       "4   Page 3 Advertisements Column 5 (Bush Advocate, 10 May 1888)  "
      ]
     },
     "execution_count": 11,
     "metadata": {},
     "output_type": "execute_result"
    }
   ],
   "source": [
    "df.limit(5).select('id', 'ads', 'title').toPandas().head()"
   ]
  },
  {
   "cell_type": "markdown",
   "metadata": {},
   "source": [
    "### 3.3 Title"
   ]
  },
  {
   "cell_type": "markdown",
   "metadata": {},
   "source": [
    "**The title consists of three parts: \"real title\" (\"publisher\", \"date\"), we only need \"real title\" part. Extract real title:**"
   ]
  },
  {
   "cell_type": "code",
   "execution_count": 9,
   "metadata": {},
   "outputs": [],
   "source": [
    "# remove redandunt parts of title\n",
    "df = df.withColumn('title_', F.regexp_extract(F.col('title'), '(.*)(\\s\\(.*\\))', 1))"
   ]
  },
  {
   "cell_type": "markdown",
   "metadata": {},
   "source": [
    "**Check if some titles are not the form \"title (\"publisher\", \"date\"), which will lead to \"title_\" column is empty string:**"
   ]
  },
  {
   "cell_type": "code",
   "execution_count": 13,
   "metadata": {},
   "outputs": [
    {
     "name": "stdout",
     "output_type": "stream",
     "text": [
      "+--------+------+---------------------+\n",
      "|id      |title_|title                |\n",
      "+--------+------+---------------------+\n",
      "|3656781 |      |Untitled Illustration|\n",
      "|4832017 |      |Untitled Illustration|\n",
      "|5417742 |      |Untitled Illustration|\n",
      "|12676570|      |Untitled Illustration|\n",
      "|23484819|      |Untitled Illustration|\n",
      "+--------+------+---------------------+\n",
      "only showing top 5 rows\n",
      "\n"
     ]
    }
   ],
   "source": [
    "df.where(F.col('title_') == '').select(['id', 'title_', 'title']).show(5, False)"
   ]
  },
  {
   "cell_type": "markdown",
   "metadata": {},
   "source": [
    "**Change empty string in \"title_\" column to \"Untitled Illustration\":**"
   ]
  },
  {
   "cell_type": "code",
   "execution_count": 10,
   "metadata": {},
   "outputs": [],
   "source": [
    "df = df.withColumn(\n",
    "    'title_',\n",
    "    F.when(\n",
    "        F.col('title_') == '',\n",
    "        F.lit('Untitled Illustration')\n",
    "    ).otherwise(\n",
    "        F.col('title_')\n",
    "    )\n",
    ")"
   ]
  },
  {
   "cell_type": "markdown",
   "metadata": {},
   "source": [
    "**Print title columns:**"
   ]
  },
  {
   "cell_type": "code",
   "execution_count": 15,
   "metadata": {},
   "outputs": [
    {
     "data": {
      "text/html": [
       "<div>\n",
       "<style scoped>\n",
       "    .dataframe tbody tr th:only-of-type {\n",
       "        vertical-align: middle;\n",
       "    }\n",
       "\n",
       "    .dataframe tbody tr th {\n",
       "        vertical-align: top;\n",
       "    }\n",
       "\n",
       "    .dataframe thead th {\n",
       "        text-align: right;\n",
       "    }\n",
       "</style>\n",
       "<table border=\"1\" class=\"dataframe\">\n",
       "  <thead>\n",
       "    <tr style=\"text-align: right;\">\n",
       "      <th></th>\n",
       "      <th>id</th>\n",
       "      <th>title_</th>\n",
       "      <th>title</th>\n",
       "    </tr>\n",
       "  </thead>\n",
       "  <tbody>\n",
       "    <tr>\n",
       "      <th>0</th>\n",
       "      <td>1854224</td>\n",
       "      <td>OUR OWN RIVER-ORUAWHARO !</td>\n",
       "      <td>OUR OWN RIVER-ORUAWHARO ! (Albertland Gazette, 03 July 1862)</td>\n",
       "    </tr>\n",
       "    <tr>\n",
       "      <th>1</th>\n",
       "      <td>1854742</td>\n",
       "      <td>THE EASTERN CRISIS.</td>\n",
       "      <td>THE EASTERN CRISIS. (Ashburton Guardian, 11 January 1887)</td>\n",
       "    </tr>\n",
       "    <tr>\n",
       "      <th>2</th>\n",
       "      <td>1855004</td>\n",
       "      <td>SAN FRANCISCO ROUTE.</td>\n",
       "      <td>SAN FRANCISCO ROUTE. (Bush Advocate, 28 July 1888)</td>\n",
       "    </tr>\n",
       "    <tr>\n",
       "      <th>3</th>\n",
       "      <td>1855305</td>\n",
       "      <td>Page 1 Advertisements Column 8</td>\n",
       "      <td>Page 1 Advertisements Column 8 (Bush Advocate, 10 May 1888)</td>\n",
       "    </tr>\n",
       "    <tr>\n",
       "      <th>4</th>\n",
       "      <td>1855374</td>\n",
       "      <td>Page 3 Advertisements Column 5</td>\n",
       "      <td>Page 3 Advertisements Column 5 (Bush Advocate, 10 May 1888)</td>\n",
       "    </tr>\n",
       "  </tbody>\n",
       "</table>\n",
       "</div>"
      ],
      "text/plain": [
       "        id                          title_  \\\n",
       "0  1854224       OUR OWN RIVER-ORUAWHARO !   \n",
       "1  1854742             THE EASTERN CRISIS.   \n",
       "2  1855004            SAN FRANCISCO ROUTE.   \n",
       "3  1855305  Page 1 Advertisements Column 8   \n",
       "4  1855374  Page 3 Advertisements Column 5   \n",
       "\n",
       "                                                          title  \n",
       "0  OUR OWN RIVER-ORUAWHARO ! (Albertland Gazette, 03 July 1862)  \n",
       "1     THE EASTERN CRISIS. (Ashburton Guardian, 11 January 1887)  \n",
       "2            SAN FRANCISCO ROUTE. (Bush Advocate, 28 July 1888)  \n",
       "3   Page 1 Advertisements Column 8 (Bush Advocate, 10 May 1888)  \n",
       "4   Page 3 Advertisements Column 5 (Bush Advocate, 10 May 1888)  "
      ]
     },
     "execution_count": 15,
     "metadata": {},
     "output_type": "execute_result"
    }
   ],
   "source": [
    "df.limit(5).select('id', 'title_', 'title').toPandas().head()"
   ]
  },
  {
   "cell_type": "markdown",
   "metadata": {},
   "source": [
    "### 3.4 Region"
   ]
  },
  {
   "cell_type": "markdown",
   "metadata": {},
   "source": [
    "**In the website of [Papers Past](https://paperspast.natlib.govt.nz), we could find the publisher-region relationship in the [Explore all newspapers](https://paperspast.natlib.govt.nz/newspapers/all#region) webpage. Based on this webpage, we could extract region feature from \"publisher\" column. Here we saved [the webpage](https://paperspast.natlib.govt.nz/newspapers/all#region) and crawling the publisher-region relationship into a dataframe for extract feature.**"
   ]
  },
  {
   "cell_type": "code",
   "execution_count": 16,
   "metadata": {},
   "outputs": [],
   "source": [
    "# read region.csv if start from here and omit below code until save the region dataframe.\n",
    "\n",
    "#path = r'../temp/region.csv'\n",
    "#\n",
    "#data_schema = StructType([\n",
    "#    StructField('publisher_', StringType()),\n",
    "#    StructField('region', StringType())\n",
    "#])\n",
    "#\n",
    "#df_region = (\n",
    "#    spark.read.format(\"com.databricks.spark.csv\")\n",
    "#    .option(\"header\", \"false\")\n",
    "#    .option(\"inferSchema\", \"false\")\n",
    "#    .option(\"delimiter\", \"\\t\")\n",
    "#    .schema(data_schema)\n",
    "#    .load(path)\n",
    "#)"
   ]
  },
  {
   "cell_type": "code",
   "execution_count": 11,
   "metadata": {},
   "outputs": [],
   "source": [
    "from bs4 import BeautifulSoup\n",
    "\n",
    "# read webpage\n",
    "path = r'../temp/Papers Past _ Explore all newspapers.html'\n",
    "with open(path, 'r') as f:\n",
    "    html = f.read()\n",
    "\n",
    "# get table \n",
    "soup = BeautifulSoup(html, \"html.parser\")\n",
    "table = soup.find('table', attrs={'class':'table datatable'})\n",
    "table_rows = table.find_all('tr')\n",
    "res = []\n",
    "for tr in table_rows:\n",
    "    td = tr.find_all('td')\n",
    "    row = [tr.text.strip() for tr in td if tr.text.strip()]\n",
    "    if row:\n",
    "        res.append(row)\n",
    "\n",
    "# transform table to pandas dataframe\n",
    "df_region = pd.DataFrame(res, columns=['publisher_', 'region', 'start_', 'end_']) # column_ means it will be drop later\n",
    "\n",
    "# transform pandas dataframe to pyspark dataframe\n",
    "df_region = spark.createDataFrame(df_region).orderBy('region')"
   ]
  },
  {
   "cell_type": "code",
   "execution_count": 18,
   "metadata": {},
   "outputs": [
    {
     "name": "stdout",
     "output_type": "stream",
     "text": [
      "Shape of dataframe: (148, 4)\n"
     ]
    },
    {
     "data": {
      "text/html": [
       "<div>\n",
       "<style scoped>\n",
       "    .dataframe tbody tr th:only-of-type {\n",
       "        vertical-align: middle;\n",
       "    }\n",
       "\n",
       "    .dataframe tbody tr th {\n",
       "        vertical-align: top;\n",
       "    }\n",
       "\n",
       "    .dataframe thead th {\n",
       "        text-align: right;\n",
       "    }\n",
       "</style>\n",
       "<table border=\"1\" class=\"dataframe\">\n",
       "  <thead>\n",
       "    <tr style=\"text-align: right;\">\n",
       "      <th></th>\n",
       "      <th>publisher_</th>\n",
       "      <th>region</th>\n",
       "      <th>start_</th>\n",
       "      <th>end_</th>\n",
       "    </tr>\n",
       "  </thead>\n",
       "  <tbody>\n",
       "    <tr>\n",
       "      <th>0</th>\n",
       "      <td>Kaipara and Waitemata Echo</td>\n",
       "      <td>Auckland</td>\n",
       "      <td>1911</td>\n",
       "      <td>1921</td>\n",
       "    </tr>\n",
       "    <tr>\n",
       "      <th>1</th>\n",
       "      <td>New Zealand Herald</td>\n",
       "      <td>Auckland</td>\n",
       "      <td>1863</td>\n",
       "      <td>1945</td>\n",
       "    </tr>\n",
       "    <tr>\n",
       "      <th>2</th>\n",
       "      <td>New Zealander</td>\n",
       "      <td>Auckland</td>\n",
       "      <td>1845</td>\n",
       "      <td>1866</td>\n",
       "    </tr>\n",
       "    <tr>\n",
       "      <th>3</th>\n",
       "      <td>New Zealand Herald and Auckland Gazette</td>\n",
       "      <td>Auckland</td>\n",
       "      <td>1841</td>\n",
       "      <td>1842</td>\n",
       "    </tr>\n",
       "    <tr>\n",
       "      <th>4</th>\n",
       "      <td>Observer</td>\n",
       "      <td>Auckland</td>\n",
       "      <td>1880</td>\n",
       "      <td>1920</td>\n",
       "    </tr>\n",
       "  </tbody>\n",
       "</table>\n",
       "</div>"
      ],
      "text/plain": [
       "                                publisher_    region start_  end_\n",
       "0               Kaipara and Waitemata Echo  Auckland   1911  1921\n",
       "1                       New Zealand Herald  Auckland   1863  1945\n",
       "2                            New Zealander  Auckland   1845  1866\n",
       "3  New Zealand Herald and Auckland Gazette  Auckland   1841  1842\n",
       "4                                 Observer  Auckland   1880  1920"
      ]
     },
     "execution_count": 18,
     "metadata": {},
     "output_type": "execute_result"
    }
   ],
   "source": [
    "print('Shape of dataframe: ({}, {})'.format(df_region.count(), len(df_region.columns)))\n",
    "df_region.limit(5).toPandas().head()"
   ]
  },
  {
   "cell_type": "markdown",
   "metadata": {},
   "source": [
    "**Notice that in this publisher-region relationship dataframe, there are two publisher's name is not identical with the dataset: \"Bay Of Plenty Times\" mismatch by \"of\", \"New Zealand Free Lance\" mismatch by \"New Zeland\", so we modify the** `df_region` **to make it identical with dataset:**"
   ]
  },
  {
   "cell_type": "code",
   "execution_count": 19,
   "metadata": {},
   "outputs": [
    {
     "name": "stdout",
     "output_type": "stream",
     "text": [
      "+-------------------+-------------+------+----+\n",
      "|publisher_         |region       |start_|end_|\n",
      "+-------------------+-------------+------+----+\n",
      "|Bay of Plenty Times|Bay of Plenty|1872  |1949|\n",
      "|Free Lance         |Wellington   |1900  |1920|\n",
      "+-------------------+-------------+------+----+\n",
      "\n"
     ]
    }
   ],
   "source": [
    "(df_region.filter((df_region.publisher_ == 'Bay of Plenty Times')\n",
    "                 | (df_region.publisher_ == 'Free Lance'))\n",
    " .show(10, False))"
   ]
  },
  {
   "cell_type": "code",
   "execution_count": 12,
   "metadata": {},
   "outputs": [],
   "source": [
    "# update df_region for Bay Of Plenty Times and New Zealand Free Lance\n",
    "df_region = df_region.withColumn(\n",
    "    'publisher_',\n",
    "    F.when(\n",
    "        F.col('publisher_') == 'Bay of Plenty Times',\n",
    "        F.lit('Bay Of Plenty Times')\n",
    "    ).otherwise(\n",
    "        F.col('publisher_')\n",
    "    )\n",
    ").withColumn(\n",
    "    'publisher_',\n",
    "    F.when(\n",
    "        F.col('publisher_') == 'Free Lance',\n",
    "        F.lit('New Zealand Free Lance')\n",
    "    ).otherwise(\n",
    "        F.col('publisher_')\n",
    "    )\n",
    ")"
   ]
  },
  {
   "cell_type": "markdown",
   "metadata": {},
   "source": [
    "**Check if the two publishers' name were modified:**"
   ]
  },
  {
   "cell_type": "code",
   "execution_count": 21,
   "metadata": {},
   "outputs": [
    {
     "name": "stdout",
     "output_type": "stream",
     "text": [
      "+----------------------+-------------+------+----+\n",
      "|publisher_            |region       |start_|end_|\n",
      "+----------------------+-------------+------+----+\n",
      "|Bay Of Plenty Times   |Bay of Plenty|1872  |1949|\n",
      "|New Zealand Free Lance|Wellington   |1900  |1920|\n",
      "+----------------------+-------------+------+----+\n",
      "\n"
     ]
    }
   ],
   "source": [
    "(df_region.filter((df_region.publisher_ == 'Bay Of Plenty Times')\n",
    "                 | (df_region.publisher_ == 'New Zealand Free Lance'))\n",
    " .show(10, False))"
   ]
  },
  {
   "cell_type": "markdown",
   "metadata": {},
   "source": [
    "**Save the region dataframe for later use:**"
   ]
  },
  {
   "cell_type": "code",
   "execution_count": 22,
   "metadata": {},
   "outputs": [],
   "source": [
    "path = r'../temp/region.csv'\n",
    "\n",
    "(df_region.select(F.col('publisher_'),\n",
    "                  F.col('region'))\n",
    " .toPandas()\n",
    " .to_csv(path, header=False, index=False, encoding='utf-8'))"
   ]
  },
  {
   "cell_type": "markdown",
   "metadata": {},
   "source": [
    "**Extract region column, and abandon redundant columns:**"
   ]
  },
  {
   "cell_type": "code",
   "execution_count": 13,
   "metadata": {},
   "outputs": [],
   "source": [
    "df = (df.join(df_region, df.publisher == df_region.publisher_, how='left')\n",
    "      .select(F.col('id'), \n",
    "              F.col('publisher'), \n",
    "              F.col('region'), \n",
    "              F.col('date'), \n",
    "              F.col('ads'), \n",
    "              F.col('title_').alias('title'), \n",
    "              F.col('content'))\n",
    "      .orderBy('id')\n",
    "      )"
   ]
  },
  {
   "cell_type": "markdown",
   "metadata": {},
   "source": [
    "**Imputing missing value in region column with \"unknwon\":**"
   ]
  },
  {
   "cell_type": "code",
   "execution_count": 14,
   "metadata": {},
   "outputs": [],
   "source": [
    "df = df.na.fill({'region':'unknown'})"
   ]
  },
  {
   "cell_type": "markdown",
   "metadata": {},
   "source": [
    "**Check if miss any field or element:**"
   ]
  },
  {
   "cell_type": "code",
   "execution_count": 25,
   "metadata": {},
   "outputs": [
    {
     "name": "stdout",
     "output_type": "stream",
     "text": [
      "Print Null and empty string:\n",
      "+---+---------+------+----+---+-----+-------+\n",
      "| id|publisher|region|date|ads|title|content|\n",
      "+---+---------+------+----+---+-----+-------+\n",
      "|  0|        0|     0|   0|  0|    0|      0|\n",
      "+---+---------+------+----+---+-----+-------+\n",
      "\n"
     ]
    }
   ],
   "source": [
    "print('Print Null and empty string:')\n",
    "df.select([F.count(F.when(F.col(c).isNull() | (F.col(c) == ''), c))\n",
    "           .alias(c) for c in df.columns]).show()"
   ]
  },
  {
   "cell_type": "markdown",
   "metadata": {},
   "source": [
    "**Check dataframe szie:**"
   ]
  },
  {
   "cell_type": "code",
   "execution_count": 26,
   "metadata": {},
   "outputs": [
    {
     "name": "stdout",
     "output_type": "stream",
     "text": [
      "Shape of dataframe: (15121970, 7)\n",
      "usable line percentage: 0.9037981952449434\n",
      "removed line number: 1609608\n"
     ]
    }
   ],
   "source": [
    "nrow = df.count()\n",
    "print('Shape of dataframe: ({}, {})'.format(nrow, len(df.columns)))\n",
    "print('usable line percentage:', nrow/nrow_raw)\n",
    "print('removed line number:', nrow_raw - nrow)   "
   ]
  },
  {
   "cell_type": "markdown",
   "metadata": {},
   "source": [
    "**After data wrangling, there are:**\n",
    "* 15,121,970 (90.4%) samples/rows/lines/documents usable, \n",
    "* 1,609,608 samples/rows/lines/documents were removed."
   ]
  },
  {
   "cell_type": "markdown",
   "metadata": {},
   "source": [
    "**Print schema and dataframe:**"
   ]
  },
  {
   "cell_type": "code",
   "execution_count": null,
   "metadata": {},
   "outputs": [
    {
     "name": "stdout",
     "output_type": "stream",
     "text": [
      "root\n",
      " |-- id: integer (nullable = true)\n",
      " |-- publisher: string (nullable = true)\n",
      " |-- region: string (nullable = false)\n",
      " |-- date: date (nullable = true)\n",
      " |-- ads: boolean (nullable = true)\n",
      " |-- title: string (nullable = true)\n",
      " |-- content: string (nullable = true)\n",
      "\n"
     ]
    },
    {
     "data": {
      "text/html": [
       "<div>\n",
       "<style scoped>\n",
       "    .dataframe tbody tr th:only-of-type {\n",
       "        vertical-align: middle;\n",
       "    }\n",
       "\n",
       "    .dataframe tbody tr th {\n",
       "        vertical-align: top;\n",
       "    }\n",
       "\n",
       "    .dataframe thead th {\n",
       "        text-align: right;\n",
       "    }\n",
       "</style>\n",
       "<table border=\"1\" class=\"dataframe\">\n",
       "  <thead>\n",
       "    <tr style=\"text-align: right;\">\n",
       "      <th></th>\n",
       "      <th>id</th>\n",
       "      <th>publisher</th>\n",
       "      <th>region</th>\n",
       "      <th>date</th>\n",
       "      <th>ads</th>\n",
       "      <th>title</th>\n",
       "      <th>content</th>\n",
       "    </tr>\n",
       "  </thead>\n",
       "  <tbody>\n",
       "    <tr>\n",
       "      <th>0</th>\n",
       "      <td>1854213</td>\n",
       "      <td>Albertland Gazette</td>\n",
       "      <td>Auckland</td>\n",
       "      <td>1862-06-14</td>\n",
       "      <td>False</td>\n",
       "      <td>TO OUR HEADERS.</td>\n",
       "      <td>TO OUR HEADERS.; We have to apologize to our. numerous for the delay which has occurred in ' getting out the first n...</td>\n",
       "    </tr>\n",
       "    <tr>\n",
       "      <th>1</th>\n",
       "      <td>1854214</td>\n",
       "      <td>Albertland Gazette</td>\n",
       "      <td>Auckland</td>\n",
       "      <td>1862-06-14</td>\n",
       "      <td>False</td>\n",
       "      <td>GOD REST THEE, WEARY TRAVELLER.\"</td>\n",
       "      <td>\"GOD REST THEE, WEARY TRAVELLER.\";■ So spake a worn pilgrim, days bygone, as he passed a pilgrim-brother bound for P...</td>\n",
       "    </tr>\n",
       "    <tr>\n",
       "      <th>2</th>\n",
       "      <td>1854215</td>\n",
       "      <td>Albertland Gazette</td>\n",
       "      <td>Auckland</td>\n",
       "      <td>1862-06-14</td>\n",
       "      <td>True</td>\n",
       "      <td>Page 1 Advertisements Column 1</td>\n",
       "      <td>v-/ .ADVERTISEMENTS. •- I Advertisements will he inserted in the y \"Gazette\" at the nominal rate of Threepence for f...</td>\n",
       "    </tr>\n",
       "    <tr>\n",
       "      <th>3</th>\n",
       "      <td>1854216</td>\n",
       "      <td>Albertland Gazette</td>\n",
       "      <td>Auckland</td>\n",
       "      <td>1862-06-14</td>\n",
       "      <td>False</td>\n",
       "      <td>Correspondence.</td>\n",
       "      <td>Correspondence.Ship \" MatildavWattenbacti;\" June G,18G2. ■ Dear Sir, ■ •■ .' ... ..,. Hearing that it is .your inten...</td>\n",
       "    </tr>\n",
       "    <tr>\n",
       "      <th>4</th>\n",
       "      <td>1854218</td>\n",
       "      <td>Albertland Gazette</td>\n",
       "      <td>Auckland</td>\n",
       "      <td>1862-06-14</td>\n",
       "      <td>False</td>\n",
       "      <td>General News.</td>\n",
       "      <td>General News.lV AMus£MENTS.--^Our record of small events laymild be incomplete, did we not mention some Kf the games...</td>\n",
       "    </tr>\n",
       "  </tbody>\n",
       "</table>\n",
       "</div>"
      ],
      "text/plain": [
       "        id           publisher    region        date    ads  \\\n",
       "0  1854213  Albertland Gazette  Auckland  1862-06-14  False   \n",
       "1  1854214  Albertland Gazette  Auckland  1862-06-14  False   \n",
       "2  1854215  Albertland Gazette  Auckland  1862-06-14   True   \n",
       "3  1854216  Albertland Gazette  Auckland  1862-06-14  False   \n",
       "4  1854218  Albertland Gazette  Auckland  1862-06-14  False   \n",
       "\n",
       "                              title  \\\n",
       "0                   TO OUR HEADERS.   \n",
       "1  GOD REST THEE, WEARY TRAVELLER.\"   \n",
       "2    Page 1 Advertisements Column 1   \n",
       "3                   Correspondence.   \n",
       "4                     General News.   \n",
       "\n",
       "                                                                                                                   content  \n",
       "0  TO OUR HEADERS.; We have to apologize to our. numerous for the delay which has occurred in ' getting out the first n...  \n",
       "1  \"GOD REST THEE, WEARY TRAVELLER.\";■ So spake a worn pilgrim, days bygone, as he passed a pilgrim-brother bound for P...  \n",
       "2  v-/ .ADVERTISEMENTS. •- I Advertisements will he inserted in the y \"Gazette\" at the nominal rate of Threepence for f...  \n",
       "3  Correspondence.Ship \" MatildavWattenbacti;\" June G,18G2. ■ Dear Sir, ■ •■ .' ... ..,. Hearing that it is .your inten...  \n",
       "4  General News.lV AMus£MENTS.--^Our record of small events laymild be incomplete, did we not mention some Kf the games...  "
      ]
     },
     "execution_count": 27,
     "metadata": {},
     "output_type": "execute_result"
    }
   ],
   "source": [
    "df.printSchema()\n",
    "df.limit(5).toPandas().head()"
   ]
  },
  {
   "cell_type": "markdown",
   "metadata": {},
   "source": [
    "## 4 Save Dataset"
   ]
  },
  {
   "cell_type": "markdown",
   "metadata": {},
   "source": [
    "**This dataframe would be our final dataset to generate training data and subset to analyze and visualize, we save it as compressed csv file for later processes.**"
   ]
  },
  {
   "cell_type": "code",
   "execution_count": null,
   "metadata": {},
   "outputs": [],
   "source": [
    "path = r'../data/dataset/clean/'\n",
    "df.write.csv(path, mode='overwrite', compression='gzip')"
   ]
  },
  {
   "cell_type": "markdown",
   "metadata": {},
   "source": [
    "**Check the clean dataset size:**"
   ]
  },
  {
   "cell_type": "code",
   "execution_count": 2,
   "metadata": {},
   "outputs": [
    {
     "name": "stdout",
     "output_type": "stream",
     "text": [
      "raw   dataset size: 33G\n",
      "clean dataset size: 14G\n"
     ]
    }
   ],
   "source": [
    "path = r'../data/papers_past'\n",
    "print('raw   dataset size:', subprocess.check_output(['du','-sh', path]).split()[0].decode('utf-8'))\n",
    "path = r'../data/dataset/clean'\n",
    "print('clean dataset size:', subprocess.check_output(['du','-sh', path]).split()[0].decode('utf-8'))"
   ]
  },
  {
   "cell_type": "markdown",
   "metadata": {},
   "source": [
    "**After data clean and data wrangling, the dataset size was reduced from 33GB to 14GB.**"
   ]
  },
  {
   "cell_type": "markdown",
   "metadata": {},
   "source": [
    "---"
   ]
  },
  {
   "cell_type": "code",
   "execution_count": null,
   "metadata": {},
   "outputs": [],
   "source": [
    "sc.stop()\n",
    "gc.collect()"
   ]
  }
 ],
 "metadata": {
  "kernelspec": {
   "display_name": "Python 3",
   "language": "python",
   "name": "python3"
  },
  "language_info": {
   "codemirror_mode": {
    "name": "ipython",
    "version": 3
   },
   "file_extension": ".py",
   "mimetype": "text/x-python",
   "name": "python",
   "nbconvert_exporter": "python",
   "pygments_lexer": "ipython3",
   "version": "3.5.2"
  }
 },
 "nbformat": 4,
 "nbformat_minor": 2
}
