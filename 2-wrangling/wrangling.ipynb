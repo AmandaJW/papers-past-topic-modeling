{
 "cells": [
  {
   "cell_type": "markdown",
   "metadata": {},
   "source": [
    "# Part 2 - Data Wrangling\n",
    "---\n",
    "### Papers Past Topic Modeling\n",
    "\n",
    "<br/>\n",
    "\n",
    "Ben Faulks - bmf43@uclive.ac.nz\n",
    "\n",
    "Xiandong Cai - xca24@uclive.ac.nz\n",
    "\n",
    "Yujie Cui - ycu23@uclive.ac.nz"
   ]
  },
  {
   "cell_type": "code",
   "execution_count": 1,
   "metadata": {},
   "outputs": [],
   "source": [
    "import sys, subprocess\n",
    "sys.path.insert(0, '../utils')\n",
    "import numpy as np\n",
    "import pandas as pd\n",
    "pd.set_option('display.max_columns', 120)\n",
    "pd.set_option('display.max_colwidth', 120)\n",
    "from pyspark.sql import functions as F\n",
    "from pyspark.sql.types import *\n",
    "from utils import conf_pyspark, load_dataset\n",
    "from matplotlib import pyplot as plt\n",
    "plt.style.use('ggplot')\n",
    "%matplotlib inline"
   ]
  },
  {
   "cell_type": "code",
   "execution_count": 2,
   "metadata": {},
   "outputs": [
    {
     "name": "stdout",
     "output_type": "stream",
     "text": [
      "[('spark.driver.port', '41465'),\n",
      " ('spark.driver.host', 'x99.hub'),\n",
      " ('spark.app.name', 'local'),\n",
      " ('spark.rdd.compress', 'True'),\n",
      " ('spark.app.id', 'local-1548157548578'),\n",
      " ('spark.serializer.objectStreamReset', '100'),\n",
      " ('spark.driver.memory', '62g'),\n",
      " ('spark.master', 'local[*]'),\n",
      " ('spark.executor.id', 'driver'),\n",
      " ('spark.submit.deployMode', 'client'),\n",
      " ('spark.ui.showConsoleProgress', 'true'),\n",
      " ('spark.driver.cores', '6'),\n",
      " ('spark.driver.maxResultSize', '4g')]\n"
     ]
    },
    {
     "data": {
      "text/html": [
       "\n",
       "        <div>\n",
       "            <p><b>SparkContext</b></p>\n",
       "\n",
       "            <p><a href=\"http://x99.hub:4040\">Spark UI</a></p>\n",
       "\n",
       "            <dl>\n",
       "              <dt>Version</dt>\n",
       "                <dd><code>v2.4.0</code></dd>\n",
       "              <dt>Master</dt>\n",
       "                <dd><code>local[*]</code></dd>\n",
       "              <dt>AppName</dt>\n",
       "                <dd><code>local</code></dd>\n",
       "            </dl>\n",
       "        </div>\n",
       "        "
      ],
      "text/plain": [
       "<SparkContext master=local[*] appName=local>"
      ]
     },
     "execution_count": 2,
     "metadata": {},
     "output_type": "execute_result"
    }
   ],
   "source": [
    "# intiate PySpark\n",
    "sc, spark = conf_pyspark()\n",
    "\n",
    "sc"
   ]
  },
  {
   "cell_type": "markdown",
   "metadata": {},
   "source": [
    "## 1 Load Data"
   ]
  },
  {
   "cell_type": "markdown",
   "metadata": {},
   "source": [
    "**Load raw dataset:**"
   ]
  },
  {
   "cell_type": "code",
   "execution_count": 3,
   "metadata": {},
   "outputs": [],
   "source": [
    "df = load_dataset('papers_past', spark)"
   ]
  },
  {
   "cell_type": "code",
   "execution_count": 4,
   "metadata": {},
   "outputs": [
    {
     "name": "stdout",
     "output_type": "stream",
     "text": [
      "Shape of dataframe: (16731578, 6)\n"
     ]
    },
    {
     "data": {
      "text/html": [
       "<div>\n",
       "<style scoped>\n",
       "    .dataframe tbody tr th:only-of-type {\n",
       "        vertical-align: middle;\n",
       "    }\n",
       "\n",
       "    .dataframe tbody tr th {\n",
       "        vertical-align: top;\n",
       "    }\n",
       "\n",
       "    .dataframe thead th {\n",
       "        text-align: right;\n",
       "    }\n",
       "</style>\n",
       "<table border=\"1\" class=\"dataframe\">\n",
       "  <thead>\n",
       "    <tr style=\"text-align: right;\">\n",
       "      <th></th>\n",
       "      <th>id</th>\n",
       "      <th>url</th>\n",
       "      <th>publisher</th>\n",
       "      <th>time</th>\n",
       "      <th>title</th>\n",
       "      <th>content</th>\n",
       "    </tr>\n",
       "  </thead>\n",
       "  <tbody>\n",
       "    <tr>\n",
       "      <th>0</th>\n",
       "      <td>2838876</td>\n",
       "      <td>http://api.digitalnz.org/records/2838876/source</td>\n",
       "      <td>Timaru Herald</td>\n",
       "      <td>1864-07-30T00:00:00.000Z</td>\n",
       "      <td>Page 5 Advertisements Column 3 (Timaru Herald, 30 July 1864)</td>\n",
       "      <td>New Advertisements. /CLARKSON &amp; TURNBULL, IMPORTERS DIRECT FROM ENGLAND, South Road and George-street, Timaru. rpO A...</td>\n",
       "    </tr>\n",
       "    <tr>\n",
       "      <th>1</th>\n",
       "      <td>34233858</td>\n",
       "      <td>http://api.digitalnz.org/records/34233858/source</td>\n",
       "      <td>Mataura Ensign</td>\n",
       "      <td>1912-02-29T12:00:00Z</td>\n",
       "      <td>NEVER WAITS. (Mataura Ensign 29-2-1912)</td>\n",
       "      <td>NEVER WAITS.\"I never wait until my children are bad with colds or croup but give them Chamberlain's Cough Remedy as ...</td>\n",
       "    </tr>\n",
       "    <tr>\n",
       "      <th>2</th>\n",
       "      <td>29021537</td>\n",
       "      <td>http://api.digitalnz.org/records/29021537/source</td>\n",
       "      <td>Daily Telegraph</td>\n",
       "      <td>1889-07-05T00:00:00.000Z</td>\n",
       "      <td>LATE CABLES (Daily Telegraph, 05 July 1889)</td>\n",
       "      <td>LATE CABLES[I'ER I'RICSS ASSOCIATION. —COPYRIGHT.] (Received July 5, 2 p.m.) TERRIBLE MINING DISASTER. London, July ...</td>\n",
       "    </tr>\n",
       "    <tr>\n",
       "      <th>3</th>\n",
       "      <td>27247854</td>\n",
       "      <td>http://api.digitalnz.org/records/27247854/source</td>\n",
       "      <td>Ellesmere Guardian</td>\n",
       "      <td>1935-06-18T00:00:00.000Z</td>\n",
       "      <td>SIGHT RESTORED. (Ellesmere Guardian, 18 June 1935)</td>\n",
       "      <td>SIGHT RESTORED.TRIUMPH OF SURGERY.(Fr«m the Guardian's Special Corres-pondent—By Air Mail)PARIS, May 25After 18 year...</td>\n",
       "    </tr>\n",
       "    <tr>\n",
       "      <th>4</th>\n",
       "      <td>2495073</td>\n",
       "      <td>http://api.digitalnz.org/records/2495073/source</td>\n",
       "      <td>Bay Of Plenty Times</td>\n",
       "      <td>1885-09-08T00:00:00.000Z</td>\n",
       "      <td>TO-MORROW'S ECLIPSE. (Bay Of Plenty Times, 08 September 1885)</td>\n",
       "      <td>TO-MORROW'S ECLIPSE.Toricoitifow, September 9, a total eclipse of the sun will occur. The Hue of totality, or path o...</td>\n",
       "    </tr>\n",
       "    <tr>\n",
       "      <th>5</th>\n",
       "      <td>11372834</td>\n",
       "      <td>http://api.digitalnz.org/records/11372834/source</td>\n",
       "      <td>North Otago Times</td>\n",
       "      <td>1893-12-16T00:00:00.000Z</td>\n",
       "      <td>CHIRISTCHCRCH.  December 14. (North Otago Times, 16 December 1893)</td>\n",
       "      <td>CHIRISTCHCRCH. December 14.Tho Ohiistchurcli Mister Tail &gt;r«' and Cutters* Association hive resolved to wind up owin...</td>\n",
       "    </tr>\n",
       "    <tr>\n",
       "      <th>6</th>\n",
       "      <td>4230703</td>\n",
       "      <td>http://api.digitalnz.org/records/4230703/source</td>\n",
       "      <td>North Otago Times</td>\n",
       "      <td>1875-12-18T00:00:00.000Z</td>\n",
       "      <td>Page 5 Advertisements Column 2 (North Otago Times, 18 December 1875)</td>\n",
       "      <td>New Advertisements. OTEPOPO ATHENJEUM. A SOCIAL GATHERING in aid ■^ of the Presbyterian Church Fund will be held in ...</td>\n",
       "    </tr>\n",
       "    <tr>\n",
       "      <th>7</th>\n",
       "      <td>5795844</td>\n",
       "      <td>http://api.digitalnz.org/records/5795844/source</td>\n",
       "      <td>North Otago Times</td>\n",
       "      <td>1878-02-09T00:00:00.000Z</td>\n",
       "      <td>RAILWAY MANAGEMENT? (To the Editor of the North Otago Times ) (North Otago Times, 09 February 1878)</td>\n",
       "      <td>RAILWAY MANAGEMENT? (To the Editor of the North Otago Times )Sir,— A gient deal has been said of late about tho care...</td>\n",
       "    </tr>\n",
       "    <tr>\n",
       "      <th>8</th>\n",
       "      <td>5975134</td>\n",
       "      <td>http://api.digitalnz.org/records/5975134/source</td>\n",
       "      <td>North Otago Times</td>\n",
       "      <td>1879-07-05T00:00:00.000Z</td>\n",
       "      <td>North Otago Times.  SATURDAY, JULY 5, 1879. (North Otago Times, 05 July 1879)</td>\n",
       "      <td>North Otago Times. SATURDAY, JULY 5, 1879.Tub Parliament of Now Zealand meets on Friday next for tho despatch of bus...</td>\n",
       "    </tr>\n",
       "    <tr>\n",
       "      <th>9</th>\n",
       "      <td>11066834</td>\n",
       "      <td>http://api.digitalnz.org/records/11066834/source</td>\n",
       "      <td>Wanganui Herald</td>\n",
       "      <td>1895-01-23T00:00:00.000Z</td>\n",
       "      <td>STOCK INSPECTORS' CONFERENCE. (Wanganui Herald, 23 January 1895)</td>\n",
       "      <td>STOCK INSPECTORS' CONFERENCE.(By Eleotrio Telegraph — Copyright.) (Per United Press Association.)Brisbane, January 2...</td>\n",
       "    </tr>\n",
       "  </tbody>\n",
       "</table>\n",
       "</div>"
      ],
      "text/plain": [
       "         id                                               url  \\\n",
       "0   2838876   http://api.digitalnz.org/records/2838876/source   \n",
       "1  34233858  http://api.digitalnz.org/records/34233858/source   \n",
       "2  29021537  http://api.digitalnz.org/records/29021537/source   \n",
       "3  27247854  http://api.digitalnz.org/records/27247854/source   \n",
       "4   2495073   http://api.digitalnz.org/records/2495073/source   \n",
       "5  11372834  http://api.digitalnz.org/records/11372834/source   \n",
       "6   4230703   http://api.digitalnz.org/records/4230703/source   \n",
       "7   5795844   http://api.digitalnz.org/records/5795844/source   \n",
       "8   5975134   http://api.digitalnz.org/records/5975134/source   \n",
       "9  11066834  http://api.digitalnz.org/records/11066834/source   \n",
       "\n",
       "             publisher                      time  \\\n",
       "0        Timaru Herald  1864-07-30T00:00:00.000Z   \n",
       "1       Mataura Ensign      1912-02-29T12:00:00Z   \n",
       "2      Daily Telegraph  1889-07-05T00:00:00.000Z   \n",
       "3   Ellesmere Guardian  1935-06-18T00:00:00.000Z   \n",
       "4  Bay Of Plenty Times  1885-09-08T00:00:00.000Z   \n",
       "5    North Otago Times  1893-12-16T00:00:00.000Z   \n",
       "6    North Otago Times  1875-12-18T00:00:00.000Z   \n",
       "7    North Otago Times  1878-02-09T00:00:00.000Z   \n",
       "8    North Otago Times  1879-07-05T00:00:00.000Z   \n",
       "9      Wanganui Herald  1895-01-23T00:00:00.000Z   \n",
       "\n",
       "                                                                                                 title  \\\n",
       "0                                         Page 5 Advertisements Column 3 (Timaru Herald, 30 July 1864)   \n",
       "1                                                              NEVER WAITS. (Mataura Ensign 29-2-1912)   \n",
       "2                                                          LATE CABLES (Daily Telegraph, 05 July 1889)   \n",
       "3                                                   SIGHT RESTORED. (Ellesmere Guardian, 18 June 1935)   \n",
       "4                                        TO-MORROW'S ECLIPSE. (Bay Of Plenty Times, 08 September 1885)   \n",
       "5                                   CHIRISTCHCRCH.  December 14. (North Otago Times, 16 December 1893)   \n",
       "6                                 Page 5 Advertisements Column 2 (North Otago Times, 18 December 1875)   \n",
       "7  RAILWAY MANAGEMENT? (To the Editor of the North Otago Times ) (North Otago Times, 09 February 1878)   \n",
       "8                        North Otago Times.  SATURDAY, JULY 5, 1879. (North Otago Times, 05 July 1879)   \n",
       "9                                     STOCK INSPECTORS' CONFERENCE. (Wanganui Herald, 23 January 1895)   \n",
       "\n",
       "                                                                                                                   content  \n",
       "0  New Advertisements. /CLARKSON & TURNBULL, IMPORTERS DIRECT FROM ENGLAND, South Road and George-street, Timaru. rpO A...  \n",
       "1  NEVER WAITS.\"I never wait until my children are bad with colds or croup but give them Chamberlain's Cough Remedy as ...  \n",
       "2  LATE CABLES[I'ER I'RICSS ASSOCIATION. —COPYRIGHT.] (Received July 5, 2 p.m.) TERRIBLE MINING DISASTER. London, July ...  \n",
       "3  SIGHT RESTORED.TRIUMPH OF SURGERY.(Fr«m the Guardian's Special Corres-pondent—By Air Mail)PARIS, May 25After 18 year...  \n",
       "4  TO-MORROW'S ECLIPSE.Toricoitifow, September 9, a total eclipse of the sun will occur. The Hue of totality, or path o...  \n",
       "5  CHIRISTCHCRCH. December 14.Tho Ohiistchurcli Mister Tail >r«' and Cutters* Association hive resolved to wind up owin...  \n",
       "6  New Advertisements. OTEPOPO ATHENJEUM. A SOCIAL GATHERING in aid ■^ of the Presbyterian Church Fund will be held in ...  \n",
       "7  RAILWAY MANAGEMENT? (To the Editor of the North Otago Times )Sir,— A gient deal has been said of late about tho care...  \n",
       "8  North Otago Times. SATURDAY, JULY 5, 1879.Tub Parliament of Now Zealand meets on Friday next for tho despatch of bus...  \n",
       "9  STOCK INSPECTORS' CONFERENCE.(By Eleotrio Telegraph — Copyright.) (Per United Press Association.)Brisbane, January 2...  "
      ]
     },
     "execution_count": 4,
     "metadata": {},
     "output_type": "execute_result"
    }
   ],
   "source": [
    "nrow_raw = df.count()\n",
    "print('Shape of dataframe: ({}, {})'.format(nrow_raw, len(df.columns)))\n",
    "df.sample(False, 0.00001).limit(10).toPandas().head(10)"
   ]
  },
  {
   "cell_type": "markdown",
   "metadata": {},
   "source": [
    "## 2 Clean Data"
   ]
  },
  {
   "cell_type": "markdown",
   "metadata": {},
   "source": [
    "### 2.1 Missing Values"
   ]
  },
  {
   "cell_type": "markdown",
   "metadata": {},
   "source": [
    "**Check empty values:**"
   ]
  },
  {
   "cell_type": "code",
   "execution_count": 5,
   "metadata": {},
   "outputs": [
    {
     "name": "stdout",
     "output_type": "stream",
     "text": [
      "Print Null:\n",
      "+---+---+---------+----+-----+-------+\n",
      "| id|url|publisher|time|title|content|\n",
      "+---+---+---------+----+-----+-------+\n",
      "|  0|  0|        0|   0|    0|  56232|\n",
      "+---+---+---------+----+-----+-------+\n",
      "\n"
     ]
    }
   ],
   "source": [
    "# Count null\n",
    "print('Print Null:')\n",
    "df.select([F.count(F.when(F.col(c).isNull() | (F.col(c) == ''), c))\n",
    "           .alias(c) for c in df.columns]).show()"
   ]
  },
  {
   "cell_type": "markdown",
   "metadata": {},
   "source": [
    "**Drop rows with empty document:**"
   ]
  },
  {
   "cell_type": "code",
   "execution_count": 5,
   "metadata": {},
   "outputs": [],
   "source": [
    "# Clean NA to avoid nonetype.\n",
    "df = df.na.drop(subset=['content'])"
   ]
  },
  {
   "cell_type": "markdown",
   "metadata": {},
   "source": [
    "**Check again:**"
   ]
  },
  {
   "cell_type": "code",
   "execution_count": 7,
   "metadata": {},
   "outputs": [
    {
     "name": "stdout",
     "output_type": "stream",
     "text": [
      "Print Null:\n",
      "+---+---+---------+----+-----+-------+\n",
      "| id|url|publisher|time|title|content|\n",
      "+---+---+---------+----+-----+-------+\n",
      "|  0|  0|        0|   0|    0|      0|\n",
      "+---+---+---------+----+-----+-------+\n",
      "\n"
     ]
    }
   ],
   "source": [
    "# Count null\n",
    "print('Print Null:')\n",
    "df.select([F.count(F.when(F.col(c).isNull() | (F.col(c) == ''), c))\n",
    "           .alias(c) for c in df.columns]).show()"
   ]
  },
  {
   "cell_type": "markdown",
   "metadata": {},
   "source": [
    "### 2.2 Duplicate Values"
   ]
  },
  {
   "cell_type": "markdown",
   "metadata": {},
   "source": [
    "**The \"id\" should be unique, check duplication:**"
   ]
  },
  {
   "cell_type": "code",
   "execution_count": 8,
   "metadata": {},
   "outputs": [
    {
     "name": "stdout",
     "output_type": "stream",
     "text": [
      "Duplicated id number:  543700\n"
     ]
    }
   ],
   "source": [
    "print('Duplicated id number: ', df.count() - df.select('id').distinct().count())"
   ]
  },
  {
   "cell_type": "markdown",
   "metadata": {},
   "source": [
    "**There are duplicated \"id\" in the dataset, show three of them:**"
   ]
  },
  {
   "cell_type": "code",
   "execution_count": 9,
   "metadata": {},
   "outputs": [
    {
     "name": "stdout",
     "output_type": "stream",
     "text": [
      "+--------+-----+\n",
      "|      id|count|\n",
      "+--------+-----+\n",
      "|11642926|    2|\n",
      "|11651057|    2|\n",
      "|11709006|    2|\n",
      "+--------+-----+\n",
      "only showing top 3 rows\n",
      "\n"
     ]
    }
   ],
   "source": [
    "df.groupBy('id').count().where(F.col('count')>1).show(3)"
   ]
  },
  {
   "cell_type": "markdown",
   "metadata": {},
   "source": [
    "**Select the first one to check detail:**"
   ]
  },
  {
   "cell_type": "code",
   "execution_count": 10,
   "metadata": {},
   "outputs": [
    {
     "data": {
      "text/html": [
       "<div>\n",
       "<style scoped>\n",
       "    .dataframe tbody tr th:only-of-type {\n",
       "        vertical-align: middle;\n",
       "    }\n",
       "\n",
       "    .dataframe tbody tr th {\n",
       "        vertical-align: top;\n",
       "    }\n",
       "\n",
       "    .dataframe thead th {\n",
       "        text-align: right;\n",
       "    }\n",
       "</style>\n",
       "<table border=\"1\" class=\"dataframe\">\n",
       "  <thead>\n",
       "    <tr style=\"text-align: right;\">\n",
       "      <th></th>\n",
       "      <th>id</th>\n",
       "      <th>url</th>\n",
       "      <th>publisher</th>\n",
       "      <th>time</th>\n",
       "      <th>title</th>\n",
       "      <th>content</th>\n",
       "    </tr>\n",
       "  </thead>\n",
       "  <tbody>\n",
       "    <tr>\n",
       "      <th>0</th>\n",
       "      <td>10036037</td>\n",
       "      <td>http://api.digitalnz.org/records/10036037/source</td>\n",
       "      <td>Poverty Bay Herald</td>\n",
       "      <td>1898-01-06T00:00:00.000Z</td>\n",
       "      <td>THE EASTERN SITUATION (Poverty Bay Herald, 06 January 1898)</td>\n",
       "      <td>THE EASTERN SITUATION'Octis\" in the Sydney Telogrnph delivers himself of this clever satire on the recent events in ...</td>\n",
       "    </tr>\n",
       "    <tr>\n",
       "      <th>1</th>\n",
       "      <td>10036037</td>\n",
       "      <td>http://api.digitalnz.org/records/10036037/source</td>\n",
       "      <td>Poverty Bay Herald</td>\n",
       "      <td>1898-01-06T00:00:00.000Z</td>\n",
       "      <td>THE EASTERN SITUATION (Poverty Bay Herald, 06 January 1898)</td>\n",
       "      <td>THE EASTERN SITUATION'Octis\" in the Sydney Telogrnph delivers himself of this clever satire on the recent events in ...</td>\n",
       "    </tr>\n",
       "  </tbody>\n",
       "</table>\n",
       "</div>"
      ],
      "text/plain": [
       "         id                                               url  \\\n",
       "0  10036037  http://api.digitalnz.org/records/10036037/source   \n",
       "1  10036037  http://api.digitalnz.org/records/10036037/source   \n",
       "\n",
       "            publisher                      time  \\\n",
       "0  Poverty Bay Herald  1898-01-06T00:00:00.000Z   \n",
       "1  Poverty Bay Herald  1898-01-06T00:00:00.000Z   \n",
       "\n",
       "                                                         title  \\\n",
       "0  THE EASTERN SITUATION (Poverty Bay Herald, 06 January 1898)   \n",
       "1  THE EASTERN SITUATION (Poverty Bay Herald, 06 January 1898)   \n",
       "\n",
       "                                                                                                                   content  \n",
       "0  THE EASTERN SITUATION'Octis\" in the Sydney Telogrnph delivers himself of this clever satire on the recent events in ...  \n",
       "1  THE EASTERN SITUATION'Octis\" in the Sydney Telogrnph delivers himself of this clever satire on the recent events in ...  "
      ]
     },
     "execution_count": 10,
     "metadata": {},
     "output_type": "execute_result"
    }
   ],
   "source": [
    "df.filter(df.id == 10036037).toPandas().head()"
   ]
  },
  {
   "cell_type": "markdown",
   "metadata": {},
   "source": [
    "**Check difference of the content:**"
   ]
  },
  {
   "cell_type": "code",
   "execution_count": 11,
   "metadata": {},
   "outputs": [
    {
     "name": "stdout",
     "output_type": "stream",
     "text": [
      "Similarity:  0.9994846688997681\n"
     ]
    }
   ],
   "source": [
    "import difflib\n",
    "\n",
    "str1 = df.filter(df.id == 10036037).select('content').collect()[0]['content']\n",
    "#print(str1 + '\\n')\n",
    "\n",
    "str2 = df.filter(df.id == 10036037).select('content').collect()[1]['content']\n",
    "#print(str2 + '\\n')\n",
    "\n",
    "diff = difflib.SequenceMatcher(None, str1, str2).ratio()\n",
    "\n",
    "print('Similarity: ', diff)"
   ]
  },
  {
   "cell_type": "markdown",
   "metadata": {},
   "source": [
    "**The two duplicates are very close, drop one of them:**"
   ]
  },
  {
   "cell_type": "code",
   "execution_count": 6,
   "metadata": {},
   "outputs": [],
   "source": [
    "df = df.drop_duplicates(subset=['id'])"
   ]
  },
  {
   "cell_type": "markdown",
   "metadata": {},
   "source": [
    "**Check duplicate again:**"
   ]
  },
  {
   "cell_type": "code",
   "execution_count": 13,
   "metadata": {},
   "outputs": [
    {
     "name": "stdout",
     "output_type": "stream",
     "text": [
      "Duplicated id number:  0\n"
     ]
    }
   ],
   "source": [
    "print('Duplicated id number: ', df.count() - df.select('id').distinct().count())"
   ]
  },
  {
   "cell_type": "markdown",
   "metadata": {},
   "source": [
    "### 2.3 Abnormal Values"
   ]
  },
  {
   "cell_type": "markdown",
   "metadata": {},
   "source": [
    "**There should be 68 publishers, check numbers:**"
   ]
  },
  {
   "cell_type": "code",
   "execution_count": 14,
   "metadata": {},
   "outputs": [
    {
     "name": "stdout",
     "output_type": "stream",
     "text": [
      "68\n",
      "Correct! no abnormal values in publishers.\n"
     ]
    }
   ],
   "source": [
    "n = df.select('publisher').distinct().count()\n",
    "print(n)\n",
    "if n == 68:\n",
    "    print('Correct! no abnormal values in publishers.')\n",
    "else:\n",
    "    print('Error! abnormal values in publishers.')"
   ]
  },
  {
   "cell_type": "markdown",
   "metadata": {},
   "source": [
    "### 2.4 Outlier"
   ]
  },
  {
   "cell_type": "markdown",
   "metadata": {},
   "source": [
    "**Since short text would not contribute to topic modeling, we set a number as the minimum value, any content of a sample/document/row will regards as outlier and delete from dataset.**"
   ]
  },
  {
   "cell_type": "code",
   "execution_count": 7,
   "metadata": {},
   "outputs": [],
   "source": [
    "# generate word counts of each document\n",
    "df = df.withColumn('length', F.length('content'))"
   ]
  },
  {
   "cell_type": "code",
   "execution_count": 16,
   "metadata": {},
   "outputs": [],
   "source": [
    "# convert pyspark dataframe column to list\n",
    "length = list(\n",
    "    df.select('length').toPandas()['length']\n",
    ")"
   ]
  },
  {
   "cell_type": "markdown",
   "metadata": {},
   "source": [
    "**General statistical plot:**"
   ]
  },
  {
   "cell_type": "code",
   "execution_count": 17,
   "metadata": {},
   "outputs": [
    {
     "data": {
      "image/png": "[encoded data removed]",
      "text/plain": [
       "<Figure size 2080x1120 with 1 Axes>"
      ]
     },
     "metadata": {
      "needs_background": "light"
     },
     "output_type": "display_data"
    }
   ],
   "source": [
    "# Plot\n",
    "plt.figure(figsize=(13,7), dpi=160)\n",
    "plt.hist(length, bins = 1000)\n",
    "plt.text(7000, 2000000, \"Max    : \" + str(round(np.max(length))))\n",
    "plt.text(7000, 1900000, \"Min    : \" + str(round(np.min(length))))\n",
    "plt.text(7000, 1800000, \"Mean   : \" + str(round(np.mean(length))))\n",
    "plt.text(7000, 1700000, \"Median : \" + str(round(np.median(length))))\n",
    "plt.text(7000, 1600000, \"Stdev  : \" + str(round(np.std(length))))\n",
    "plt.text(7000, 1500000, \"1%ile  : \" + str(round(np.quantile(length, q=0.01))))\n",
    "plt.text(7000, 1400000, \"99%ile : \" + str(round(np.quantile(length, q=0.99))))\n",
    "plt.gca().set(xlim=(0, 10000), ylabel='Number of Documents', xlabel='Word Count per Docmument')\n",
    "plt.tick_params(size=12)\n",
    "plt.xticks(np.linspace(0,10000,21))\n",
    "plt.title('Distribution of Document Word Counts', fontdict=dict(size=16))\n",
    "plt.tight_layout()\n",
    "plt.show()"
   ]
  },
  {
   "cell_type": "markdown",
   "metadata": {},
   "source": [
    "**Magnify the range of 0 to 1000 words:**"
   ]
  },
  {
   "cell_type": "code",
   "execution_count": 18,
   "metadata": {},
   "outputs": [],
   "source": [
    "length1000 = [i for i in length if i <= 1000]"
   ]
  },
  {
   "cell_type": "code",
   "execution_count": 19,
   "metadata": {},
   "outputs": [
    {
     "data": {
      "image/png": "[encoded data removed]",
      "text/plain": [
       "<Figure size 2080x1120 with 1 Axes>"
      ]
     },
     "metadata": {
      "needs_background": "light"
     },
     "output_type": "display_data"
    }
   ],
   "source": [
    "plt.figure(figsize=(13,7), dpi=160)\n",
    "plt.hist(length1000, bins = 100)\n",
    "plt.gca().set(ylabel='Number of Documents', xlabel='Word Count per Docmument')\n",
    "plt.tick_params(size=12)\n",
    "plt.xticks(np.linspace(0,1000,21))\n",
    "plt.title('Distribution of Document Word Counts Under 1000', fontdict=dict(size=16))\n",
    "plt.tight_layout()\n",
    "plt.show()"
   ]
  },
  {
   "cell_type": "markdown",
   "metadata": {},
   "source": [
    "**From above plots we see that the number of documents drop rapidly when word count is under 200, consider the the short text is not very useful for LDA algorithm, we set the lower limit of outlier to 160, which means we remove documents which word count is under 160.**\n"
   ]
  },
  {
   "cell_type": "code",
   "execution_count": 8,
   "metadata": {},
   "outputs": [],
   "source": [
    "min_count = 160\n",
    "\n",
    "# remove rows with length under min_count\n",
    "df = df.filter(df.length >= min_count)"
   ]
  },
  {
   "cell_type": "code",
   "execution_count": 21,
   "metadata": {},
   "outputs": [
    {
     "name": "stdout",
     "output_type": "stream",
     "text": [
      "1009676 (6.26%) samples/rows/documents were move out from dataset.\n"
     ]
    }
   ],
   "source": [
    "length_min = len([i for i in length if i < min_count])\n",
    "length_all = len(length)\n",
    "\n",
    "print('{} ({:.2f}%) samples/rows/documents were move out from dataset.'.format(length_min, 100*length_min/length_all))"
   ]
  },
  {
   "cell_type": "markdown",
   "metadata": {},
   "source": [
    "## 3 Extract Features"
   ]
  },
  {
   "cell_type": "markdown",
   "metadata": {},
   "source": [
    "### 3.1 Date"
   ]
  },
  {
   "cell_type": "markdown",
   "metadata": {},
   "source": [
    "**For history documents, it only need date as time unit, we extract \"date\" column from \"time\" column:**"
   ]
  },
  {
   "cell_type": "code",
   "execution_count": 9,
   "metadata": {},
   "outputs": [],
   "source": [
    "# extract feature date\n",
    "df = df.withColumn('date', df['time'].cast(DateType()))"
   ]
  },
  {
   "cell_type": "markdown",
   "metadata": {},
   "source": [
    "**Check schema of the dataframe:**"
   ]
  },
  {
   "cell_type": "code",
   "execution_count": 23,
   "metadata": {},
   "outputs": [
    {
     "name": "stdout",
     "output_type": "stream",
     "text": [
      "root\n",
      " |-- id: integer (nullable = true)\n",
      " |-- url: string (nullable = true)\n",
      " |-- publisher: string (nullable = true)\n",
      " |-- time: string (nullable = true)\n",
      " |-- title: string (nullable = true)\n",
      " |-- content: string (nullable = true)\n",
      " |-- length: integer (nullable = true)\n",
      " |-- date: date (nullable = true)\n",
      "\n"
     ]
    }
   ],
   "source": [
    "df.printSchema()"
   ]
  },
  {
   "cell_type": "markdown",
   "metadata": {},
   "source": [
    "**Check date range has abnormal values:**"
   ]
  },
  {
   "cell_type": "code",
   "execution_count": 24,
   "metadata": {},
   "outputs": [
    {
     "data": {
      "text/plain": [
       "(datetime.date(1839, 8, 21), datetime.date(1945, 12, 31))"
      ]
     },
     "execution_count": 24,
     "metadata": {},
     "output_type": "execute_result"
    }
   ],
   "source": [
    "start, end = df.select(F.min('date'), F.max('date')).first()\n",
    "start, end"
   ]
  },
  {
   "cell_type": "markdown",
   "metadata": {},
   "source": [
    "### 3.2 Advertisements"
   ]
  },
  {
   "cell_type": "markdown",
   "metadata": {},
   "source": [
    "**Check \"title\" column to see if it is possible to extract features:**"
   ]
  },
  {
   "cell_type": "code",
   "execution_count": 25,
   "metadata": {},
   "outputs": [
    {
     "data": {
      "text/html": [
       "<div>\n",
       "<style scoped>\n",
       "    .dataframe tbody tr th:only-of-type {\n",
       "        vertical-align: middle;\n",
       "    }\n",
       "\n",
       "    .dataframe tbody tr th {\n",
       "        vertical-align: top;\n",
       "    }\n",
       "\n",
       "    .dataframe thead th {\n",
       "        text-align: right;\n",
       "    }\n",
       "</style>\n",
       "<table border=\"1\" class=\"dataframe\">\n",
       "  <thead>\n",
       "    <tr style=\"text-align: right;\">\n",
       "      <th></th>\n",
       "      <th>id</th>\n",
       "      <th>date</th>\n",
       "      <th>title</th>\n",
       "    </tr>\n",
       "  </thead>\n",
       "  <tbody>\n",
       "    <tr>\n",
       "      <th>0</th>\n",
       "      <td>29575716</td>\n",
       "      <td>1913-07-03</td>\n",
       "      <td>DO ALL CLAIMED. (Wairarapa Daily Times, 03 July 1913)</td>\n",
       "    </tr>\n",
       "    <tr>\n",
       "      <th>1</th>\n",
       "      <td>4176294</td>\n",
       "      <td>1878-05-16</td>\n",
       "      <td>Page 2 Advertisements Column 1 (Waikato Times, 16 May 1878)</td>\n",
       "    </tr>\n",
       "    <tr>\n",
       "      <th>2</th>\n",
       "      <td>7655122</td>\n",
       "      <td>1908-05-01</td>\n",
       "      <td>AHEAD OF THE TRAIN. (Bush Advocate, 01 May 1908)</td>\n",
       "    </tr>\n",
       "    <tr>\n",
       "      <th>3</th>\n",
       "      <td>20059065</td>\n",
       "      <td>1896-09-28</td>\n",
       "      <td>ANOTHER KHARPUT MASSACRE. EUROPE'S ATTITUDE TOWARDS ENGLAND. (Evening Post, 28 September 1896)</td>\n",
       "    </tr>\n",
       "    <tr>\n",
       "      <th>4</th>\n",
       "      <td>18855005</td>\n",
       "      <td>1924-01-30</td>\n",
       "      <td>SHORTT'S THEATRE. (Evening Post, 30 January 1924)</td>\n",
       "    </tr>\n",
       "    <tr>\n",
       "      <th>5</th>\n",
       "      <td>7956998</td>\n",
       "      <td>1885-10-31</td>\n",
       "      <td>SHIPPING INTELLIGENCE. (Taranaki Herald, 31 October 1885)</td>\n",
       "    </tr>\n",
       "    <tr>\n",
       "      <th>6</th>\n",
       "      <td>4620542</td>\n",
       "      <td>1868-08-07</td>\n",
       "      <td>Page 1 Advertisements Column 2 (Colonist, 07 August 1868)</td>\n",
       "    </tr>\n",
       "    <tr>\n",
       "      <th>7</th>\n",
       "      <td>11108102</td>\n",
       "      <td>1890-09-19</td>\n",
       "      <td>Colonial Bank. (Star, 19 September 1890)</td>\n",
       "    </tr>\n",
       "    <tr>\n",
       "      <th>8</th>\n",
       "      <td>9683896</td>\n",
       "      <td>1876-03-21</td>\n",
       "      <td>THE KNOX CHURCH BAZAAR. (Otago Daily Times, 21 March 1876)</td>\n",
       "    </tr>\n",
       "    <tr>\n",
       "      <th>9</th>\n",
       "      <td>32799961</td>\n",
       "      <td>1916-09-11</td>\n",
       "      <td>Page 3 Advertisements Column 2 (Otago Daily Times 9-11-1916)</td>\n",
       "    </tr>\n",
       "  </tbody>\n",
       "</table>\n",
       "</div>"
      ],
      "text/plain": [
       "         id        date  \\\n",
       "0  29575716  1913-07-03   \n",
       "1   4176294  1878-05-16   \n",
       "2   7655122  1908-05-01   \n",
       "3  20059065  1896-09-28   \n",
       "4  18855005  1924-01-30   \n",
       "5   7956998  1885-10-31   \n",
       "6   4620542  1868-08-07   \n",
       "7  11108102  1890-09-19   \n",
       "8   9683896  1876-03-21   \n",
       "9  32799961  1916-09-11   \n",
       "\n",
       "                                                                                            title  \n",
       "0                                           DO ALL CLAIMED. (Wairarapa Daily Times, 03 July 1913)  \n",
       "1                                     Page 2 Advertisements Column 1 (Waikato Times, 16 May 1878)  \n",
       "2                                                AHEAD OF THE TRAIN. (Bush Advocate, 01 May 1908)  \n",
       "3  ANOTHER KHARPUT MASSACRE. EUROPE'S ATTITUDE TOWARDS ENGLAND. (Evening Post, 28 September 1896)  \n",
       "4                                               SHORTT'S THEATRE. (Evening Post, 30 January 1924)  \n",
       "5                                       SHIPPING INTELLIGENCE. (Taranaki Herald, 31 October 1885)  \n",
       "6                                       Page 1 Advertisements Column 2 (Colonist, 07 August 1868)  \n",
       "7                                                        Colonial Bank. (Star, 19 September 1890)  \n",
       "8                                      THE KNOX CHURCH BAZAAR. (Otago Daily Times, 21 March 1876)  \n",
       "9                                    Page 3 Advertisements Column 2 (Otago Daily Times 9-11-1916)  "
      ]
     },
     "execution_count": 25,
     "metadata": {},
     "output_type": "execute_result"
    }
   ],
   "source": [
    "df.sample(False, 0.00001).limit(10).select('id', 'date', 'title').toPandas().head(10)"
   ]
  },
  {
   "cell_type": "markdown",
   "metadata": {},
   "source": [
    "**The \"title\" column specified advertisements, we extract \"ads\" column from \"title\" column:**"
   ]
  },
  {
   "cell_type": "code",
   "execution_count": 10,
   "metadata": {},
   "outputs": [],
   "source": [
    "# extract feature ads\n",
    "df = df.withColumn('ads', df.title.contains('dvertisement'))"
   ]
  },
  {
   "cell_type": "code",
   "execution_count": 27,
   "metadata": {},
   "outputs": [
    {
     "data": {
      "text/html": [
       "<div>\n",
       "<style scoped>\n",
       "    .dataframe tbody tr th:only-of-type {\n",
       "        vertical-align: middle;\n",
       "    }\n",
       "\n",
       "    .dataframe tbody tr th {\n",
       "        vertical-align: top;\n",
       "    }\n",
       "\n",
       "    .dataframe thead th {\n",
       "        text-align: right;\n",
       "    }\n",
       "</style>\n",
       "<table border=\"1\" class=\"dataframe\">\n",
       "  <thead>\n",
       "    <tr style=\"text-align: right;\">\n",
       "      <th></th>\n",
       "      <th>id</th>\n",
       "      <th>ads</th>\n",
       "      <th>title</th>\n",
       "    </tr>\n",
       "  </thead>\n",
       "  <tbody>\n",
       "    <tr>\n",
       "      <th>0</th>\n",
       "      <td>29686971</td>\n",
       "      <td>False</td>\n",
       "      <td>FATHER'S SAD DISCOVERY. (Wairarapa Daily Times, 01 June 1916)</td>\n",
       "    </tr>\n",
       "    <tr>\n",
       "      <th>1</th>\n",
       "      <td>20280489</td>\n",
       "      <td>False</td>\n",
       "      <td>How to Make Oyster Croquettes. (Bruce Herald, 09 November 1894)</td>\n",
       "    </tr>\n",
       "    <tr>\n",
       "      <th>2</th>\n",
       "      <td>12612958</td>\n",
       "      <td>False</td>\n",
       "      <td>South African Affairs (Southland Times, 29 October 1902)</td>\n",
       "    </tr>\n",
       "    <tr>\n",
       "      <th>3</th>\n",
       "      <td>5254614</td>\n",
       "      <td>False</td>\n",
       "      <td>FURTHER PAY-OUT (Evening Post, 04 December 1937)</td>\n",
       "    </tr>\n",
       "    <tr>\n",
       "      <th>4</th>\n",
       "      <td>26995796</td>\n",
       "      <td>False</td>\n",
       "      <td>IN MEMORIAM. (Northern Advocate, 26 November 1915)</td>\n",
       "    </tr>\n",
       "    <tr>\n",
       "      <th>5</th>\n",
       "      <td>5009747</td>\n",
       "      <td>False</td>\n",
       "      <td>Untitled (Observer, 23 February 1895)</td>\n",
       "    </tr>\n",
       "    <tr>\n",
       "      <th>6</th>\n",
       "      <td>29799070</td>\n",
       "      <td>False</td>\n",
       "      <td>A GREAT FAILURE. (Wairarapa Daily Times, 13 December 1919)</td>\n",
       "    </tr>\n",
       "    <tr>\n",
       "      <th>7</th>\n",
       "      <td>23687013</td>\n",
       "      <td>False</td>\n",
       "      <td>NEW ZEALAND IN LONDON. (Feilding Star, 05 May 1916)</td>\n",
       "    </tr>\n",
       "    <tr>\n",
       "      <th>8</th>\n",
       "      <td>4847368</td>\n",
       "      <td>False</td>\n",
       "      <td>DEATH. (Grey River Argus, 25 April 1877)</td>\n",
       "    </tr>\n",
       "    <tr>\n",
       "      <th>9</th>\n",
       "      <td>28689359</td>\n",
       "      <td>False</td>\n",
       "      <td>CRICKET IN AUSTRALIA. (Auckland Star, 28 January 1902)</td>\n",
       "    </tr>\n",
       "  </tbody>\n",
       "</table>\n",
       "</div>"
      ],
      "text/plain": [
       "         id    ads  \\\n",
       "0  29686971  False   \n",
       "1  20280489  False   \n",
       "2  12612958  False   \n",
       "3   5254614  False   \n",
       "4  26995796  False   \n",
       "5   5009747  False   \n",
       "6  29799070  False   \n",
       "7  23687013  False   \n",
       "8   4847368  False   \n",
       "9  28689359  False   \n",
       "\n",
       "                                                             title  \n",
       "0    FATHER'S SAD DISCOVERY. (Wairarapa Daily Times, 01 June 1916)  \n",
       "1  How to Make Oyster Croquettes. (Bruce Herald, 09 November 1894)  \n",
       "2         South African Affairs (Southland Times, 29 October 1902)  \n",
       "3                 FURTHER PAY-OUT (Evening Post, 04 December 1937)  \n",
       "4               IN MEMORIAM. (Northern Advocate, 26 November 1915)  \n",
       "5                            Untitled (Observer, 23 February 1895)  \n",
       "6       A GREAT FAILURE. (Wairarapa Daily Times, 13 December 1919)  \n",
       "7              NEW ZEALAND IN LONDON. (Feilding Star, 05 May 1916)  \n",
       "8                         DEATH. (Grey River Argus, 25 April 1877)  \n",
       "9           CRICKET IN AUSTRALIA. (Auckland Star, 28 January 1902)  "
      ]
     },
     "execution_count": 27,
     "metadata": {},
     "output_type": "execute_result"
    }
   ],
   "source": [
    "df.sample(False, 0.00001).limit(10).select('id', 'ads', 'title').toPandas().head(10)"
   ]
  },
  {
   "cell_type": "markdown",
   "metadata": {},
   "source": [
    "### 3.3 Title"
   ]
  },
  {
   "cell_type": "markdown",
   "metadata": {},
   "source": [
    "**The title consists of three parts: \"real title\" (\"publisher\", \"date\"), we only need \"real title\" part. Extract real title:**"
   ]
  },
  {
   "cell_type": "code",
   "execution_count": 11,
   "metadata": {},
   "outputs": [],
   "source": [
    "# remove redandunt parts of title\n",
    "df = df.withColumn('title_', F.regexp_extract(F.col('title'), '(.*)(\\s\\(.*\\))', 1))"
   ]
  },
  {
   "cell_type": "markdown",
   "metadata": {},
   "source": [
    "**Check if some titles are not the form \"title (\"publisher\", \"date\"), which will lead to \"title_\" column is empty string:**"
   ]
  },
  {
   "cell_type": "code",
   "execution_count": 29,
   "metadata": {},
   "outputs": [
    {
     "name": "stdout",
     "output_type": "stream",
     "text": [
      "+--------+------+---------------------+\n",
      "|id      |title_|title                |\n",
      "+--------+------+---------------------+\n",
      "|3656781 |      |Untitled Illustration|\n",
      "|4832017 |      |Untitled Illustration|\n",
      "|5417742 |      |Untitled Illustration|\n",
      "|12676570|      |Untitled Illustration|\n",
      "|23484819|      |Untitled Illustration|\n",
      "+--------+------+---------------------+\n",
      "only showing top 5 rows\n",
      "\n"
     ]
    }
   ],
   "source": [
    "df.where(F.col('title_') == '').select(['id', 'title_', 'title']).show(5, False)"
   ]
  },
  {
   "cell_type": "markdown",
   "metadata": {},
   "source": [
    "**Change empty string in \"title_\" column to \"Untitled Illustration\":**"
   ]
  },
  {
   "cell_type": "code",
   "execution_count": 12,
   "metadata": {},
   "outputs": [],
   "source": [
    "df = df.withColumn(\n",
    "    'title_',\n",
    "    F.when(\n",
    "        F.col('title_') == '',\n",
    "        F.lit('Untitled Illustration')\n",
    "    ).otherwise(\n",
    "        F.col('title_')\n",
    "    )\n",
    ")"
   ]
  },
  {
   "cell_type": "markdown",
   "metadata": {},
   "source": [
    "**Check empty string again:**"
   ]
  },
  {
   "cell_type": "code",
   "execution_count": 31,
   "metadata": {},
   "outputs": [
    {
     "name": "stdout",
     "output_type": "stream",
     "text": [
      "Print Null:\n",
      "+---+---+---------+----+-----+-------+------+----+---+------+\n",
      "| id|url|publisher|time|title|content|length|date|ads|title_|\n",
      "+---+---+---------+----+-----+-------+------+----+---+------+\n",
      "|  0|  0|        0|   0|    0|      0|     0|   0|  0|     0|\n",
      "+---+---+---------+----+-----+-------+------+----+---+------+\n",
      "\n"
     ]
    }
   ],
   "source": [
    "# Count null\n",
    "print('Print Null:')\n",
    "df.select([F.count(F.when(F.col(c).isNull() | (F.col(c) == ''), c))\n",
    "           .alias(c) for c in df.columns]).show()"
   ]
  },
  {
   "cell_type": "markdown",
   "metadata": {},
   "source": [
    "**Print title columns:**"
   ]
  },
  {
   "cell_type": "code",
   "execution_count": 32,
   "metadata": {},
   "outputs": [
    {
     "data": {
      "text/html": [
       "<div>\n",
       "<style scoped>\n",
       "    .dataframe tbody tr th:only-of-type {\n",
       "        vertical-align: middle;\n",
       "    }\n",
       "\n",
       "    .dataframe tbody tr th {\n",
       "        vertical-align: top;\n",
       "    }\n",
       "\n",
       "    .dataframe thead th {\n",
       "        text-align: right;\n",
       "    }\n",
       "</style>\n",
       "<table border=\"1\" class=\"dataframe\">\n",
       "  <thead>\n",
       "    <tr style=\"text-align: right;\">\n",
       "      <th></th>\n",
       "      <th>id</th>\n",
       "      <th>title_</th>\n",
       "      <th>title</th>\n",
       "    </tr>\n",
       "  </thead>\n",
       "  <tbody>\n",
       "    <tr>\n",
       "      <th>0</th>\n",
       "      <td>28026778</td>\n",
       "      <td>THE INDUSTRIES EXHIBITION.</td>\n",
       "      <td>THE INDUSTRIES EXHIBITION. (Auckland Star, 31 December 1884)</td>\n",
       "    </tr>\n",
       "    <tr>\n",
       "      <th>1</th>\n",
       "      <td>33586528</td>\n",
       "      <td>FOOTBALL.</td>\n",
       "      <td>FOOTBALL. (Otago Daily Times 14-9-1901)</td>\n",
       "    </tr>\n",
       "    <tr>\n",
       "      <th>2</th>\n",
       "      <td>2462449</td>\n",
       "      <td>Page 7 Advertisements Column 1</td>\n",
       "      <td>Page 7 Advertisements Column 1 (Bruce Herald, 04 June 1878)</td>\n",
       "    </tr>\n",
       "    <tr>\n",
       "      <th>3</th>\n",
       "      <td>9776372</td>\n",
       "      <td>Island Bay Park R.C. Summer Meeting.</td>\n",
       "      <td>Island Bay Park R.C. Summer Meeting. (Star, 23 January 1886)</td>\n",
       "    </tr>\n",
       "    <tr>\n",
       "      <th>4</th>\n",
       "      <td>33572271</td>\n",
       "      <td>CITY POLICE COURT.</td>\n",
       "      <td>CITY POLICE COURT. (Otago Daily Times 17-4-1901)</td>\n",
       "    </tr>\n",
       "    <tr>\n",
       "      <th>5</th>\n",
       "      <td>2168592</td>\n",
       "      <td>Page 1 Advertisements Column 4</td>\n",
       "      <td>Page 1 Advertisements Column 4 (Grey River Argus, 19 September 1868)</td>\n",
       "    </tr>\n",
       "    <tr>\n",
       "      <th>6</th>\n",
       "      <td>9541213</td>\n",
       "      <td>The Temperature.</td>\n",
       "      <td>The Temperature. (Wanganui Herald, 06 January 1891)</td>\n",
       "    </tr>\n",
       "    <tr>\n",
       "      <th>7</th>\n",
       "      <td>29072792</td>\n",
       "      <td>Page 4 Advertisements Column 6</td>\n",
       "      <td>Page 4 Advertisements Column 6 (Daily Telegraph, 27 October 1893)</td>\n",
       "    </tr>\n",
       "    <tr>\n",
       "      <th>8</th>\n",
       "      <td>10172636</td>\n",
       "      <td>MAIL NOTICE.</td>\n",
       "      <td>MAIL NOTICE. (North Otago Times, 16 July 1889)</td>\n",
       "    </tr>\n",
       "    <tr>\n",
       "      <th>9</th>\n",
       "      <td>29772769</td>\n",
       "      <td>BURGLARS AT WORK.</td>\n",
       "      <td>BURGLARS AT WORK. (Wairarapa Daily Times, 21 June 1918)</td>\n",
       "    </tr>\n",
       "  </tbody>\n",
       "</table>\n",
       "</div>"
      ],
      "text/plain": [
       "         id                                title_  \\\n",
       "0  28026778            THE INDUSTRIES EXHIBITION.   \n",
       "1  33586528                             FOOTBALL.   \n",
       "2   2462449        Page 7 Advertisements Column 1   \n",
       "3   9776372  Island Bay Park R.C. Summer Meeting.   \n",
       "4  33572271                    CITY POLICE COURT.   \n",
       "5   2168592        Page 1 Advertisements Column 4   \n",
       "6   9541213                      The Temperature.   \n",
       "7  29072792        Page 4 Advertisements Column 6   \n",
       "8  10172636                          MAIL NOTICE.   \n",
       "9  29772769                     BURGLARS AT WORK.   \n",
       "\n",
       "                                                                  title  \n",
       "0          THE INDUSTRIES EXHIBITION. (Auckland Star, 31 December 1884)  \n",
       "1                               FOOTBALL. (Otago Daily Times 14-9-1901)  \n",
       "2           Page 7 Advertisements Column 1 (Bruce Herald, 04 June 1878)  \n",
       "3          Island Bay Park R.C. Summer Meeting. (Star, 23 January 1886)  \n",
       "4                      CITY POLICE COURT. (Otago Daily Times 17-4-1901)  \n",
       "5  Page 1 Advertisements Column 4 (Grey River Argus, 19 September 1868)  \n",
       "6                   The Temperature. (Wanganui Herald, 06 January 1891)  \n",
       "7     Page 4 Advertisements Column 6 (Daily Telegraph, 27 October 1893)  \n",
       "8                        MAIL NOTICE. (North Otago Times, 16 July 1889)  \n",
       "9               BURGLARS AT WORK. (Wairarapa Daily Times, 21 June 1918)  "
      ]
     },
     "execution_count": 32,
     "metadata": {},
     "output_type": "execute_result"
    }
   ],
   "source": [
    "df.sample(False, 0.00001).limit(10).select('id', 'title_', 'title').toPandas().head(10)"
   ]
  },
  {
   "cell_type": "markdown",
   "metadata": {},
   "source": [
    "### 3.4 Region"
   ]
  },
  {
   "cell_type": "markdown",
   "metadata": {},
   "source": [
    "**In the website of [Papers Past](https://paperspast.natlib.govt.nz), we could find the publisher-region relationship in the [Explore all newspapers](https://paperspast.natlib.govt.nz/newspapers/all#region) webpage. Based on this webpage, we could extract region feature from \"publisher\" column. Here we saved [the webpage](https://paperspast.natlib.govt.nz/newspapers/all#region) and crawling the publisher-region relationship into a dataframe for extract feature.**"
   ]
  },
  {
   "cell_type": "code",
   "execution_count": 13,
   "metadata": {},
   "outputs": [],
   "source": [
    "from bs4 import BeautifulSoup\n",
    "\n",
    "# read webpage\n",
    "path = r'../temp/Papers Past _ Explore all newspapers.html'\n",
    "with open(path, 'r') as f:\n",
    "    html = f.read()\n",
    "\n",
    "# get table \n",
    "soup = BeautifulSoup(html, \"html.parser\")\n",
    "table = soup.find('table', attrs={'class':'table datatable'})\n",
    "table_rows = table.find_all('tr')\n",
    "res = []\n",
    "for tr in table_rows:\n",
    "    td = tr.find_all('td')\n",
    "    row = [tr.text.strip() for tr in td if tr.text.strip()]\n",
    "    if row:\n",
    "        res.append(row)\n",
    "\n",
    "# transform table to pandas dataframe\n",
    "df_region = pd.DataFrame(res, columns=['publisher_', 'region', 'start_', 'end_']) # column_ means it will be drop later\n",
    "\n",
    "# transform pandas dataframe to pyspark dataframe\n",
    "df_region = spark.createDataFrame(df_region).orderBy('region')"
   ]
  },
  {
   "cell_type": "code",
   "execution_count": 34,
   "metadata": {},
   "outputs": [
    {
     "name": "stdout",
     "output_type": "stream",
     "text": [
      "Shape of dataframe: (148, 4)\n"
     ]
    },
    {
     "data": {
      "text/html": [
       "<div>\n",
       "<style scoped>\n",
       "    .dataframe tbody tr th:only-of-type {\n",
       "        vertical-align: middle;\n",
       "    }\n",
       "\n",
       "    .dataframe tbody tr th {\n",
       "        vertical-align: top;\n",
       "    }\n",
       "\n",
       "    .dataframe thead th {\n",
       "        text-align: right;\n",
       "    }\n",
       "</style>\n",
       "<table border=\"1\" class=\"dataframe\">\n",
       "  <thead>\n",
       "    <tr style=\"text-align: right;\">\n",
       "      <th></th>\n",
       "      <th>publisher_</th>\n",
       "      <th>region</th>\n",
       "      <th>start_</th>\n",
       "      <th>end_</th>\n",
       "    </tr>\n",
       "  </thead>\n",
       "  <tbody>\n",
       "    <tr>\n",
       "      <th>0</th>\n",
       "      <td>New Zealand Herald</td>\n",
       "      <td>Auckland</td>\n",
       "      <td>1863</td>\n",
       "      <td>1945</td>\n",
       "    </tr>\n",
       "    <tr>\n",
       "      <th>1</th>\n",
       "      <td>New Zealand Herald and Auckland Gazette</td>\n",
       "      <td>Auckland</td>\n",
       "      <td>1841</td>\n",
       "      <td>1842</td>\n",
       "    </tr>\n",
       "    <tr>\n",
       "      <th>2</th>\n",
       "      <td>Te Puke Times</td>\n",
       "      <td>Bay of Plenty</td>\n",
       "      <td>1913</td>\n",
       "      <td>1920</td>\n",
       "    </tr>\n",
       "    <tr>\n",
       "      <th>3</th>\n",
       "      <td>Ashburton Guardian</td>\n",
       "      <td>Canterbury</td>\n",
       "      <td>1879</td>\n",
       "      <td>1921</td>\n",
       "    </tr>\n",
       "    <tr>\n",
       "      <th>4</th>\n",
       "      <td>Globe</td>\n",
       "      <td>Canterbury</td>\n",
       "      <td>1874</td>\n",
       "      <td>1882</td>\n",
       "    </tr>\n",
       "    <tr>\n",
       "      <th>5</th>\n",
       "      <td>Lyttelton Times</td>\n",
       "      <td>Canterbury</td>\n",
       "      <td>1851</td>\n",
       "      <td>1914</td>\n",
       "    </tr>\n",
       "    <tr>\n",
       "      <th>6</th>\n",
       "      <td>North Canterbury Gazette</td>\n",
       "      <td>Canterbury</td>\n",
       "      <td>1932</td>\n",
       "      <td>1939</td>\n",
       "    </tr>\n",
       "    <tr>\n",
       "      <th>7</th>\n",
       "      <td>Matariki</td>\n",
       "      <td>Gisborne</td>\n",
       "      <td>1881</td>\n",
       "      <td>1881</td>\n",
       "    </tr>\n",
       "    <tr>\n",
       "      <th>8</th>\n",
       "      <td>Hastings Standard</td>\n",
       "      <td>Hawke's Bay</td>\n",
       "      <td>1896</td>\n",
       "      <td>1920</td>\n",
       "    </tr>\n",
       "    <tr>\n",
       "      <th>9</th>\n",
       "      <td>Hawke's Bay Herald</td>\n",
       "      <td>Hawke's Bay</td>\n",
       "      <td>1857</td>\n",
       "      <td>1904</td>\n",
       "    </tr>\n",
       "  </tbody>\n",
       "</table>\n",
       "</div>"
      ],
      "text/plain": [
       "                                publisher_         region start_  end_\n",
       "0                       New Zealand Herald       Auckland   1863  1945\n",
       "1  New Zealand Herald and Auckland Gazette       Auckland   1841  1842\n",
       "2                            Te Puke Times  Bay of Plenty   1913  1920\n",
       "3                       Ashburton Guardian     Canterbury   1879  1921\n",
       "4                                    Globe     Canterbury   1874  1882\n",
       "5                          Lyttelton Times     Canterbury   1851  1914\n",
       "6                 North Canterbury Gazette     Canterbury   1932  1939\n",
       "7                                 Matariki       Gisborne   1881  1881\n",
       "8                        Hastings Standard    Hawke's Bay   1896  1920\n",
       "9                       Hawke's Bay Herald    Hawke's Bay   1857  1904"
      ]
     },
     "execution_count": 34,
     "metadata": {},
     "output_type": "execute_result"
    }
   ],
   "source": [
    "print('Shape of dataframe: ({}, {})'.format(df_region.count(), len(df_region.columns)))\n",
    "df_region.sample(False, 0.1).toPandas().head(10)"
   ]
  },
  {
   "cell_type": "markdown",
   "metadata": {},
   "source": [
    "**Notice that in this publisher-region relationship dataframe, there are two publisher's name is not identical with the dataset: \"Bay Of Plenty Times\" mismatch by \"of\", \"New Zealand Free Lance\" mismatch by \"New Zeland\", so we modify the** `df_region` **to make it identical with dataset:**"
   ]
  },
  {
   "cell_type": "code",
   "execution_count": 35,
   "metadata": {},
   "outputs": [
    {
     "name": "stdout",
     "output_type": "stream",
     "text": [
      "+-------------------+-------------+------+----+\n",
      "|publisher_         |region       |start_|end_|\n",
      "+-------------------+-------------+------+----+\n",
      "|Bay of Plenty Times|Bay of Plenty|1872  |1949|\n",
      "|Free Lance         |Wellington   |1900  |1920|\n",
      "+-------------------+-------------+------+----+\n",
      "\n"
     ]
    }
   ],
   "source": [
    "(df_region.filter((df_region.publisher_ == 'Bay of Plenty Times')\n",
    "                 | (df_region.publisher_ == 'Free Lance'))\n",
    " .show(10, False))"
   ]
  },
  {
   "cell_type": "code",
   "execution_count": 14,
   "metadata": {},
   "outputs": [],
   "source": [
    "# update df_region for Bay Of Plenty Times and New Zealand Free Lance\n",
    "df_region = df_region.withColumn(\n",
    "    'publisher_',\n",
    "    F.when(\n",
    "        F.col('publisher_') == 'Bay of Plenty Times',\n",
    "        F.lit('Bay Of Plenty Times')\n",
    "    ).otherwise(\n",
    "        F.col('publisher_')\n",
    "    )\n",
    ").withColumn(\n",
    "    'publisher_',\n",
    "    F.when(\n",
    "        F.col('publisher_') == 'Free Lance',\n",
    "        F.lit('New Zealand Free Lance')\n",
    "    ).otherwise(\n",
    "        F.col('publisher_')\n",
    "    )\n",
    ")"
   ]
  },
  {
   "cell_type": "markdown",
   "metadata": {},
   "source": [
    "**Check if the two publishers' name were modified:**"
   ]
  },
  {
   "cell_type": "code",
   "execution_count": 37,
   "metadata": {},
   "outputs": [
    {
     "name": "stdout",
     "output_type": "stream",
     "text": [
      "+----------------------+-------------+------+----+\n",
      "|publisher_            |region       |start_|end_|\n",
      "+----------------------+-------------+------+----+\n",
      "|Bay Of Plenty Times   |Bay of Plenty|1872  |1949|\n",
      "|New Zealand Free Lance|Wellington   |1900  |1920|\n",
      "+----------------------+-------------+------+----+\n",
      "\n"
     ]
    }
   ],
   "source": [
    "(df_region.filter((df_region.publisher_ == 'Bay Of Plenty Times')\n",
    "                 | (df_region.publisher_ == 'New Zealand Free Lance'))\n",
    " .show(10, False))"
   ]
  },
  {
   "cell_type": "markdown",
   "metadata": {},
   "source": [
    "**Save the dataframe for later use:**"
   ]
  },
  {
   "cell_type": "code",
   "execution_count": 38,
   "metadata": {},
   "outputs": [],
   "source": [
    "path = r'../temp/region.csv'\n",
    "\n",
    "(df_region.select(F.col('publisher_'),\n",
    "                  F.col('region'))\n",
    " .toPandas()\n",
    " .to_csv(path, header=False, index=False, encoding='utf-8'))"
   ]
  },
  {
   "cell_type": "markdown",
   "metadata": {},
   "source": [
    "**Extract region column, and abandon redundant columns:**"
   ]
  },
  {
   "cell_type": "code",
   "execution_count": 15,
   "metadata": {},
   "outputs": [],
   "source": [
    "df = (df.join(df_region, df.publisher == df_region.publisher_, how='left')\n",
    "      .select(F.col('id'), \n",
    "              F.col('publisher'), \n",
    "              F.col('region'), \n",
    "              F.col('date'), \n",
    "              F.col('ads'), \n",
    "              F.col('title_').alias('title'), \n",
    "              F.col('content'))\n",
    "      .orderBy('id')\n",
    "      )"
   ]
  },
  {
   "cell_type": "markdown",
   "metadata": {},
   "source": [
    "**Imputing missing value in region column with \"unknwon\":**"
   ]
  },
  {
   "cell_type": "code",
   "execution_count": 16,
   "metadata": {},
   "outputs": [],
   "source": [
    "df = df.na.fill({'region':'unknown'})"
   ]
  },
  {
   "cell_type": "markdown",
   "metadata": {},
   "source": [
    "**Check if miss any field or element:**"
   ]
  },
  {
   "cell_type": "code",
   "execution_count": 16,
   "metadata": {},
   "outputs": [
    {
     "name": "stdout",
     "output_type": "stream",
     "text": [
      "Print Null and empty string:\n",
      "+---+---------+------+----+---+-----+-------+\n",
      "| id|publisher|region|date|ads|title|content|\n",
      "+---+---------+------+----+---+-----+-------+\n",
      "|  0|        0|     0|   0|  0|    0|      0|\n",
      "+---+---------+------+----+---+-----+-------+\n",
      "\n"
     ]
    }
   ],
   "source": [
    "print('Print Null and empty string:')\n",
    "df.select([F.count(F.when(F.col(c).isNull() | (F.col(c) == ''), c))\n",
    "           .alias(c) for c in df.columns]).show()"
   ]
  },
  {
   "cell_type": "markdown",
   "metadata": {},
   "source": [
    "**Check dataframe szie:**"
   ]
  },
  {
   "cell_type": "code",
   "execution_count": 17,
   "metadata": {},
   "outputs": [
    {
     "name": "stdout",
     "output_type": "stream",
     "text": [
      "Shape of dataframe: (15121970, 7)\n",
      "usable line percentage: 0.9037981952449434\n",
      "removed line number: 1609608\n"
     ]
    }
   ],
   "source": [
    "nrow = df.count()\n",
    "print('Shape of dataframe: ({}, {})'.format(nrow, len(df.columns)))\n",
    "print('usable line percentage:', nrow/nrow_raw)\n",
    "print('removed line number:', nrow_raw - nrow)   "
   ]
  },
  {
   "cell_type": "markdown",
   "metadata": {},
   "source": [
    "**After data wrangling, there are:**\n",
    "* 15,121,970 (90.4%) samples/rows/lines/documents usable, \n",
    "* 1,609,608 samples/rows/lines/documents were removed."
   ]
  },
  {
   "cell_type": "markdown",
   "metadata": {},
   "source": [
    "**Print schema and dataframe:**"
   ]
  },
  {
   "cell_type": "code",
   "execution_count": 18,
   "metadata": {},
   "outputs": [
    {
     "name": "stdout",
     "output_type": "stream",
     "text": [
      "root\n",
      " |-- id: integer (nullable = true)\n",
      " |-- publisher: string (nullable = true)\n",
      " |-- region: string (nullable = false)\n",
      " |-- date: date (nullable = true)\n",
      " |-- ads: boolean (nullable = true)\n",
      " |-- title: string (nullable = true)\n",
      " |-- content: string (nullable = true)\n",
      "\n"
     ]
    },
    {
     "data": {
      "text/html": [
       "<div>\n",
       "<style scoped>\n",
       "    .dataframe tbody tr th:only-of-type {\n",
       "        vertical-align: middle;\n",
       "    }\n",
       "\n",
       "    .dataframe tbody tr th {\n",
       "        vertical-align: top;\n",
       "    }\n",
       "\n",
       "    .dataframe thead th {\n",
       "        text-align: right;\n",
       "    }\n",
       "</style>\n",
       "<table border=\"1\" class=\"dataframe\">\n",
       "  <thead>\n",
       "    <tr style=\"text-align: right;\">\n",
       "      <th></th>\n",
       "      <th>id</th>\n",
       "      <th>publisher</th>\n",
       "      <th>region</th>\n",
       "      <th>date</th>\n",
       "      <th>ads</th>\n",
       "      <th>title</th>\n",
       "      <th>content</th>\n",
       "    </tr>\n",
       "  </thead>\n",
       "  <tbody>\n",
       "    <tr>\n",
       "      <th>0</th>\n",
       "      <td>2072186</td>\n",
       "      <td>Hawera &amp; Normanby Star</td>\n",
       "      <td>Taranaki</td>\n",
       "      <td>1882-10-23</td>\n",
       "      <td>False</td>\n",
       "      <td>LARGE BANK ROBBERY.</td>\n",
       "      <td>b\"LARGE BANK ROBBERY.[per united press association.]NELSON, This Day.A warrant has been issued for the arrest of a y...</td>\n",
       "    </tr>\n",
       "    <tr>\n",
       "      <th>1</th>\n",
       "      <td>2218007</td>\n",
       "      <td>Hawera &amp; Normanby Star</td>\n",
       "      <td>Taranaki</td>\n",
       "      <td>1883-11-23</td>\n",
       "      <td>True</td>\n",
       "      <td>Page 4 Advertisements Column 4</td>\n",
       "      <td>b'IVrfrAIRE SAW AND PLANING JLI MILLS. The proprietors are now prepared to execute orders in every description of sa...</td>\n",
       "    </tr>\n",
       "    <tr>\n",
       "      <th>2</th>\n",
       "      <td>2228342</td>\n",
       "      <td>Inangahua Times</td>\n",
       "      <td>West Coast</td>\n",
       "      <td>1883-04-09</td>\n",
       "      <td>True</td>\n",
       "      <td>Page 4 Advertisements Column 2</td>\n",
       "      <td>b'SOUTHERN CROSS HOTEL, Bi: 0 A U\\\\V AY, KK E LTON . X LL ALES, WINES, SPIHITS | aiid.COiiDlALS. kepi and sold ii. t...</td>\n",
       "    </tr>\n",
       "    <tr>\n",
       "      <th>3</th>\n",
       "      <td>2327525</td>\n",
       "      <td>Hawke's Bay Herald</td>\n",
       "      <td>Hawke's Bay</td>\n",
       "      <td>1870-09-13</td>\n",
       "      <td>False</td>\n",
       "      <td>DEPARTURES.</td>\n",
       "      <td>DEPARTURES.SEPTEMBER. B— Rangatira, s.s., 174 tons, Rennor, for Wei- , liniiton. ; , 11— Keera, s.s., 158 tons, Bain...</td>\n",
       "    </tr>\n",
       "    <tr>\n",
       "      <th>4</th>\n",
       "      <td>2421990</td>\n",
       "      <td>Hawera &amp; Normanby Star</td>\n",
       "      <td>Taranaki</td>\n",
       "      <td>1884-02-25</td>\n",
       "      <td>False</td>\n",
       "      <td>AFFAIRS IN EGYPT. THE FALL OF TOKAR.</td>\n",
       "      <td>AFFAIRS IN EGYPT. THE FALL OF TOKAR.CAIRO, February 22. The garrison of Tokar has yielded to the rebels. Telegrams t...</td>\n",
       "    </tr>\n",
       "    <tr>\n",
       "      <th>5</th>\n",
       "      <td>2422173</td>\n",
       "      <td>Bruce Herald</td>\n",
       "      <td>Otago</td>\n",
       "      <td>1878-03-22</td>\n",
       "      <td>True</td>\n",
       "      <td>Page 8 Advertisements Column 1</td>\n",
       "      <td>s^jDPHEDDT A3&gt;V^RTISBMENTB;~^^: -_ i . ~* \\ ''V\\T, UMN NOVELTIES \"^ ' -\" 1878. ' JPIRST EXPOSITION. HERBERr, HATNES,...</td>\n",
       "    </tr>\n",
       "    <tr>\n",
       "      <th>6</th>\n",
       "      <td>2798937</td>\n",
       "      <td>Evening Post</td>\n",
       "      <td>Wellington</td>\n",
       "      <td>1898-05-18</td>\n",
       "      <td>True</td>\n",
       "      <td>Page 6 Advertisements Column 1</td>\n",
       "      <td>A SLUMP in blankets is advertised by Mr. C. Smith, the Cash Draper, Cuba-stroot, he having purchased eight bales tha...</td>\n",
       "    </tr>\n",
       "    <tr>\n",
       "      <th>7</th>\n",
       "      <td>3299373</td>\n",
       "      <td>Grey River Argus</td>\n",
       "      <td>West Coast</td>\n",
       "      <td>1874-10-20</td>\n",
       "      <td>False</td>\n",
       "      <td>THE STORY OF THE EXILES OF NEW CALEDONIA.</td>\n",
       "      <td>THE STORY OF THE EXILES OF NEW CALEDONIA.THE ISLE OF PINES. By Paschal Grousset. [specially translated for the \" dai...</td>\n",
       "    </tr>\n",
       "    <tr>\n",
       "      <th>8</th>\n",
       "      <td>3323969</td>\n",
       "      <td>Clutha Leader</td>\n",
       "      <td>Otago</td>\n",
       "      <td>1896-09-04</td>\n",
       "      <td>False</td>\n",
       "      <td>CLUTHA &amp; MATAU A.&amp; P.  SOCIETY.</td>\n",
       "      <td>CLUTHA &amp; MATAU A.&amp; P. SOCIETY.The annual meeting of the members. of the above association was held in the Borough Co...</td>\n",
       "    </tr>\n",
       "    <tr>\n",
       "      <th>9</th>\n",
       "      <td>3879701</td>\n",
       "      <td>Inangahua Times</td>\n",
       "      <td>West Coast</td>\n",
       "      <td>1895-03-13</td>\n",
       "      <td>False</td>\n",
       "      <td>TAKING HIS MEASURE.\"</td>\n",
       "      <td>\"TAKING HIS MEASURE.\"A very high-toned-looking young man in •squisite moustache, loud plaid clothes, red necktie, lo...</td>\n",
       "    </tr>\n",
       "    <tr>\n",
       "      <th>10</th>\n",
       "      <td>4188482</td>\n",
       "      <td>North Otago Times</td>\n",
       "      <td>Otago</td>\n",
       "      <td>1875-04-03</td>\n",
       "      <td>False</td>\n",
       "      <td>SYDNEY.  March 27.</td>\n",
       "      <td>SYDNEY. March 27.A Toteof L5000 has been ptmed towards the Philadelphia Exhibition, f G-unboati are â˘ searching fo...</td>\n",
       "    </tr>\n",
       "    <tr>\n",
       "      <th>11</th>\n",
       "      <td>4298519</td>\n",
       "      <td>Taranaki Herald</td>\n",
       "      <td>Taranaki</td>\n",
       "      <td>1869-10-02</td>\n",
       "      <td>False</td>\n",
       "      <td>MAIL NOTICE.</td>\n",
       "      <td>MAIL NOTICE.Ukiis irHI be closed at the Chief Foil Office, Brcag ham -street, as follows :â For Auckland and North...</td>\n",
       "    </tr>\n",
       "    <tr>\n",
       "      <th>12</th>\n",
       "      <td>4510703</td>\n",
       "      <td>Feilding Star</td>\n",
       "      <td>Manawatu-Wanganui</td>\n",
       "      <td>1895-09-18</td>\n",
       "      <td>False</td>\n",
       "      <td>Live Cattle Trade.</td>\n",
       "      <td>Live Cattle Trade.(Pee Press Association.) London, September 16. Experts consider the cattle brought by tbe Southern...</td>\n",
       "    </tr>\n",
       "    <tr>\n",
       "      <th>13</th>\n",
       "      <td>4568778</td>\n",
       "      <td>Grey River Argus</td>\n",
       "      <td>West Coast</td>\n",
       "      <td>1877-10-09</td>\n",
       "      <td>False</td>\n",
       "      <td>SOUTH BRITISH INSURANCE CO.</td>\n",
       "      <td>SOUTH BRITISH INSURANCE CO.Auckland, Oct. 8. At the South British Insurance halfyearly meeting the report showed tha...</td>\n",
       "    </tr>\n",
       "    <tr>\n",
       "      <th>14</th>\n",
       "      <td>4575434</td>\n",
       "      <td>New Zealand Tablet</td>\n",
       "      <td>unknown</td>\n",
       "      <td>1890-05-30</td>\n",
       "      <td>True</td>\n",
       "      <td>Page 6 Advertisements Column 1</td>\n",
       "      <td>ANDREW LEES, IMPORTER, 48 GEORGE STREET, DUNEDIN. GLASS, PAPERHANGINGS. PAINTS, PICTURE - FRAME MOULDINGS, and ALL K...</td>\n",
       "    </tr>\n",
       "    <tr>\n",
       "      <th>15</th>\n",
       "      <td>4694613</td>\n",
       "      <td>Waikato Times</td>\n",
       "      <td>Waikato</td>\n",
       "      <td>1880-10-16</td>\n",
       "      <td>True</td>\n",
       "      <td>Page 3 Advertisements Column 4</td>\n",
       "      <td>b\"Notices/Your Life's in Banger.GEORGE E. CLARK,Land and Estate Agent, DUKE-STREET, CAMBRIDGE.For Sale.The underment...</td>\n",
       "    </tr>\n",
       "    <tr>\n",
       "      <th>16</th>\n",
       "      <td>4875775</td>\n",
       "      <td>Waikato Times</td>\n",
       "      <td>Waikato</td>\n",
       "      <td>1881-01-22</td>\n",
       "      <td>False</td>\n",
       "      <td>Waikato Times  AND  THAMES VALLEY GAZETTE.</td>\n",
       "      <td>b'Waikato Times AND THAMES VALLEY GAZETTE.iDqmi .uul e\\\\art justice to all men, Ut wludmcr stalo or poisim\\'iuii, ic...</td>\n",
       "    </tr>\n",
       "    <tr>\n",
       "      <th>17</th>\n",
       "      <td>4918986</td>\n",
       "      <td>Evening Post</td>\n",
       "      <td>Wellington</td>\n",
       "      <td>1937-12-03</td>\n",
       "      <td>False</td>\n",
       "      <td>OBITUARY</td>\n",
       "      <td>OBITUARYMR. JOHN H. YOUNG *Mr. John H. Young, the New Zealand artist, whose death in London was reported in a Sydney...</td>\n",
       "    </tr>\n",
       "    <tr>\n",
       "      <th>18</th>\n",
       "      <td>5057201</td>\n",
       "      <td>North Otago Times</td>\n",
       "      <td>Otago</td>\n",
       "      <td>1877-09-07</td>\n",
       "      <td>False</td>\n",
       "      <td>MAIL NOTICE.</td>\n",
       "      <td>MAIL NOTICE.Mails for Australian Colonies, -per Wakatipu, via Chrintchuroh, will dote at this omoÂŤ, To-day, Friday,...</td>\n",
       "    </tr>\n",
       "    <tr>\n",
       "      <th>19</th>\n",
       "      <td>5350940</td>\n",
       "      <td>Daily Southern Cross</td>\n",
       "      <td>Auckland</td>\n",
       "      <td>1866-03-31</td>\n",
       "      <td>True</td>\n",
       "      <td>Page 7 Advertisements Column 3</td>\n",
       "      <td>T. &amp; S. MORRIN (Successors to Cruickshank, Smart, and Co.) HAVE ON SAMS fVTAGO GROWN PERENNIAL RYE GRASS\\J SEED Red ...</td>\n",
       "    </tr>\n",
       "  </tbody>\n",
       "</table>\n",
       "</div>"
      ],
      "text/plain": [
       "         id               publisher             region        date    ads  \\\n",
       "0   2072186  Hawera & Normanby Star           Taranaki  1882-10-23  False   \n",
       "1   2218007  Hawera & Normanby Star           Taranaki  1883-11-23   True   \n",
       "2   2228342         Inangahua Times         West Coast  1883-04-09   True   \n",
       "3   2327525      Hawke's Bay Herald        Hawke's Bay  1870-09-13  False   \n",
       "4   2421990  Hawera & Normanby Star           Taranaki  1884-02-25  False   \n",
       "5   2422173            Bruce Herald              Otago  1878-03-22   True   \n",
       "6   2798937            Evening Post         Wellington  1898-05-18   True   \n",
       "7   3299373        Grey River Argus         West Coast  1874-10-20  False   \n",
       "8   3323969           Clutha Leader              Otago  1896-09-04  False   \n",
       "9   3879701         Inangahua Times         West Coast  1895-03-13  False   \n",
       "10  4188482       North Otago Times              Otago  1875-04-03  False   \n",
       "11  4298519         Taranaki Herald           Taranaki  1869-10-02  False   \n",
       "12  4510703           Feilding Star  Manawatu-Wanganui  1895-09-18  False   \n",
       "13  4568778        Grey River Argus         West Coast  1877-10-09  False   \n",
       "14  4575434      New Zealand Tablet            unknown  1890-05-30   True   \n",
       "15  4694613           Waikato Times            Waikato  1880-10-16   True   \n",
       "16  4875775           Waikato Times            Waikato  1881-01-22  False   \n",
       "17  4918986            Evening Post         Wellington  1937-12-03  False   \n",
       "18  5057201       North Otago Times              Otago  1877-09-07  False   \n",
       "19  5350940    Daily Southern Cross           Auckland  1866-03-31   True   \n",
       "\n",
       "                                         title  \\\n",
       "0                          LARGE BANK ROBBERY.   \n",
       "1               Page 4 Advertisements Column 4   \n",
       "2               Page 4 Advertisements Column 2   \n",
       "3                                  DEPARTURES.   \n",
       "4         AFFAIRS IN EGYPT. THE FALL OF TOKAR.   \n",
       "5               Page 8 Advertisements Column 1   \n",
       "6               Page 6 Advertisements Column 1   \n",
       "7    THE STORY OF THE EXILES OF NEW CALEDONIA.   \n",
       "8              CLUTHA & MATAU A.& P.  SOCIETY.   \n",
       "9                         TAKING HIS MEASURE.\"   \n",
       "10                          SYDNEY.  March 27.   \n",
       "11                                MAIL NOTICE.   \n",
       "12                          Live Cattle Trade.   \n",
       "13                 SOUTH BRITISH INSURANCE CO.   \n",
       "14              Page 6 Advertisements Column 1   \n",
       "15              Page 3 Advertisements Column 4   \n",
       "16  Waikato Times  AND  THAMES VALLEY GAZETTE.   \n",
       "17                                    OBITUARY   \n",
       "18                                MAIL NOTICE.   \n",
       "19              Page 7 Advertisements Column 3   \n",
       "\n",
       "                                                                                                                    content  \n",
       "0   b\"LARGE BANK ROBBERY.[per united press association.]NELSON, This Day.A warrant has been issued for the arrest of a y...  \n",
       "1   b'IVrfrAIRE SAW AND PLANING JLI MILLS. The proprietors are now prepared to execute orders in every description of sa...  \n",
       "2   b'SOUTHERN CROSS HOTEL, Bi: 0 A U\\\\V AY, KK E LTON . X LL ALES, WINES, SPIHITS | aiid.COiiDlALS. kepi and sold ii. t...  \n",
       "3   DEPARTURES.SEPTEMBER. B— Rangatira, s.s., 174 tons, Rennor, for Wei- , liniiton. ; , 11— Keera, s.s., 158 tons, Bain...  \n",
       "4   AFFAIRS IN EGYPT. THE FALL OF TOKAR.CAIRO, February 22. The garrison of Tokar has yielded to the rebels. Telegrams t...  \n",
       "5   s^jDPHEDDT A3>V^RTISBMENTB;~^^: -_ i . ~* \\ ''V\\T, UMN NOVELTIES \"^ ' -\" 1878. ' JPIRST EXPOSITION. HERBERr, HATNES,...  \n",
       "6   A SLUMP in blankets is advertised by Mr. C. Smith, the Cash Draper, Cuba-stroot, he having purchased eight bales tha...  \n",
       "7   THE STORY OF THE EXILES OF NEW CALEDONIA.THE ISLE OF PINES. By Paschal Grousset. [specially translated for the \" dai...  \n",
       "8   CLUTHA & MATAU A.& P. SOCIETY.The annual meeting of the members. of the above association was held in the Borough Co...  \n",
       "9   \"TAKING HIS MEASURE.\"A very high-toned-looking young man in •squisite moustache, loud plaid clothes, red necktie, lo...  \n",
       "10  SYDNEY. March 27.A Toteof L5000 has been ptmed towards the Philadelphia Exhibition, f G-unboati are â˘ searching fo...  \n",
       "11  MAIL NOTICE.Ukiis irHI be closed at the Chief Foil Office, Brcag ham -street, as follows :â For Auckland and North...  \n",
       "12  Live Cattle Trade.(Pee Press Association.) London, September 16. Experts consider the cattle brought by tbe Southern...  \n",
       "13  SOUTH BRITISH INSURANCE CO.Auckland, Oct. 8. At the South British Insurance halfyearly meeting the report showed tha...  \n",
       "14  ANDREW LEES, IMPORTER, 48 GEORGE STREET, DUNEDIN. GLASS, PAPERHANGINGS. PAINTS, PICTURE - FRAME MOULDINGS, and ALL K...  \n",
       "15  b\"Notices/Your Life's in Banger.GEORGE E. CLARK,Land and Estate Agent, DUKE-STREET, CAMBRIDGE.For Sale.The underment...  \n",
       "16  b'Waikato Times AND THAMES VALLEY GAZETTE.iDqmi .uul e\\\\art justice to all men, Ut wludmcr stalo or poisim\\'iuii, ic...  \n",
       "17  OBITUARYMR. JOHN H. YOUNG *Mr. John H. Young, the New Zealand artist, whose death in London was reported in a Sydney...  \n",
       "18  MAIL NOTICE.Mails for Australian Colonies, -per Wakatipu, via Chrintchuroh, will dote at this omoÂŤ, To-day, Friday,...  \n",
       "19  T. & S. MORRIN (Successors to Cruickshank, Smart, and Co.) HAVE ON SAMS fVTAGO GROWN PERENNIAL RYE GRASS\\J SEED Red ...  "
      ]
     },
     "execution_count": 18,
     "metadata": {},
     "output_type": "execute_result"
    }
   ],
   "source": [
    "df.printSchema()\n",
    "df.sample(False, 0.00001).limit(20).toPandas().head(20)"
   ]
  },
  {
   "cell_type": "markdown",
   "metadata": {},
   "source": [
    "## 4 Save Dataset"
   ]
  },
  {
   "cell_type": "markdown",
   "metadata": {},
   "source": [
    "**This dataframe would be our final dataset to generate training data and subset to analyze and visualize, let's save it as compressed csv file to save time for later processes.**"
   ]
  },
  {
   "cell_type": "code",
   "execution_count": 19,
   "metadata": {},
   "outputs": [],
   "source": [
    "path = r'../data/dataset/clean/'\n",
    "df.write.csv(path, mode='overwrite', compression='gzip')"
   ]
  },
  {
   "cell_type": "markdown",
   "metadata": {},
   "source": [
    "**Check the clean dataset size:**"
   ]
  },
  {
   "cell_type": "code",
   "execution_count": 20,
   "metadata": {},
   "outputs": [
    {
     "name": "stdout",
     "output_type": "stream",
     "text": [
      "raw   dataset size: 33G\n",
      "clean dataset size: 14G\n"
     ]
    }
   ],
   "source": [
    "path = r'../data/papers_past'\n",
    "print('raw   dataset size:', subprocess.check_output(['du','-sh', path]).split()[0].decode('utf-8'))\n",
    "path = r'../data/dataset/clean'\n",
    "print('clean dataset size:', subprocess.check_output(['du','-sh', path]).split()[0].decode('utf-8'))"
   ]
  },
  {
   "cell_type": "markdown",
   "metadata": {},
   "source": [
    "**After processing and compressing, the dataset reduce from 33GB to 14GB.**"
   ]
  },
  {
   "cell_type": "markdown",
   "metadata": {},
   "source": [
    "---"
   ]
  }
 ],
 "metadata": {
  "kernelspec": {
   "display_name": "Python 3",
   "language": "python",
   "name": "python3"
  },
  "language_info": {
   "codemirror_mode": {
    "name": "ipython",
    "version": 3
   },
   "file_extension": ".py",
   "mimetype": "text/x-python",
   "name": "python",
   "nbconvert_exporter": "python",
   "pygments_lexer": "ipython3",
   "version": "3.5.2"
  }
 },
 "nbformat": 4,
 "nbformat_minor": 2
}
