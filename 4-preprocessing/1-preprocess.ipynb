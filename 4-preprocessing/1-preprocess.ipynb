{
 "cells": [
  {
   "cell_type": "markdown",
   "metadata": {},
   "source": [
    "# Part 4 - Texts Preprocessing\n",
    "---\n",
    "### Papers Past Topic Modeling\n",
    "<br/>\n",
    "\n",
    "Ben Faulks - bmf43@uclive.ac.nz\n",
    "\n",
    "Xiandong Cai - xca24@uclive.ac.nz\n",
    "\n",
    "Yujie Cui - ycu23@uclive.ac.nz"
   ]
  },
  {
   "cell_type": "code",
   "execution_count": 1,
   "metadata": {},
   "outputs": [
    {
     "name": "stdout",
     "output_type": "stream",
     "text": [
      "[('spark.app.id', 'local-1548718587854'),\n",
      " ('spark.driver.host', 'x99.hub'),\n",
      " ('spark.driver.port', '38880'),\n",
      " ('spark.app.name', 'local'),\n",
      " ('spark.rdd.compress', 'True'),\n",
      " ('spark.serializer.objectStreamReset', '100'),\n",
      " ('spark.driver.memory', '62g'),\n",
      " ('spark.master', 'local[*]'),\n",
      " ('spark.executor.id', 'driver'),\n",
      " ('spark.submit.deployMode', 'client'),\n",
      " ('spark.ui.showConsoleProgress', 'true'),\n",
      " ('spark.driver.cores', '6'),\n",
      " ('spark.driver.maxResultSize', '4g')]\n"
     ]
    },
    {
     "data": {
      "text/html": [
       "\n",
       "        <div>\n",
       "            <p><b>SparkContext</b></p>\n",
       "\n",
       "            <p><a href=\"http://x99.hub:4040\">Spark UI</a></p>\n",
       "\n",
       "            <dl>\n",
       "              <dt>Version</dt>\n",
       "                <dd><code>v2.4.0</code></dd>\n",
       "              <dt>Master</dt>\n",
       "                <dd><code>local[*]</code></dd>\n",
       "              <dt>AppName</dt>\n",
       "                <dd><code>local</code></dd>\n",
       "            </dl>\n",
       "        </div>\n",
       "        "
      ],
      "text/plain": [
       "<SparkContext master=local[*] appName=local>"
      ]
     },
     "execution_count": 1,
     "metadata": {},
     "output_type": "execute_result"
    }
   ],
   "source": [
    "import os, sys, subprocess\n",
    "sys.path.insert(0, '../utils') # for import customed modules\n",
    "from symspellpy.symspellpy import SymSpell, Verbosity\n",
    "import pandas as pd\n",
    "from pyspark.sql import functions as F\n",
    "from pyspark.sql.types import *\n",
    "from utils import conf_pyspark, load_dataset\n",
    "\n",
    "# intiate PySpark\n",
    "sc, spark = conf_pyspark()\n",
    "\n",
    "sc"
   ]
  },
  {
   "cell_type": "markdown",
   "metadata": {},
   "source": [
    "**After wangling and exploring the dataset, we need to preprocess the dataset for training topic modeling appropriately. There are several questions we need consider:**\n",
    "\n",
    "* Did the texts well extracted from images? If the quality of the texts is poor, the result of topic modeling will not expect good.\n",
    "* Are there methods to improve the quality of texts? Better texts would produce more accurate topic models.\n",
    "* There are plenty of NLP preprocesses, which preprocesses should we perform? Well preprocessed texts could reduce the matrix to computing and could be helpful for training topic models.   "
   ]
  },
  {
   "cell_type": "markdown",
   "metadata": {},
   "source": [
    "## 1 Load Data"
   ]
  },
  {
   "cell_type": "markdown",
   "metadata": {},
   "source": [
    "Load clean dataset:"
   ]
  },
  {
   "cell_type": "code",
   "execution_count": 2,
   "metadata": {},
   "outputs": [
    {
     "data": {
      "text/html": [
       "<div>\n",
       "<style scoped>\n",
       "    .dataframe tbody tr th:only-of-type {\n",
       "        vertical-align: middle;\n",
       "    }\n",
       "\n",
       "    .dataframe tbody tr th {\n",
       "        vertical-align: top;\n",
       "    }\n",
       "\n",
       "    .dataframe thead th {\n",
       "        text-align: right;\n",
       "    }\n",
       "</style>\n",
       "<table border=\"1\" class=\"dataframe\">\n",
       "  <thead>\n",
       "    <tr style=\"text-align: right;\">\n",
       "      <th></th>\n",
       "      <th>id</th>\n",
       "      <th>publisher</th>\n",
       "      <th>region</th>\n",
       "      <th>date</th>\n",
       "      <th>ads</th>\n",
       "      <th>title</th>\n",
       "      <th>content</th>\n",
       "    </tr>\n",
       "  </thead>\n",
       "  <tbody>\n",
       "    <tr>\n",
       "      <th>0</th>\n",
       "      <td>1854213</td>\n",
       "      <td>Albertland Gazette</td>\n",
       "      <td>Auckland</td>\n",
       "      <td>1862-06-14</td>\n",
       "      <td>False</td>\n",
       "      <td>TO OUR HEADERS.</td>\n",
       "      <td>TO OUR HEADERS.; We have to apologize to our. ...</td>\n",
       "    </tr>\n",
       "    <tr>\n",
       "      <th>1</th>\n",
       "      <td>1854214</td>\n",
       "      <td>Albertland Gazette</td>\n",
       "      <td>Auckland</td>\n",
       "      <td>1862-06-14</td>\n",
       "      <td>False</td>\n",
       "      <td>GOD REST THEE, WEARY TRAVELLER.\"</td>\n",
       "      <td>\"GOD REST THEE, WEARY TRAVELLER.\";■ So spake a...</td>\n",
       "    </tr>\n",
       "    <tr>\n",
       "      <th>2</th>\n",
       "      <td>1854215</td>\n",
       "      <td>Albertland Gazette</td>\n",
       "      <td>Auckland</td>\n",
       "      <td>1862-06-14</td>\n",
       "      <td>True</td>\n",
       "      <td>Page 1 Advertisements Column 1</td>\n",
       "      <td>v-/ .ADVERTISEMENTS. •- I Advertisements will ...</td>\n",
       "    </tr>\n",
       "    <tr>\n",
       "      <th>3</th>\n",
       "      <td>1854216</td>\n",
       "      <td>Albertland Gazette</td>\n",
       "      <td>Auckland</td>\n",
       "      <td>1862-06-14</td>\n",
       "      <td>False</td>\n",
       "      <td>Correspondence.</td>\n",
       "      <td>Correspondence.Ship \" MatildavWattenbacti;\" Ju...</td>\n",
       "    </tr>\n",
       "    <tr>\n",
       "      <th>4</th>\n",
       "      <td>1854218</td>\n",
       "      <td>Albertland Gazette</td>\n",
       "      <td>Auckland</td>\n",
       "      <td>1862-06-14</td>\n",
       "      <td>False</td>\n",
       "      <td>General News.</td>\n",
       "      <td>General News.lV AMus£MENTS.--^Our record of sm...</td>\n",
       "    </tr>\n",
       "  </tbody>\n",
       "</table>\n",
       "</div>"
      ],
      "text/plain": [
       "        id           publisher    region        date    ads  \\\n",
       "0  1854213  Albertland Gazette  Auckland  1862-06-14  False   \n",
       "1  1854214  Albertland Gazette  Auckland  1862-06-14  False   \n",
       "2  1854215  Albertland Gazette  Auckland  1862-06-14   True   \n",
       "3  1854216  Albertland Gazette  Auckland  1862-06-14  False   \n",
       "4  1854218  Albertland Gazette  Auckland  1862-06-14  False   \n",
       "\n",
       "                              title  \\\n",
       "0                   TO OUR HEADERS.   \n",
       "1  GOD REST THEE, WEARY TRAVELLER.\"   \n",
       "2    Page 1 Advertisements Column 1   \n",
       "3                   Correspondence.   \n",
       "4                     General News.   \n",
       "\n",
       "                                             content  \n",
       "0  TO OUR HEADERS.; We have to apologize to our. ...  \n",
       "1  \"GOD REST THEE, WEARY TRAVELLER.\";■ So spake a...  \n",
       "2  v-/ .ADVERTISEMENTS. •- I Advertisements will ...  \n",
       "3  Correspondence.Ship \" MatildavWattenbacti;\" Ju...  \n",
       "4  General News.lV AMus£MENTS.--^Our record of sm...  "
      ]
     },
     "execution_count": 2,
     "metadata": {},
     "output_type": "execute_result"
    }
   ],
   "source": [
    "df = load_dataset('clean', spark)\n",
    "df.limit(5).toPandas().head()"
   ]
  },
  {
   "cell_type": "markdown",
   "metadata": {},
   "source": [
    "## 2 OCR Quality"
   ]
  },
  {
   "cell_type": "markdown",
   "metadata": {},
   "source": [
    "**The most important factor for topic modeling is the quality of corpus/corpora. Let us check the quality of the text in the dataset to see if there any space to improve.** \n",
    "\n",
    "**We select the first article of Lyttelton Times as the experiment object, the image looks like below. The original image is [here](https://paperspast.natlib.govt.nz/imageserver/newspapers/P29pZD1MVDE4NTEwODA5LjIuMi4xJmNvbG9yPTMyJmV4dD1naWYmYXJlYT0x)**"
   ]
  },
  {
   "cell_type": "markdown",
   "metadata": {},
   "source": [
    "![img](img.jpg)"
   ]
  },
  {
   "cell_type": "markdown",
   "metadata": {},
   "source": [
    "**Now we use [tesseract](https://github.com/tesseract-ocr/tesseract) to do OCR job on the image.**\n",
    "\n",
    ">Tesseract was developed as a proprietary software by Hewlett Packard Labs. In 2005, it was open sourced by HP in collaboration with the University of Nevada, Las Vegas. Since 2006 it has been actively developed by Google and many open source contributors."
   ]
  },
  {
   "cell_type": "code",
   "execution_count": 3,
   "metadata": {},
   "outputs": [
    {
     "name": "stderr",
     "output_type": "stream",
     "text": [
      "Tesseract Open Source OCR Engine v4.0.0-241-ga6da6 with Leptonica\n",
      "Warning: Invalid resolution 0 dpi. Using 70 instead.\n",
      "Estimating resolution as 366\n"
     ]
    }
   ],
   "source": [
    "%%bash\n",
    "\n",
    "tesseract ../temp/img.gif ../temp/ocr -l eng --oem 1 --psm 3 # save OCR result to output.txt"
   ]
  },
  {
   "cell_type": "code",
   "execution_count": 4,
   "metadata": {},
   "outputs": [
    {
     "name": "stdout",
     "output_type": "stream",
     "text": [
      "HE price of Advertisements in this Paper is, threepence a line for the first insertion,  and a penny a line for every subsequent one. All communications to the Editor are re- quested to be addressed to the Office of the Lytretron Tries, Section 2, Norwich Quay, Lyttelton, where the Paper may be obtained. - Advertisements must be left at this Office before Thursday evening, for insertion of the same week, and must be paid for at the time of  insertion.    NOTICE,  IS EXCELLENCY SIR GEORGE GREY having declared that he will raise no objection to the erection of Canterbury into a separate Province, if the power be left in his hands, and if the settlers in Canterbury desire it, we, the undersigned, Magistrates of the dis- trict, think it right that opportunities should be given of ascertaining the wishes of the people on this important subject. For this purpose Public Meetings will be held at the Mitre Hotel, Lyttelton, on Wednesday, Aug. 13, at Two o’clock, p.M.; and at the Golden Fleece Hotel, Christchurch, on Thursday, Aug. 14, at 12 o’clock, noon. .  J.R.Goprry, R. M. W.-G. Brirran, J.P. H. G. Gountann, J.P. H.Putruirs, J. P. H.J. Tancrep, J.P, J.C. W. Russert, J.P. Wn. Deans, J.P. - BR. Ruopss, J.P. E. J. Waxxriern, J.P.  Lyttelton, July 28, 1851.  A PUBLIC DINNER: ILL be held at the MITRE HOTEL,  -Y™ Lyttelton, on Wednesday, the 13th inst., to-commemorate the holding of the First Pub- lic Meeting in the Canterbury Settlement.  The Chair will be taken by J. R. Gopuey, Esq., at half-past six o’clock precisely.  Tickets, price 12s. 6d. each, may be obtained at the Mitre Hotel, and from the following Gentlemen, who have consented to act as Stewards on the occasion.  Messrs. Epwarp JernincHam WAKEFIELD, Dr. Downatp, Henry Le Cren, E. M. Tewrrar. Ricnarp BEamisH, RicHarp WormMaxp. Wm. Tayror.  PUBLIC NOTICE.  OTICE IS HEREBY GIVEN, that all parties squatting on any of the town reserves, or unappropriated town sections of Christchurch or Lyttelton, will be required to remove from off the land, on or before the first of September next. Parties will be allowed to remove the materials of any buildings which they may have erected: on such land, or should -shey prefer it, the Association will take them from them at a valuation. ,  By order of the Agent of the Canterbury Association. W.G. Breirtan.  £5 REWARD. HEREAS many of the boundary  marks and pegs of the Town and Coun- Uy sections have been wantonly removed or destroyed, This is to give notice that the above reward will be given to any person who will give such information at the Land-Office, Christchurch, as will lead to the conviction of parties removing, obliterating, or destroying Trigonometrical Stations, Boundary Pegs of Sections, or any other marks connected with the surveys. By order .of the Agent of the Canterbury  Association, W.G.B e « DRITT . ‘Land-Office, Christchurch, as  July 17,1851,   \n"
     ]
    }
   ],
   "source": [
    "path = r'../temp/ocr.txt'\n",
    "with open(path) as f:\n",
    "    content_ocr = ' '.join([x.strip() for x in f.readlines()])\n",
    "\n",
    "print(content_ocr)"
   ]
  },
  {
   "cell_type": "markdown",
   "metadata": {},
   "source": [
    "**Comparing above text to the same article in the dataset shown below, we see both of text are high quality, only slight differences. So the dataset should be the best we can get from the raw images, if the topics quality is not as good as we expected, the dataset reason is out of our considering.**"
   ]
  },
  {
   "cell_type": "code",
   "execution_count": 5,
   "metadata": {},
   "outputs": [
    {
     "name": "stdout",
     "output_type": "stream",
     "text": [
      "fTIHE price of Advertisements in this Paper ■A- is, threepence a line for the first insertion, and a penny a line for every subsequent one. All communications to the Editor are requested to be addressed to the Office of the Lyttelton Times, Section 2, Norwich Quay, Lyttelton, where the Paper may be obtained. Advertisements must be left at this Office before Thursday evening, for insertion of the same week, and must be paid for at the time of insertion. NOTICE. ~ HIS EXCELLENCY SIR GEORGE GREY having declared that he will raise no objection to the erection of Canterbury into a separate Province, if the power be left in his hands, and if the settlers in Canterbury desire it, we, the undersigned, Magistrates of the district, think it right that opportunities should be given of ascertaining the wishes of the people on this important subject. For this purpose Public Meetings will be held at the Mitre Hotel, Lyttelton, on Wednesday, Aug. 13, at Two o'clock, p.m.; and at the Golden Fleece Hotel, Christchurch, on Thursday, Aug. 14, at 12 o'clock, noon. J. R. Godley, R. M. W. G. Beittan, J.P. H. G. Gouland, J.P. H. Phillips, J. P. H. J. Tancrbd, J.P. J. C. \"W. Russell, J.P. Wm. Deans, J.P. R. Rhodes, J .P. E. J. Wakisfield, J. P. Lyttelton, July 28,1851. A PUBLIC DINNER WILL be held at the MITRE HOTEL, Lyttelton, on Wednesday, the 13th inst., to commemorate the holding of the First Public Meeting in the Canterbury Settlement. The Chair will be taken by J. R. Godley, Esq., at half-past six o'clock precisely. Tickets, price 12s. 6d. each, may be obtained at the Mitre Hotel, and from the following Gentlemen, who have consented to act as Stewards on the occasion. Messrs. Edwakd Jerningham Wakefield, Dk. Donald, Henry Le Chen, E. M. Templar. Richard Beamish, Richard Wormajld. War. Taylor. PUBLIC NOTICE. NOTICE IS HEREBY GIVEN, that all parties squatting on any of the town reserves, or unappropriated town sections of Christchurch or Lyttelton, will be required to remove from off the land, on or before the first of September next. Parties will be allowed to remove the materials of any buildings which they may have erected on such land, or should ..£hey prefer it, the Association will take them from them at a valuation. By order of the Agent of the Canterbury Association. W. G. Bhittan. £5 REWARD. TX^HEREAS many of the boundary \" * marks and pegs of the Town and Country sections have been wantonly removed or destroyed, This is to give notice that the above reward will be given to any person who will give such information at the Land-Office, Christchurch, as will lead to the conviction of parties removing, obliterating, or destroying Trigonometrical Stations, Boundary Pegs of Sections, or any other marks connected with the surveys. By order of the Agent of the Canterbury Association, W . G . Biuttan. Land-Office, Christchnrch, July 17,1851.\n"
     ]
    }
   ],
   "source": [
    "content_df = df.where(df.id == 1911291).select('content').collect()[0]['content']\n",
    "print(content_df)"
   ]
  },
  {
   "cell_type": "markdown",
   "metadata": {},
   "source": [
    "**We should quantitatively measure the quality of OCR (error rate), but it takes time and we do not focus on this field. Below are the related works:**\n",
    ">The first method is used by Simon Tanner, Trevor Muñoz, and Pich Hemy Ros in their evaluation of the OCR quality of the British Library’s 19th Century Online Newspaper Archive. Working with a sample of 1% of the 2 million pages digitized by the British Library, the team calculated the highest rates of OCR accuracy achieved by comparing the generated XML text to a “double re-keyed” ground-truth version. Having a verified ground-truth document enabled the team to provide accurate results about the quality of generated texts (which were generally disappointing, particularly for proper nouns and “significant” or content words). Their approach, however, is labor and time intensive – more than can be taken on by most individual scholars with limited financial resources. (Tanner, Simon, Trevor Muñoz, and Pich Hemy Ros. “Measuring Mass Text Digitization Quality and Usefulness: Lessons Learned From Assessing the OCR Accuracy of the British Library’s 19th Century Online Newspaper Archive.” D-Lib Magazine 15, no. 7/8 (2009): §5. doi: http://dx.doi.org/10.1045/july2009-munoz)    \n",
    "The second approach, which the Mapping Texts team used for their analysis of the OCR accuracy of the Texas newspapers in Chronicling America, is to compare the generated text to an authoritative wordlist and compute the number of words outside the approved set. This approach is easier to implement, as it takes much less time to compile a list of relevant words than to re-key even a 1% sample of the text. However, the results are less accurate. The method is blind to places where the OCR engine produced a word that, while in the wordlist, does not match the text on the page or where spelling variations that occur on the page are flagged as OCR errors because they are not included in the word list. (Torget, Andrew J., Mihalcea, Rada, Christensen, Jon, and McGhee, Geoff. “Mapping Texts: Combining Text-Mining and Geo-Visualization to Unlock the Research Potential of Historical Newspapers.” Mapping Texts (2011): Accessed March 29, 2017. http://mappingtexts.org/whitepaper/MappingTexts_WhitePaper.pdf.)"
   ]
  },
  {
   "cell_type": "markdown",
   "metadata": {},
   "source": [
    "## 3 Spelling Correction"
   ]
  },
  {
   "cell_type": "markdown",
   "metadata": {},
   "source": [
    "**Although the OCR text quality is high, the OCR text are still full of errors. If we could correct at least part of errors, the quality of text will be better, thus the quality of topics will be better. Let's try a spelling correction tool.**\n",
    "\n",
    "**We use [SymSpell](https://github.com/wolfgarbe/SymSpell) to do the spelling correction job.**\n",
    "\n",
    "> SymSpell is an algorithm (implementations are available in many programming languages) to be used by developers to add fast approximate string search or spelling correction to their products, rather than being a consumer-ready turnkey product itself."
   ]
  },
  {
   "cell_type": "code",
   "execution_count": 7,
   "metadata": {},
   "outputs": [
    {
     "name": "stderr",
     "output_type": "stream",
     "text": [
      "--2019-01-29 12:41:46--  https://raw.githubusercontent.com/wolfgarbe/SymSpell/master/SymSpell/frequency_dictionary_en_82_765.txt\n",
      "Resolving raw.githubusercontent.com (raw.githubusercontent.com)... 151.101.164.133\n",
      "Connecting to raw.githubusercontent.com (raw.githubusercontent.com)|151.101.164.133|:443... connected.\n",
      "HTTP request sent, awaiting response... 200 OK\n",
      "Length: 1331889 (1.3M) [text/plain]\n",
      "Saving to: ‘../temp/frequency_dictionary_en_82_765.txt’\n",
      "\n",
      "     0K .......... .......... .......... .......... ..........  3% 1.42M 1s\n",
      "    50K .......... .......... .......... .......... ..........  7% 2.90M 1s\n",
      "   100K .......... .......... .......... .......... .......... 11% 11.6M 0s\n",
      "   150K .......... .......... .......... .......... .......... 15% 19.7M 0s\n",
      "   200K .......... .......... .......... .......... .......... 19% 3.90M 0s\n",
      "   250K .......... .......... .......... .......... .......... 23% 14.1M 0s\n",
      "   300K .......... .......... .......... .......... .......... 26% 12.2M 0s\n",
      "   350K .......... .......... .......... .......... .......... 30% 9.76M 0s\n",
      "   400K .......... .......... .......... .......... .......... 34% 10.8M 0s\n",
      "   450K .......... .......... .......... .......... .......... 38% 13.6M 0s\n",
      "   500K .......... .......... .......... .......... .......... 42% 14.0M 0s\n",
      "   550K .......... .......... .......... .......... .......... 46% 13.3M 0s\n",
      "   600K .......... .......... .......... .......... .......... 49% 13.8M 0s\n",
      "   650K .......... .......... .......... .......... .......... 53% 9.35M 0s\n",
      "   700K .......... .......... .......... .......... .......... 57% 14.8M 0s\n",
      "   750K .......... .......... .......... .......... .......... 61% 9.83M 0s\n",
      "   800K .......... .......... .......... .......... .......... 65% 10.2M 0s\n",
      "   850K .......... .......... .......... .......... .......... 69% 14.5M 0s\n",
      "   900K .......... .......... .......... .......... .......... 73% 12.8M 0s\n",
      "   950K .......... .......... .......... .......... .......... 76% 10.3M 0s\n",
      "  1000K .......... .......... .......... .......... .......... 80% 12.8M 0s\n",
      "  1050K .......... .......... .......... .......... .......... 84% 16.3M 0s\n",
      "  1100K .......... .......... .......... .......... .......... 88% 13.8M 0s\n",
      "  1150K .......... .......... .......... .......... .......... 92% 9.95M 0s\n",
      "  1200K .......... .......... .......... .......... .......... 96% 9.74M 0s\n",
      "  1250K .......... .......... .......... .......... .......... 99% 15.1M 0s\n",
      "  1300K                                                       100% 1283G=0.2s\n",
      "\n",
      "2019-01-29 12:41:47 (8.18 MB/s) - ‘../temp/frequency_dictionary_en_82_765.txt’ saved [1331889/1331889]\n",
      "\n"
     ]
    }
   ],
   "source": [
    "%%bash\n",
    "\n",
    "wget https://raw.githubusercontent.com/wolfgarbe/SymSpell/master/SymSpell/frequency_dictionary_en_82_765.txt \\\n",
    "      -O ../temp/frequency_dictionary_en_82_765.txt"
   ]
  },
  {
   "cell_type": "code",
   "execution_count": 8,
   "metadata": {},
   "outputs": [
    {
     "name": "stdout",
     "output_type": "stream",
     "text": [
      "Spelling Correction Result:\n",
      " ﻿the price of advertisements in this paper a is threepence a line for ﻿the first insertion and a penny a line for every subsequent one all communications to ﻿the editor are requested to be addressed to ﻿the office of ﻿the let elton times section a norwich quay let elton where ﻿the paper may be obtained advertisements must be left at this office before thursday evening for insertion of ﻿the same week and must be paid for at ﻿the time of insertion notice his excellency sir george grey having declared that he will raise no objection to ﻿the erection of canterbury into a separate province if ﻿the power be left in his hands and if ﻿the settlers in canterbury desire it we ﻿the undersigned magistrates of ﻿the district think it right that opportunities should be given of ascertaining ﻿the wishes of ﻿the people on this important subject for this purpose public meetings will be held at ﻿the mitre hotel let elton on wednesday aug of at two clock pm and at ﻿the golden fleece hotel christchurch on thursday aug of at of clock noon a a go ley a a a a be than a a a a go land a a a phillips a a a a tancred a a a a a russell a a we deans a a a rhodes a a a a wiki field a a let elton july of of of a public dinner will be held at ﻿the mitre hotel let elton on wednesday ﻿the with inst to commemorate ﻿the holding of ﻿the first public meeting in ﻿the canterbury settlement ﻿the chair will be taken by a a go ley esq at half past six clock precisely tickets price is cd each may be obtained at ﻿the mitre hotel and from ﻿the following gentlemen who have consented to act as stewards on ﻿the occasion messes edward jerking ham wakefield do donald henry be chen a a templar richard be amish richard worm old war taylor public notice notice is hereby given that all parties squatting on any of ﻿the town reserves or unappropriated town sections of christchurch or let elton will be required to remove from off ﻿the land on or before ﻿the first of september next parties will be allowed to remove ﻿the materials of any buildings which they may have erected on such land or should hey prefer it ﻿the association will take them from them at a valuation by order of ﻿the agent of ﻿the canterbury association a a bit tan a reward to her as many of ﻿the boundary marks and pegs of ﻿the town and country sections have been wantonly removed or destroyed this is to give notice that ﻿the above reward will be given to any person who will give such information at ﻿the land office christchurch as will lead to ﻿the conviction of parties removing obliterating or destroying trigon metrical stations boundary pegs of sections or any other marks connected with ﻿the surveys by order of ﻿the agent of ﻿the canterbury association a a button land office christchurch july of of of \n",
      "\n",
      "CPU times: user 13.1 s, sys: 96 ms, total: 13.2 s\n",
      "Wall time: 13.2 s\n"
     ]
    }
   ],
   "source": [
    "%%time\n",
    "\n",
    "def correct_spelling(input_term, \n",
    "                     initial_capacity=83000, \n",
    "                     max_edit_distance_dictionary=2, \n",
    "                     max_edit_distance_lookup=2, \n",
    "                     prefix_length=7):\n",
    "    ''' correct spelling of input text\n",
    "    '''\n",
    "    # create object\n",
    "    #initial_capacity = 83000\n",
    "    # maximum edit distance per dictionary precalculation\n",
    "    #max_edit_distance_dictionary = 2\n",
    "    #prefix_length = 7\n",
    "    sym_spell = SymSpell(initial_capacity, max_edit_distance_dictionary,\n",
    "                         prefix_length)\n",
    "    # load dictionary\n",
    "    dictionary_path = os.path.join(os.path.dirname(\"../temp/\"),\n",
    "                                   \"frequency_dictionary_en_82_765.txt\")\n",
    "    term_index = 0  # column of the term in the dictionary text file\n",
    "    count_index = 1  # column of the term frequency in the dictionary text file\n",
    "    if not sym_spell.load_dictionary(dictionary_path, term_index, count_index):\n",
    "        print(\"Dictionary file not found\")\n",
    "        return -1\n",
    "    \n",
    "    # lookup suggestions for multi-word input strings (supports compound\n",
    "    # splitting & merging)\n",
    "    # max edit distance per lookup (per single word, not per whole input string)\n",
    "    #max_edit_distance_lookup = 2\n",
    "    suggestions = sym_spell.lookup_compound(input_term,\n",
    "                                            max_edit_distance_lookup)\n",
    "    # display suggestion term, edit distance, and term frequency\n",
    "    #for suggestion in suggestions:\n",
    "    #    print(\"{}, {}, {}\".format(suggestion.term, suggestion.count,\n",
    "    #                              suggestion.distance))\n",
    "\n",
    "    return suggestions[0].term # risk: we suppose len(suggestions) == 1\n",
    "\n",
    "\n",
    "content_cs = correct_spelling(content_df)\n",
    "print('Spelling Correction Result:\\n', content_cs, '\\n')"
   ]
  },
  {
   "cell_type": "markdown",
   "metadata": {},
   "source": [
    "**We compare the original text and corrected text sentence by sentence shown as below, and found that the spelling correction tool corrected few unimportant words but moved out most special noun words such as name and location. The spelling correction job could improve the fluency of sentences but does not contribute to extracting representative words for topic modeling, plus it takes time to compute, those drawbacks cannot resolve by tuning parameters. Furthermore, the dictionary is used for spelling check is modern English, which may consider some 100 year ago correct words as incorrect, and currently we did not have the time to find dictionaries for English of that era. Thus, we will not use spelling correction tools in the following steps.**"
   ]
  },
  {
   "cell_type": "markdown",
   "metadata": {},
   "source": [
    "```\n",
    "fTIHE price of Advertisements in this Paper ■A- is, threepence a line for the first insertion, and a penny a line for every subsequent one.\n",
    "the   price of advertisements in this paper  a  is  threepence a line for the first insertion  and a penny a line for every subsequent one\n",
    "\n",
    "All communications to the Editor are requested to be addressed to the Office of the Lyttelton Times, Section 2, Norwich Quay, Lyttelton, where the Paper may be obtained.\n",
    "all communications to the editor are requested to be addressed to the office of the let elton times  section a  norwich quay  let elton  where the paper may be obtained\n",
    "\n",
    "Advertisements must be left at this Office before Thursday evening, for insertion of the same week, and must be paid for at the time of insertion.\n",
    "advertisements must be left at this office before thursday evening  for insertion of the same week  and must be paid for at the time of insertion\n",
    "\n",
    "NOTICE. ~ HIS EXCELLENCY SIR GEORGE GREY having declared that he will raise no objection to the erection of Canterbury into a separate Province, \n",
    "notice    his excellency sir george grey having declared that he will raise no objection to the erection of canterbury into a separate province\n",
    "\n",
    "if the power be left in his hands, and if the settlers in Canterbury desire it, we, the undersigned, Magistrates of the district, \n",
    "if the power be left in his hands  and if the settlers in canterbury desire it  we  the undersigned  magistrates of the district \n",
    "\n",
    "think it right that opportunities should be given of ascertaining the wishes of the people on this important subject. \n",
    "think it right that opportunities should be given of ascertaining the wishes of the people on this important subject \n",
    "\n",
    "For this purpose Public Meetings will be held at the Mitre Hotel, Lyttelton, on Wednesday, Aug. 13, \n",
    "for this purpose public meetings will be held at the mitre hotel  let elton  on wednesday  aug  of \n",
    "\n",
    "at Two o'clock, p.m.; and at the Golden Fleece Hotel, Christchurch, on Thursday, Aug. 14, at 12 o'clock, noon.\n",
    "at two clock    pm    and at the golden fleece hotel  christchurch  on thursday  aug  of  at of   clock  noon\n",
    "\n",
    "J. R. Godley, R. M. W. G. Beittan, J.P. H. G. Gouland, J.P. H. Phillips, J. P. H. J. Tancrbd, J.P. J. C. \"W. Russell, J.P. Wm. Deans, J.P. R. Rhodes, J .P. E. J. Wakisfield, J. P. Lyttelton, July 28,1851.\n",
    "a  a  go ley  a  a  a  a  be than  a a  a  a  go land  a a  a  phillips  a  a  a  a  tancred  a a  a  a   a  russell  a a  we  deans  a a  a  rhodes  a  a  a  a  wiki field  a a  let elton  july of of of\n",
    "\n",
    "A PUBLIC DINNER WILL be held at the MITRE HOTEL, Lyttelton, on Wednesday, the 13th inst., to commemorate the holding of the First Public Meeting in the Canterbury Settlement.\n",
    "a public dinner will be held at the mitre hotel  let elton  on wednesday  the with inst   to commemorate the holding of the first public meeting in the canterbury settlement\n",
    "\n",
    "The Chair will be taken by J. R. Godley, Esq., at half-past six o'clock precisely.\n",
    "the chair will be taken by a  a  go ley  esq   at half past six   clock precisely\n",
    "\n",
    "Tickets, price 12s. 6d. each, may be obtained at the Mitre Hotel, and from the following Gentlemen, who have consented to act as Stewards on the occasion.\n",
    "tickets  price is   cd  each  may be obtained at the mitre hotel  and from the following gentlemen  who have consented to act as stewards on the occasion\n",
    "\n",
    "PUBLIC NOTICE. NOTICE IS HEREBY GIVEN, that all parties squatting on any of the town reserves, or unappropriated town sections of Christchurch or Lyttelton, will be required to remove from off the land, on or before the first of September next.\n",
    "public notice  notice is hereby given  that all parties squatting on any of the town reserves  or unappropriated town sections of christchurch or let elton  will be required to remove from off the land  on or before the first of september next\n",
    "\n",
    "Parties will be allowed to remove the materials of any buildings which they may have erected on such land, or should ..£hey prefer it, the Association will take them from them at a valuation. By order of the Agent of the Canterbury Association. W. G. Bhittan.\n",
    "parties will be allowed to remove the materials of any buildings which they may have erected on such land  or should    hey prefer it  the association will take them from them at a valuation  by order of the agent of the canterbury association  a  a  bit tan \n",
    "\n",
    "£5 REWARD. TX^HEREAS many of the boundary \" * marks and pegs of the Town and Country sections have been wantonly removed or destroyed, \n",
    "a  reward  to her as many of the boundary     marks and pegs of the town and country sections have been wantonly removed or destroyed \n",
    "\n",
    "This is to give notice that the above reward will be given to any person who will give such information at the Land-Office, Christchurch, \n",
    "this is to give notice that the above reward will be given to any person who will give such information at the land office  christchurch \n",
    "\n",
    "as will lead to the conviction of parties removing, obliterating, or destroying Trigonometrical Stations, Boundary Pegs of Sections, \n",
    "as will lead to the conviction of parties removing  obliterating  or destroying trigon metrical stations  boundary pegs of sections \n",
    "\n",
    "or any other marks connected with the surveys. By order of the Agent of the Canterbury Association, W . G . Biuttan. Land-Office, Christchnrch, July 17,1851.\n",
    "or any other marks connected with the surveys  by order of the agent of the canterbury association  a   a   button   land office  christchurch  july of of of \n",
    "```"
   ]
  },
  {
   "cell_type": "markdown",
   "metadata": {},
   "source": [
    "**There other methods could correct spelling, we do not focus on this field, so it could be the future work to improve the quality of corpora.**"
   ]
  },
  {
   "cell_type": "markdown",
   "metadata": {},
   "source": [
    "## 4 NLP Preprocess"
   ]
  },
  {
   "cell_type": "markdown",
   "metadata": {},
   "source": [
    "**General NLP preprocess for texts including \"tokenize\", \"remove stop words\", \"bigram or multigram\", \"lemmatization\" and \"stemming\" etc., the MALLET tools integrates \"tokenize\", \"remove stop words\", \"bigram\", \"document frequency\" and \"inverse document frequency\", normally \"lemmatization\" and \"stemming\" would not help topic modeling for large corpus perceptibly, thus, we do not separately implement those NLP processes, only use MALLET preprocess the texts while import data to MALLET.**"
   ]
  },
  {
   "cell_type": "markdown",
   "metadata": {},
   "source": [
    "---"
   ]
  }
 ],
 "metadata": {
  "kernelspec": {
   "display_name": "Python 3",
   "language": "python",
   "name": "python3"
  },
  "language_info": {
   "codemirror_mode": {
    "name": "ipython",
    "version": 3
   },
   "file_extension": ".py",
   "mimetype": "text/x-python",
   "name": "python",
   "nbconvert_exporter": "python",
   "pygments_lexer": "ipython3",
   "version": "3.5.2"
  }
 },
 "nbformat": 4,
 "nbformat_minor": 2
}
