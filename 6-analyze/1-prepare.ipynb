{
 "cells": [
  {
   "cell_type": "markdown",
   "metadata": {},
   "source": [
    "# Part 6.1 - Prepare Dataframe\n",
    "---\n",
    "\n",
    "### Papers Past Topic Modeling\n",
    "<br/>\n",
    "\n",
    "\n",
    "Ben Faulks - bmf43@uclive.ac.nz\n",
    "\n",
    "Xiandong Cai - xca24@uclive.ac.nz\n",
    "\n",
    "Yujie Cui - ycu23@uclive.ac.nz"
   ]
  },
  {
   "cell_type": "code",
   "execution_count": 1,
   "metadata": {},
   "outputs": [
    {
     "name": "stdout",
     "output_type": "stream",
     "text": [
      "[('spark.app.name', 'local'),\n",
      " ('spark.rdd.compress', 'True'),\n",
      " ('spark.serializer.objectStreamReset', '100'),\n",
      " ('spark.driver.host', '192.168.1.207'),\n",
      " ('spark.driver.memory', '62g'),\n",
      " ('spark.master', 'local[*]'),\n",
      " ('spark.executor.id', 'driver'),\n",
      " ('spark.submit.deployMode', 'client'),\n",
      " ('spark.app.id', 'local-1547960005066'),\n",
      " ('spark.ui.showConsoleProgress', 'true'),\n",
      " ('spark.driver.port', '44856'),\n",
      " ('spark.driver.cores', '6'),\n",
      " ('spark.driver.maxResultSize', '4g')]\n"
     ]
    },
    {
     "data": {
      "text/html": [
       "\n",
       "        <div>\n",
       "            <p><b>SparkContext</b></p>\n",
       "\n",
       "            <p><a href=\"http://192.168.1.207:4040\">Spark UI</a></p>\n",
       "\n",
       "            <dl>\n",
       "              <dt>Version</dt>\n",
       "                <dd><code>v2.4.0</code></dd>\n",
       "              <dt>Master</dt>\n",
       "                <dd><code>local[*]</code></dd>\n",
       "              <dt>AppName</dt>\n",
       "                <dd><code>local</code></dd>\n",
       "            </dl>\n",
       "        </div>\n",
       "        "
      ],
      "text/plain": [
       "<SparkContext master=local[*] appName=local>"
      ]
     },
     "execution_count": 1,
     "metadata": {},
     "output_type": "execute_result"
    }
   ],
   "source": [
    "import os, sys, subprocess\n",
    "sys.path.insert(0, '../utils') # for import customed modules\n",
    "import pandas as pd\n",
    "from pyspark.sql import functions as F\n",
    "from pyspark.sql.types import *\n",
    "from utils_load import conf_pyspark, load_dataset\n",
    "from utils_preplot import preplot\n",
    "\n",
    "# intiate PySpark\n",
    "sc, spark = conf_pyspark()\n",
    "\n",
    "sc"
   ]
  },
  {
   "cell_type": "markdown",
   "metadata": {},
   "source": [
    "## 1 Prepare Dataframe for Full Dataset"
   ]
  },
  {
   "cell_type": "markdown",
   "metadata": {},
   "source": [
    "**After training the full dataset, we got the topic words list and the doc-topic matrix, now we load those data to generate the dataframe for analysys and visualization.**"
   ]
  },
  {
   "cell_type": "markdown",
   "metadata": {},
   "source": [
    "### 1.1 Load data"
   ]
  },
  {
   "cell_type": "markdown",
   "metadata": {},
   "source": [
    "**Load full dataset and extract metadata (\"id\", \"region\" and \"date\"):**"
   ]
  },
  {
   "cell_type": "code",
   "execution_count": 2,
   "metadata": {},
   "outputs": [],
   "source": [
    "df_meta = load_dataset('dataset', spark).select(F.col('id').alias('id_'), F.col('region'), F.col('date'))"
   ]
  },
  {
   "cell_type": "markdown",
   "metadata": {},
   "source": [
    "**Load topic words list:**"
   ]
  },
  {
   "cell_type": "code",
   "execution_count": 3,
   "metadata": {},
   "outputs": [],
   "source": [
    "path = r'../5-model/model_train/topicKeys.txt'\n",
    "\n",
    "data_schema = StructType([\n",
    "    StructField('topic', IntegerType()),\n",
    "    StructField('weight', FloatType()),\n",
    "    StructField('words', StringType())\n",
    "])\n",
    "\n",
    "df_topics = (\n",
    "    spark.read.format(\"com.databricks.spark.csv\")\n",
    "    .option(\"header\", \"false\")\n",
    "    .option(\"inferSchema\", \"false\")\n",
    "    .option(\"delimiter\", \"\\t\")\n",
    "    .schema(data_schema)\n",
    "    .load(path)\n",
    ")"
   ]
  },
  {
   "cell_type": "code",
   "execution_count": 4,
   "metadata": {},
   "outputs": [
    {
     "name": "stdout",
     "output_type": "stream",
     "text": [
      "Shape of dataframe: (250, 3)\n",
      "+-----+-------+---------------------------------------------------------------------------------+\n",
      "|topic|weight |words                                                                            |\n",
      "+-----+-------+---------------------------------------------------------------------------------+\n",
      "|0    |0.01008|mr party government minister labour sir ward joseph country massey               |\n",
      "|1    |0.01015|bank cent loan zealand london banks money exchange rate deposits                 |\n",
      "|2    |0.00692|company apply freight steam passage zealand passengers shipping steamers agents  |\n",
      "|3    |0.03237|man people men public law good fact make things state                            |\n",
      "|4    |0.00528|fruit apples pears case potatoes plums peaches oranges poultry lb                |\n",
      "|5    |0.04785|good time year made week great work present day weather                          |\n",
      "|6    |0.00788|napier hastings bay hawke waipawa dannevirke woodville danevirke mr taradale     |\n",
      "|7    |0.01052|hotel proprietor accommodation spirits wines public good travellers class brands |\n",
      "|8    |0.00591|st handicap time won meeting dividend bst mile races cup                         |\n",
      "|9    |0.01515|young man father lady wife years woman life girl husband                         |\n",
      "|10   |0.01241|coal timber firewood company orders feet pine building supply coals              |\n",
      "|11   |0.01038|election candidate mr electors vote candidates elections votes elected seat      |\n",
      "|12   |0.00862|mrs mr daughter mary son miss st rev late church                                 |\n",
      "|13   |0.01008|butter milk dairy meat farmers cheese factory freezing fat cows                  |\n",
      "|14   |0.01759|hall meeting held evening clock secretary wednesday night monday thursday        |\n",
      "|15   |0.01507|year expenditure revenue tax amount cost total paid income balance               |\n",
      "|16   |0.00457|wickets innings runs cricket match wicket bowling total team made                |\n",
      "|17   |0.0031 |pills ointment holloway skin liver sore diseases remedy complaints bad           |\n",
      "|18   |0.00885|furniture chairs tables table oak sale carpets dining bedsteads suite            |\n",
      "|19   |0.00805|water board harbour river work works harbor feet supply cost                     |\n",
      "+-----+-------+---------------------------------------------------------------------------------+\n",
      "only showing top 20 rows\n",
      "\n"
     ]
    }
   ],
   "source": [
    "topic_number = df_topics.count()\n",
    "print('Shape of dataframe: ({}, {})'.format(topic_number, len(df_topics.columns)))\n",
    "df_topics.show(20, False)"
   ]
  },
  {
   "cell_type": "markdown",
   "metadata": {},
   "source": [
    "**Load doc-topic matrix:**"
   ]
  },
  {
   "cell_type": "code",
   "execution_count": 5,
   "metadata": {},
   "outputs": [],
   "source": [
    "path = r'../5-model/model_train/docTopics.txt'\n",
    "\n",
    "# generate new column names\n",
    "columns = [str(x) for x in list(range(topic_number))]\n",
    "columns.insert(0, 'id')\n",
    "columns.insert(0, 'index')\n",
    "\n",
    "# load data\n",
    "df_doctopic = (\n",
    "    spark.read.format(\"com.databricks.spark.csv\")\n",
    "    .option(\"header\", \"false\")\n",
    "    .option(\"inferSchema\", \"true\")\n",
    "    .option(\"delimiter\", \"\\t\")\n",
    "    .load(path)\n",
    ")\n",
    "\n",
    "# change columns name and drop # column which is table index and useless\n",
    "df_doctopic = df_doctopic.toDF(*columns)"
   ]
  },
  {
   "cell_type": "code",
   "execution_count": 6,
   "metadata": {},
   "outputs": [
    {
     "name": "stdout",
     "output_type": "stream",
     "text": [
      "Shape of dataframe: (160140, 252)\n"
     ]
    },
    {
     "data": {
      "text/html": [
       "<div>\n",
       "<style scoped>\n",
       "    .dataframe tbody tr th:only-of-type {\n",
       "        vertical-align: middle;\n",
       "    }\n",
       "\n",
       "    .dataframe tbody tr th {\n",
       "        vertical-align: top;\n",
       "    }\n",
       "\n",
       "    .dataframe thead th {\n",
       "        text-align: right;\n",
       "    }\n",
       "</style>\n",
       "<table border=\"1\" class=\"dataframe\">\n",
       "  <thead>\n",
       "    <tr style=\"text-align: right;\">\n",
       "      <th></th>\n",
       "      <th>index</th>\n",
       "      <th>id</th>\n",
       "      <th>0</th>\n",
       "      <th>1</th>\n",
       "      <th>2</th>\n",
       "      <th>3</th>\n",
       "      <th>4</th>\n",
       "      <th>5</th>\n",
       "      <th>6</th>\n",
       "      <th>7</th>\n",
       "      <th>...</th>\n",
       "      <th>240</th>\n",
       "      <th>241</th>\n",
       "      <th>242</th>\n",
       "      <th>243</th>\n",
       "      <th>244</th>\n",
       "      <th>245</th>\n",
       "      <th>246</th>\n",
       "      <th>247</th>\n",
       "      <th>248</th>\n",
       "      <th>249</th>\n",
       "    </tr>\n",
       "  </thead>\n",
       "  <tbody>\n",
       "    <tr>\n",
       "      <th>0</th>\n",
       "      <td>0</td>\n",
       "      <td>1854232</td>\n",
       "      <td>0.000063</td>\n",
       "      <td>0.000063</td>\n",
       "      <td>0.187764</td>\n",
       "      <td>0.000203</td>\n",
       "      <td>0.000033</td>\n",
       "      <td>0.000299</td>\n",
       "      <td>0.000049</td>\n",
       "      <td>0.000066</td>\n",
       "      <td>...</td>\n",
       "      <td>0.000112</td>\n",
       "      <td>0.000055</td>\n",
       "      <td>0.000071</td>\n",
       "      <td>0.000042</td>\n",
       "      <td>0.000048</td>\n",
       "      <td>0.000085</td>\n",
       "      <td>0.000069</td>\n",
       "      <td>0.000047</td>\n",
       "      <td>0.000065</td>\n",
       "      <td>0.000028</td>\n",
       "    </tr>\n",
       "    <tr>\n",
       "      <th>1</th>\n",
       "      <td>1</td>\n",
       "      <td>1854244</td>\n",
       "      <td>0.000146</td>\n",
       "      <td>0.000147</td>\n",
       "      <td>0.000101</td>\n",
       "      <td>0.000470</td>\n",
       "      <td>0.000077</td>\n",
       "      <td>0.000695</td>\n",
       "      <td>0.000115</td>\n",
       "      <td>0.000153</td>\n",
       "      <td>...</td>\n",
       "      <td>0.000261</td>\n",
       "      <td>0.000127</td>\n",
       "      <td>0.000165</td>\n",
       "      <td>0.000097</td>\n",
       "      <td>0.000111</td>\n",
       "      <td>0.000198</td>\n",
       "      <td>0.000161</td>\n",
       "      <td>0.000108</td>\n",
       "      <td>0.000151</td>\n",
       "      <td>0.000065</td>\n",
       "    </tr>\n",
       "    <tr>\n",
       "      <th>2</th>\n",
       "      <td>2</td>\n",
       "      <td>1854262</td>\n",
       "      <td>0.000063</td>\n",
       "      <td>0.000064</td>\n",
       "      <td>0.000044</td>\n",
       "      <td>0.000204</td>\n",
       "      <td>0.000033</td>\n",
       "      <td>0.000301</td>\n",
       "      <td>0.000050</td>\n",
       "      <td>0.000066</td>\n",
       "      <td>...</td>\n",
       "      <td>0.000113</td>\n",
       "      <td>0.000055</td>\n",
       "      <td>0.000071</td>\n",
       "      <td>0.000042</td>\n",
       "      <td>0.000048</td>\n",
       "      <td>0.000086</td>\n",
       "      <td>0.000070</td>\n",
       "      <td>0.000047</td>\n",
       "      <td>0.000066</td>\n",
       "      <td>0.000028</td>\n",
       "    </tr>\n",
       "    <tr>\n",
       "      <th>3</th>\n",
       "      <td>3</td>\n",
       "      <td>1854275</td>\n",
       "      <td>0.000063</td>\n",
       "      <td>0.000063</td>\n",
       "      <td>0.068874</td>\n",
       "      <td>0.000203</td>\n",
       "      <td>0.000033</td>\n",
       "      <td>0.000299</td>\n",
       "      <td>0.000049</td>\n",
       "      <td>0.000066</td>\n",
       "      <td>...</td>\n",
       "      <td>0.000112</td>\n",
       "      <td>0.000055</td>\n",
       "      <td>0.000071</td>\n",
       "      <td>0.000042</td>\n",
       "      <td>0.000048</td>\n",
       "      <td>0.000085</td>\n",
       "      <td>0.000069</td>\n",
       "      <td>0.000047</td>\n",
       "      <td>0.000065</td>\n",
       "      <td>0.000028</td>\n",
       "    </tr>\n",
       "    <tr>\n",
       "      <th>4</th>\n",
       "      <td>4</td>\n",
       "      <td>1854588</td>\n",
       "      <td>0.000109</td>\n",
       "      <td>0.000109</td>\n",
       "      <td>0.000075</td>\n",
       "      <td>0.000349</td>\n",
       "      <td>0.000057</td>\n",
       "      <td>0.000516</td>\n",
       "      <td>0.000085</td>\n",
       "      <td>0.000113</td>\n",
       "      <td>...</td>\n",
       "      <td>0.689759</td>\n",
       "      <td>0.000094</td>\n",
       "      <td>0.000122</td>\n",
       "      <td>0.000072</td>\n",
       "      <td>0.000082</td>\n",
       "      <td>0.000147</td>\n",
       "      <td>0.000119</td>\n",
       "      <td>0.000080</td>\n",
       "      <td>0.000112</td>\n",
       "      <td>0.000049</td>\n",
       "    </tr>\n",
       "  </tbody>\n",
       "</table>\n",
       "<p>5 rows × 252 columns</p>\n",
       "</div>"
      ],
      "text/plain": [
       "   index       id         0         1         2         3         4         5  \\\n",
       "0      0  1854232  0.000063  0.000063  0.187764  0.000203  0.000033  0.000299   \n",
       "1      1  1854244  0.000146  0.000147  0.000101  0.000470  0.000077  0.000695   \n",
       "2      2  1854262  0.000063  0.000064  0.000044  0.000204  0.000033  0.000301   \n",
       "3      3  1854275  0.000063  0.000063  0.068874  0.000203  0.000033  0.000299   \n",
       "4      4  1854588  0.000109  0.000109  0.000075  0.000349  0.000057  0.000516   \n",
       "\n",
       "          6         7    ...          240       241       242       243  \\\n",
       "0  0.000049  0.000066    ...     0.000112  0.000055  0.000071  0.000042   \n",
       "1  0.000115  0.000153    ...     0.000261  0.000127  0.000165  0.000097   \n",
       "2  0.000050  0.000066    ...     0.000113  0.000055  0.000071  0.000042   \n",
       "3  0.000049  0.000066    ...     0.000112  0.000055  0.000071  0.000042   \n",
       "4  0.000085  0.000113    ...     0.689759  0.000094  0.000122  0.000072   \n",
       "\n",
       "        244       245       246       247       248       249  \n",
       "0  0.000048  0.000085  0.000069  0.000047  0.000065  0.000028  \n",
       "1  0.000111  0.000198  0.000161  0.000108  0.000151  0.000065  \n",
       "2  0.000048  0.000086  0.000070  0.000047  0.000066  0.000028  \n",
       "3  0.000048  0.000085  0.000069  0.000047  0.000065  0.000028  \n",
       "4  0.000082  0.000147  0.000119  0.000080  0.000112  0.000049  \n",
       "\n",
       "[5 rows x 252 columns]"
      ]
     },
     "execution_count": 6,
     "metadata": {},
     "output_type": "execute_result"
    }
   ],
   "source": [
    "print('Shape of dataframe: ({}, {})'.format(df_doctopic.count(), len(df_doctopic.columns)))\n",
    "\n",
    "# show top 5 row\n",
    "df_doctopic.limit(5).toPandas().head()"
   ]
  },
  {
   "cell_type": "markdown",
   "metadata": {},
   "source": [
    "**In above dataframe, \"index\" column is the row number, \"id\" column is the sample/document/text id, the same with \"id\" in dataset, \"0\" to \"249\" columns are the weight of each topic.**"
   ]
  },
  {
   "cell_type": "markdown",
   "metadata": {},
   "source": [
    "### 1.2 Add Dominant Topics Column"
   ]
  },
  {
   "cell_type": "markdown",
   "metadata": {},
   "source": [
    "**Find dominant topic of each document:**"
   ]
  },
  {
   "cell_type": "code",
   "execution_count": 6,
   "metadata": {},
   "outputs": [],
   "source": [
    "# https://stackoverflow.com/questions/46819405/how-to-get-the-name-of-column-with-maximum-value-in-pyspark-dataframe\n",
    "\n",
    "def argmax(cols, *args):\n",
    "    return [c for c, v in zip(cols, args) if v == max(args)][0]\n",
    "\n",
    "def search_dominant(df):\n",
    "    \"\"\"\n",
    "    find the dominant topic of each sample/row/document\n",
    "    input: dataframe of weight of each topic\n",
    "    output: the dominant topic number dataframe\n",
    "    \"\"\"\n",
    "    argmax_udf = lambda cols: F.udf(lambda *args: argmax(cols, *args), StringType())\n",
    "    return (df\n",
    "            .withColumn('dominant',argmax_udf(df.columns[2:])(*df.columns[2:]))\n",
    "            .select(F.col('index').alias('index_'), F.col('dominant')))\n",
    "\n",
    "df_dominant = search_dominant(df_doctopic)\n",
    "\n",
    "# add the df_dominant to doc-topic matrix\n",
    "df_doctopic = (df_doctopic\n",
    "               .join(df_dominant, df_doctopic.index == df_dominant.index_)\n",
    "               .drop('index_')\n",
    "               .orderBy('index'))"
   ]
  },
  {
   "cell_type": "code",
   "execution_count": 7,
   "metadata": {},
   "outputs": [
    {
     "name": "stdout",
     "output_type": "stream",
     "text": [
      "Shape of dataframe: (160140, 253)\n"
     ]
    },
    {
     "data": {
      "text/html": [
       "<div>\n",
       "<style scoped>\n",
       "    .dataframe tbody tr th:only-of-type {\n",
       "        vertical-align: middle;\n",
       "    }\n",
       "\n",
       "    .dataframe tbody tr th {\n",
       "        vertical-align: top;\n",
       "    }\n",
       "\n",
       "    .dataframe thead th {\n",
       "        text-align: right;\n",
       "    }\n",
       "</style>\n",
       "<table border=\"1\" class=\"dataframe\">\n",
       "  <thead>\n",
       "    <tr style=\"text-align: right;\">\n",
       "      <th></th>\n",
       "      <th>index</th>\n",
       "      <th>id</th>\n",
       "      <th>0</th>\n",
       "      <th>1</th>\n",
       "      <th>2</th>\n",
       "      <th>3</th>\n",
       "      <th>4</th>\n",
       "      <th>5</th>\n",
       "      <th>6</th>\n",
       "      <th>7</th>\n",
       "      <th>...</th>\n",
       "      <th>241</th>\n",
       "      <th>242</th>\n",
       "      <th>243</th>\n",
       "      <th>244</th>\n",
       "      <th>245</th>\n",
       "      <th>246</th>\n",
       "      <th>247</th>\n",
       "      <th>248</th>\n",
       "      <th>249</th>\n",
       "      <th>dominant</th>\n",
       "    </tr>\n",
       "  </thead>\n",
       "  <tbody>\n",
       "    <tr>\n",
       "      <th>0</th>\n",
       "      <td>0</td>\n",
       "      <td>1854232</td>\n",
       "      <td>0.000063</td>\n",
       "      <td>0.000063</td>\n",
       "      <td>0.187764</td>\n",
       "      <td>0.000203</td>\n",
       "      <td>0.000033</td>\n",
       "      <td>0.000299</td>\n",
       "      <td>0.000049</td>\n",
       "      <td>0.000066</td>\n",
       "      <td>...</td>\n",
       "      <td>0.000055</td>\n",
       "      <td>0.000071</td>\n",
       "      <td>0.000042</td>\n",
       "      <td>0.000048</td>\n",
       "      <td>0.000085</td>\n",
       "      <td>0.000069</td>\n",
       "      <td>0.000047</td>\n",
       "      <td>0.000065</td>\n",
       "      <td>0.000028</td>\n",
       "      <td>2</td>\n",
       "    </tr>\n",
       "    <tr>\n",
       "      <th>1</th>\n",
       "      <td>1</td>\n",
       "      <td>1854244</td>\n",
       "      <td>0.000146</td>\n",
       "      <td>0.000147</td>\n",
       "      <td>0.000101</td>\n",
       "      <td>0.000470</td>\n",
       "      <td>0.000077</td>\n",
       "      <td>0.000695</td>\n",
       "      <td>0.000115</td>\n",
       "      <td>0.000153</td>\n",
       "      <td>...</td>\n",
       "      <td>0.000127</td>\n",
       "      <td>0.000165</td>\n",
       "      <td>0.000097</td>\n",
       "      <td>0.000111</td>\n",
       "      <td>0.000198</td>\n",
       "      <td>0.000161</td>\n",
       "      <td>0.000108</td>\n",
       "      <td>0.000151</td>\n",
       "      <td>0.000065</td>\n",
       "      <td>196</td>\n",
       "    </tr>\n",
       "    <tr>\n",
       "      <th>2</th>\n",
       "      <td>2</td>\n",
       "      <td>1854262</td>\n",
       "      <td>0.000063</td>\n",
       "      <td>0.000064</td>\n",
       "      <td>0.000044</td>\n",
       "      <td>0.000204</td>\n",
       "      <td>0.000033</td>\n",
       "      <td>0.000301</td>\n",
       "      <td>0.000050</td>\n",
       "      <td>0.000066</td>\n",
       "      <td>...</td>\n",
       "      <td>0.000055</td>\n",
       "      <td>0.000071</td>\n",
       "      <td>0.000042</td>\n",
       "      <td>0.000048</td>\n",
       "      <td>0.000086</td>\n",
       "      <td>0.000070</td>\n",
       "      <td>0.000047</td>\n",
       "      <td>0.000066</td>\n",
       "      <td>0.000028</td>\n",
       "      <td>200</td>\n",
       "    </tr>\n",
       "    <tr>\n",
       "      <th>3</th>\n",
       "      <td>3</td>\n",
       "      <td>1854275</td>\n",
       "      <td>0.000063</td>\n",
       "      <td>0.000063</td>\n",
       "      <td>0.068874</td>\n",
       "      <td>0.000203</td>\n",
       "      <td>0.000033</td>\n",
       "      <td>0.000299</td>\n",
       "      <td>0.000049</td>\n",
       "      <td>0.000066</td>\n",
       "      <td>...</td>\n",
       "      <td>0.000055</td>\n",
       "      <td>0.000071</td>\n",
       "      <td>0.000042</td>\n",
       "      <td>0.000048</td>\n",
       "      <td>0.000085</td>\n",
       "      <td>0.000069</td>\n",
       "      <td>0.000047</td>\n",
       "      <td>0.000065</td>\n",
       "      <td>0.000028</td>\n",
       "      <td>211</td>\n",
       "    </tr>\n",
       "    <tr>\n",
       "      <th>4</th>\n",
       "      <td>4</td>\n",
       "      <td>1854588</td>\n",
       "      <td>0.000109</td>\n",
       "      <td>0.000109</td>\n",
       "      <td>0.000075</td>\n",
       "      <td>0.000349</td>\n",
       "      <td>0.000057</td>\n",
       "      <td>0.000516</td>\n",
       "      <td>0.000085</td>\n",
       "      <td>0.000113</td>\n",
       "      <td>...</td>\n",
       "      <td>0.000094</td>\n",
       "      <td>0.000122</td>\n",
       "      <td>0.000072</td>\n",
       "      <td>0.000082</td>\n",
       "      <td>0.000147</td>\n",
       "      <td>0.000119</td>\n",
       "      <td>0.000080</td>\n",
       "      <td>0.000112</td>\n",
       "      <td>0.000049</td>\n",
       "      <td>240</td>\n",
       "    </tr>\n",
       "  </tbody>\n",
       "</table>\n",
       "<p>5 rows × 253 columns</p>\n",
       "</div>"
      ],
      "text/plain": [
       "   index       id         0         1         2         3         4         5  \\\n",
       "0      0  1854232  0.000063  0.000063  0.187764  0.000203  0.000033  0.000299   \n",
       "1      1  1854244  0.000146  0.000147  0.000101  0.000470  0.000077  0.000695   \n",
       "2      2  1854262  0.000063  0.000064  0.000044  0.000204  0.000033  0.000301   \n",
       "3      3  1854275  0.000063  0.000063  0.068874  0.000203  0.000033  0.000299   \n",
       "4      4  1854588  0.000109  0.000109  0.000075  0.000349  0.000057  0.000516   \n",
       "\n",
       "          6         7    ...          241       242       243       244  \\\n",
       "0  0.000049  0.000066    ...     0.000055  0.000071  0.000042  0.000048   \n",
       "1  0.000115  0.000153    ...     0.000127  0.000165  0.000097  0.000111   \n",
       "2  0.000050  0.000066    ...     0.000055  0.000071  0.000042  0.000048   \n",
       "3  0.000049  0.000066    ...     0.000055  0.000071  0.000042  0.000048   \n",
       "4  0.000085  0.000113    ...     0.000094  0.000122  0.000072  0.000082   \n",
       "\n",
       "        245       246       247       248       249  dominant  \n",
       "0  0.000085  0.000069  0.000047  0.000065  0.000028         2  \n",
       "1  0.000198  0.000161  0.000108  0.000151  0.000065       196  \n",
       "2  0.000086  0.000070  0.000047  0.000066  0.000028       200  \n",
       "3  0.000085  0.000069  0.000047  0.000065  0.000028       211  \n",
       "4  0.000147  0.000119  0.000080  0.000112  0.000049       240  \n",
       "\n",
       "[5 rows x 253 columns]"
      ]
     },
     "execution_count": 7,
     "metadata": {},
     "output_type": "execute_result"
    }
   ],
   "source": [
    "print('Shape of dataframe: ({}, {})'.format(df_doctopic.count(), len(df_doctopic.columns)))\n",
    "\n",
    "df_doctopic.limit(5).toPandas().head()"
   ]
  },
  {
   "cell_type": "markdown",
   "metadata": {},
   "source": [
    "### 1.3 Add Metadata Column"
   ]
  },
  {
   "cell_type": "markdown",
   "metadata": {},
   "source": [
    "**Here we only add \"region\" and \"year\" column as metadata. Since the full dataset has the \"date\" column, the accuracy of time could achieve \"day\" level, but currently we analyze data by \"year\" not by \"day\" or other unit, so for convenience we directly convert date to year.**"
   ]
  },
  {
   "cell_type": "code",
   "execution_count": 8,
   "metadata": {},
   "outputs": [],
   "source": [
    "df_doctopic = (df_doctopic\n",
    "               .join(df_meta, df_doctopic.id == df_meta.id_)\n",
    "               .withColumn('year', F.date_format('date', 'yyyy'))\n",
    "               .drop('id_')\n",
    "               .drop('date')\n",
    "               .orderBy('index'))"
   ]
  },
  {
   "cell_type": "code",
   "execution_count": 10,
   "metadata": {},
   "outputs": [
    {
     "name": "stdout",
     "output_type": "stream",
     "text": [
      "Shape of dataframe: (160140, 255)\n"
     ]
    },
    {
     "data": {
      "text/html": [
       "<div>\n",
       "<style scoped>\n",
       "    .dataframe tbody tr th:only-of-type {\n",
       "        vertical-align: middle;\n",
       "    }\n",
       "\n",
       "    .dataframe tbody tr th {\n",
       "        vertical-align: top;\n",
       "    }\n",
       "\n",
       "    .dataframe thead th {\n",
       "        text-align: right;\n",
       "    }\n",
       "</style>\n",
       "<table border=\"1\" class=\"dataframe\">\n",
       "  <thead>\n",
       "    <tr style=\"text-align: right;\">\n",
       "      <th></th>\n",
       "      <th>index</th>\n",
       "      <th>id</th>\n",
       "      <th>0</th>\n",
       "      <th>1</th>\n",
       "      <th>2</th>\n",
       "      <th>3</th>\n",
       "      <th>4</th>\n",
       "      <th>5</th>\n",
       "      <th>6</th>\n",
       "      <th>7</th>\n",
       "      <th>...</th>\n",
       "      <th>243</th>\n",
       "      <th>244</th>\n",
       "      <th>245</th>\n",
       "      <th>246</th>\n",
       "      <th>247</th>\n",
       "      <th>248</th>\n",
       "      <th>249</th>\n",
       "      <th>dominant</th>\n",
       "      <th>region</th>\n",
       "      <th>year</th>\n",
       "    </tr>\n",
       "  </thead>\n",
       "  <tbody>\n",
       "    <tr>\n",
       "      <th>0</th>\n",
       "      <td>0</td>\n",
       "      <td>1854232</td>\n",
       "      <td>0.000063</td>\n",
       "      <td>0.000063</td>\n",
       "      <td>0.187764</td>\n",
       "      <td>0.000203</td>\n",
       "      <td>0.000033</td>\n",
       "      <td>0.000299</td>\n",
       "      <td>0.000049</td>\n",
       "      <td>0.000066</td>\n",
       "      <td>...</td>\n",
       "      <td>0.000042</td>\n",
       "      <td>0.000048</td>\n",
       "      <td>0.000085</td>\n",
       "      <td>0.000069</td>\n",
       "      <td>0.000047</td>\n",
       "      <td>0.000065</td>\n",
       "      <td>0.000028</td>\n",
       "      <td>2</td>\n",
       "      <td>Auckland</td>\n",
       "      <td>1863</td>\n",
       "    </tr>\n",
       "    <tr>\n",
       "      <th>1</th>\n",
       "      <td>1</td>\n",
       "      <td>1854244</td>\n",
       "      <td>0.000146</td>\n",
       "      <td>0.000147</td>\n",
       "      <td>0.000101</td>\n",
       "      <td>0.000470</td>\n",
       "      <td>0.000077</td>\n",
       "      <td>0.000695</td>\n",
       "      <td>0.000115</td>\n",
       "      <td>0.000153</td>\n",
       "      <td>...</td>\n",
       "      <td>0.000097</td>\n",
       "      <td>0.000111</td>\n",
       "      <td>0.000198</td>\n",
       "      <td>0.000161</td>\n",
       "      <td>0.000108</td>\n",
       "      <td>0.000151</td>\n",
       "      <td>0.000065</td>\n",
       "      <td>196</td>\n",
       "      <td>Auckland</td>\n",
       "      <td>1863</td>\n",
       "    </tr>\n",
       "    <tr>\n",
       "      <th>2</th>\n",
       "      <td>2</td>\n",
       "      <td>1854262</td>\n",
       "      <td>0.000063</td>\n",
       "      <td>0.000064</td>\n",
       "      <td>0.000044</td>\n",
       "      <td>0.000204</td>\n",
       "      <td>0.000033</td>\n",
       "      <td>0.000301</td>\n",
       "      <td>0.000050</td>\n",
       "      <td>0.000066</td>\n",
       "      <td>...</td>\n",
       "      <td>0.000042</td>\n",
       "      <td>0.000048</td>\n",
       "      <td>0.000086</td>\n",
       "      <td>0.000070</td>\n",
       "      <td>0.000047</td>\n",
       "      <td>0.000066</td>\n",
       "      <td>0.000028</td>\n",
       "      <td>200</td>\n",
       "      <td>Auckland</td>\n",
       "      <td>1863</td>\n",
       "    </tr>\n",
       "    <tr>\n",
       "      <th>3</th>\n",
       "      <td>3</td>\n",
       "      <td>1854275</td>\n",
       "      <td>0.000063</td>\n",
       "      <td>0.000063</td>\n",
       "      <td>0.068874</td>\n",
       "      <td>0.000203</td>\n",
       "      <td>0.000033</td>\n",
       "      <td>0.000299</td>\n",
       "      <td>0.000049</td>\n",
       "      <td>0.000066</td>\n",
       "      <td>...</td>\n",
       "      <td>0.000042</td>\n",
       "      <td>0.000048</td>\n",
       "      <td>0.000085</td>\n",
       "      <td>0.000069</td>\n",
       "      <td>0.000047</td>\n",
       "      <td>0.000065</td>\n",
       "      <td>0.000028</td>\n",
       "      <td>211</td>\n",
       "      <td>Auckland</td>\n",
       "      <td>1863</td>\n",
       "    </tr>\n",
       "    <tr>\n",
       "      <th>4</th>\n",
       "      <td>4</td>\n",
       "      <td>1854588</td>\n",
       "      <td>0.000109</td>\n",
       "      <td>0.000109</td>\n",
       "      <td>0.000075</td>\n",
       "      <td>0.000349</td>\n",
       "      <td>0.000057</td>\n",
       "      <td>0.000516</td>\n",
       "      <td>0.000085</td>\n",
       "      <td>0.000113</td>\n",
       "      <td>...</td>\n",
       "      <td>0.000072</td>\n",
       "      <td>0.000082</td>\n",
       "      <td>0.000147</td>\n",
       "      <td>0.000119</td>\n",
       "      <td>0.000080</td>\n",
       "      <td>0.000112</td>\n",
       "      <td>0.000049</td>\n",
       "      <td>240</td>\n",
       "      <td>Canterbury</td>\n",
       "      <td>1887</td>\n",
       "    </tr>\n",
       "  </tbody>\n",
       "</table>\n",
       "<p>5 rows × 255 columns</p>\n",
       "</div>"
      ],
      "text/plain": [
       "   index       id         0         1         2         3         4         5  \\\n",
       "0      0  1854232  0.000063  0.000063  0.187764  0.000203  0.000033  0.000299   \n",
       "1      1  1854244  0.000146  0.000147  0.000101  0.000470  0.000077  0.000695   \n",
       "2      2  1854262  0.000063  0.000064  0.000044  0.000204  0.000033  0.000301   \n",
       "3      3  1854275  0.000063  0.000063  0.068874  0.000203  0.000033  0.000299   \n",
       "4      4  1854588  0.000109  0.000109  0.000075  0.000349  0.000057  0.000516   \n",
       "\n",
       "          6         7  ...        243       244       245       246       247  \\\n",
       "0  0.000049  0.000066  ...   0.000042  0.000048  0.000085  0.000069  0.000047   \n",
       "1  0.000115  0.000153  ...   0.000097  0.000111  0.000198  0.000161  0.000108   \n",
       "2  0.000050  0.000066  ...   0.000042  0.000048  0.000086  0.000070  0.000047   \n",
       "3  0.000049  0.000066  ...   0.000042  0.000048  0.000085  0.000069  0.000047   \n",
       "4  0.000085  0.000113  ...   0.000072  0.000082  0.000147  0.000119  0.000080   \n",
       "\n",
       "        248       249  dominant      region  year  \n",
       "0  0.000065  0.000028         2    Auckland  1863  \n",
       "1  0.000151  0.000065       196    Auckland  1863  \n",
       "2  0.000066  0.000028       200    Auckland  1863  \n",
       "3  0.000065  0.000028       211    Auckland  1863  \n",
       "4  0.000112  0.000049       240  Canterbury  1887  \n",
       "\n",
       "[5 rows x 255 columns]"
      ]
     },
     "execution_count": 10,
     "metadata": {},
     "output_type": "execute_result"
    }
   ],
   "source": [
    "print('Shape of dataframe: ({}, {})'.format(df_doctopic.count(), len(df_doctopic.columns)))\n",
    "\n",
    "df_doctopic.limit(5).toPandas().head()"
   ]
  },
  {
   "cell_type": "markdown",
   "metadata": {},
   "source": [
    "### 1.4 Dominant Topics Dataframe"
   ]
  },
  {
   "cell_type": "markdown",
   "metadata": {},
   "source": [
    "**It is hard to plot the doc-topic matrix (high dimension), we need transform it to extract or reduce features. First we generate dominant topics dataframe which could be used to reveal the relationship between dominant topics and region/year.**"
   ]
  },
  {
   "cell_type": "code",
   "execution_count": 9,
   "metadata": {},
   "outputs": [],
   "source": [
    "df_dominant = (df_doctopic\n",
    "               .join(df_topics, df_doctopic.dominant == df_topics.topic)\n",
    "               .select(F.col('id'), \n",
    "                       F.col('region'), \n",
    "                       F.col('year'), \n",
    "                       F.col('dominant'), \n",
    "                       F.col('words')))"
   ]
  },
  {
   "cell_type": "code",
   "execution_count": 10,
   "metadata": {},
   "outputs": [
    {
     "name": "stdout",
     "output_type": "stream",
     "text": [
      "Shape of dataframe: (160140, 5)\n",
      "+-------+----------+----+--------+--------------------------------------------------------------------------------+\n",
      "|id     |region    |year|dominant|words                                                                           |\n",
      "+-------+----------+----+--------+--------------------------------------------------------------------------------+\n",
      "|1854232|Auckland  |1863|2       |company apply freight steam passage zealand passengers shipping steamers agents |\n",
      "|1854244|Auckland  |1863|196     |business public street begs attention notice mr inform support patronage        |\n",
      "|1854262|Auckland  |1863|200     |life man world great years english work men people time                         |\n",
      "|1854275|Auckland  |1863|211     |goods street stock prices large wholesale cash orders general advertisements    |\n",
      "|1854588|Canterbury|1887|240     |french government russia paris troops france british turkish russian turkey     |\n",
      "+-------+----------+----+--------+--------------------------------------------------------------------------------+\n",
      "\n"
     ]
    }
   ],
   "source": [
    "print('Shape of dataframe: ({}, {})'.format(df_dominant.count(), len(df_dominant.columns)))\n",
    "\n",
    "df_dominant.limit(5).show(5, False)"
   ]
  },
  {
   "cell_type": "markdown",
   "metadata": {},
   "source": [
    "**Save the dataframe for later use:**"
   ]
  },
  {
   "cell_type": "code",
   "execution_count": 13,
   "metadata": {},
   "outputs": [],
   "source": [
    "path = r'./train/domTopics'\n",
    "\n",
    "df_dominant.write.csv(path, mode='overwrite', compression='gzip')"
   ]
  },
  {
   "cell_type": "code",
   "execution_count": 14,
   "metadata": {},
   "outputs": [],
   "source": [
    "%%bash -s \"$path\"\n",
    "\n",
    "cat $1/*.csv.gz > $1/domTopics.csv.gz\n",
    "\n",
    "gunzip $1/domTopics.csv.gz"
   ]
  },
  {
   "cell_type": "markdown",
   "metadata": {},
   "source": [
    "### 1.5 Average Weight Topics Dataframe"
   ]
  },
  {
   "cell_type": "markdown",
   "metadata": {},
   "source": [
    "**Beside dominant topics dataframe, we could calculate average weight of each topic in a year and create dataframe for it, which could be used to reveal the weight variety of each topic as time goes on. The weights of each topic were already scaled to 0-1 by default, so the sum of average weight of each year is 1, we do not need to scale it.**"
   ]
  },
  {
   "cell_type": "code",
   "execution_count": 11,
   "metadata": {},
   "outputs": [],
   "source": [
    "df_avgweight = (df_doctopic.drop('index').drop('id').drop('dominant').drop('region')\n",
    "                .groupBy('year').avg().orderBy('year'))"
   ]
  },
  {
   "cell_type": "code",
   "execution_count": 12,
   "metadata": {},
   "outputs": [
    {
     "data": {
      "text/html": [
       "<div>\n",
       "<style scoped>\n",
       "    .dataframe tbody tr th:only-of-type {\n",
       "        vertical-align: middle;\n",
       "    }\n",
       "\n",
       "    .dataframe tbody tr th {\n",
       "        vertical-align: top;\n",
       "    }\n",
       "\n",
       "    .dataframe thead th {\n",
       "        text-align: right;\n",
       "    }\n",
       "</style>\n",
       "<table border=\"1\" class=\"dataframe\">\n",
       "  <thead>\n",
       "    <tr style=\"text-align: right;\">\n",
       "      <th></th>\n",
       "      <th>year</th>\n",
       "      <th>avg(0)</th>\n",
       "      <th>avg(1)</th>\n",
       "      <th>avg(2)</th>\n",
       "      <th>avg(3)</th>\n",
       "      <th>avg(4)</th>\n",
       "      <th>avg(5)</th>\n",
       "      <th>avg(6)</th>\n",
       "      <th>avg(7)</th>\n",
       "      <th>avg(8)</th>\n",
       "      <th>...</th>\n",
       "      <th>avg(240)</th>\n",
       "      <th>avg(241)</th>\n",
       "      <th>avg(242)</th>\n",
       "      <th>avg(243)</th>\n",
       "      <th>avg(244)</th>\n",
       "      <th>avg(245)</th>\n",
       "      <th>avg(246)</th>\n",
       "      <th>avg(247)</th>\n",
       "      <th>avg(248)</th>\n",
       "      <th>avg(249)</th>\n",
       "    </tr>\n",
       "  </thead>\n",
       "  <tbody>\n",
       "    <tr>\n",
       "      <th>0</th>\n",
       "      <td>1840</td>\n",
       "      <td>0.000081</td>\n",
       "      <td>0.008279</td>\n",
       "      <td>0.000056</td>\n",
       "      <td>0.023775</td>\n",
       "      <td>0.000042</td>\n",
       "      <td>0.000384</td>\n",
       "      <td>0.000063</td>\n",
       "      <td>0.013187</td>\n",
       "      <td>0.000047</td>\n",
       "      <td>...</td>\n",
       "      <td>0.000144</td>\n",
       "      <td>0.000070</td>\n",
       "      <td>0.000091</td>\n",
       "      <td>0.000054</td>\n",
       "      <td>0.000061</td>\n",
       "      <td>0.000109</td>\n",
       "      <td>0.000089</td>\n",
       "      <td>0.000060</td>\n",
       "      <td>0.011574</td>\n",
       "      <td>0.000036</td>\n",
       "    </tr>\n",
       "    <tr>\n",
       "      <th>1</th>\n",
       "      <td>1841</td>\n",
       "      <td>0.000161</td>\n",
       "      <td>0.011706</td>\n",
       "      <td>0.004822</td>\n",
       "      <td>0.030666</td>\n",
       "      <td>0.000254</td>\n",
       "      <td>0.005892</td>\n",
       "      <td>0.000126</td>\n",
       "      <td>0.007246</td>\n",
       "      <td>0.000095</td>\n",
       "      <td>...</td>\n",
       "      <td>0.000287</td>\n",
       "      <td>0.000140</td>\n",
       "      <td>0.000182</td>\n",
       "      <td>0.000107</td>\n",
       "      <td>0.000122</td>\n",
       "      <td>0.001599</td>\n",
       "      <td>0.001406</td>\n",
       "      <td>0.000119</td>\n",
       "      <td>0.107492</td>\n",
       "      <td>0.000072</td>\n",
       "    </tr>\n",
       "    <tr>\n",
       "      <th>2</th>\n",
       "      <td>1842</td>\n",
       "      <td>0.000116</td>\n",
       "      <td>0.003160</td>\n",
       "      <td>0.002450</td>\n",
       "      <td>0.023355</td>\n",
       "      <td>0.000061</td>\n",
       "      <td>0.012671</td>\n",
       "      <td>0.000091</td>\n",
       "      <td>0.000454</td>\n",
       "      <td>0.000068</td>\n",
       "      <td>...</td>\n",
       "      <td>0.001251</td>\n",
       "      <td>0.000101</td>\n",
       "      <td>0.000131</td>\n",
       "      <td>0.000077</td>\n",
       "      <td>0.000088</td>\n",
       "      <td>0.000489</td>\n",
       "      <td>0.001364</td>\n",
       "      <td>0.011884</td>\n",
       "      <td>0.101871</td>\n",
       "      <td>0.000052</td>\n",
       "    </tr>\n",
       "    <tr>\n",
       "      <th>3</th>\n",
       "      <td>1843</td>\n",
       "      <td>0.000675</td>\n",
       "      <td>0.000822</td>\n",
       "      <td>0.003062</td>\n",
       "      <td>0.044746</td>\n",
       "      <td>0.000048</td>\n",
       "      <td>0.002650</td>\n",
       "      <td>0.000071</td>\n",
       "      <td>0.000095</td>\n",
       "      <td>0.000136</td>\n",
       "      <td>...</td>\n",
       "      <td>0.004082</td>\n",
       "      <td>0.000938</td>\n",
       "      <td>0.000852</td>\n",
       "      <td>0.000275</td>\n",
       "      <td>0.000069</td>\n",
       "      <td>0.000389</td>\n",
       "      <td>0.004093</td>\n",
       "      <td>0.000067</td>\n",
       "      <td>0.047911</td>\n",
       "      <td>0.000041</td>\n",
       "    </tr>\n",
       "    <tr>\n",
       "      <th>4</th>\n",
       "      <td>1844</td>\n",
       "      <td>0.000519</td>\n",
       "      <td>0.000147</td>\n",
       "      <td>0.000698</td>\n",
       "      <td>0.050104</td>\n",
       "      <td>0.003802</td>\n",
       "      <td>0.009987</td>\n",
       "      <td>0.000114</td>\n",
       "      <td>0.000153</td>\n",
       "      <td>0.000086</td>\n",
       "      <td>...</td>\n",
       "      <td>0.000260</td>\n",
       "      <td>0.000127</td>\n",
       "      <td>0.000336</td>\n",
       "      <td>0.000097</td>\n",
       "      <td>0.000111</td>\n",
       "      <td>0.000397</td>\n",
       "      <td>0.001362</td>\n",
       "      <td>0.000108</td>\n",
       "      <td>0.005803</td>\n",
       "      <td>0.000065</td>\n",
       "    </tr>\n",
       "  </tbody>\n",
       "</table>\n",
       "<p>5 rows × 251 columns</p>\n",
       "</div>"
      ],
      "text/plain": [
       "   year    avg(0)    avg(1)    avg(2)    avg(3)    avg(4)    avg(5)    avg(6)  \\\n",
       "0  1840  0.000081  0.008279  0.000056  0.023775  0.000042  0.000384  0.000063   \n",
       "1  1841  0.000161  0.011706  0.004822  0.030666  0.000254  0.005892  0.000126   \n",
       "2  1842  0.000116  0.003160  0.002450  0.023355  0.000061  0.012671  0.000091   \n",
       "3  1843  0.000675  0.000822  0.003062  0.044746  0.000048  0.002650  0.000071   \n",
       "4  1844  0.000519  0.000147  0.000698  0.050104  0.003802  0.009987  0.000114   \n",
       "\n",
       "     avg(7)    avg(8)    ...     avg(240)  avg(241)  avg(242)  avg(243)  \\\n",
       "0  0.013187  0.000047    ...     0.000144  0.000070  0.000091  0.000054   \n",
       "1  0.007246  0.000095    ...     0.000287  0.000140  0.000182  0.000107   \n",
       "2  0.000454  0.000068    ...     0.001251  0.000101  0.000131  0.000077   \n",
       "3  0.000095  0.000136    ...     0.004082  0.000938  0.000852  0.000275   \n",
       "4  0.000153  0.000086    ...     0.000260  0.000127  0.000336  0.000097   \n",
       "\n",
       "   avg(244)  avg(245)  avg(246)  avg(247)  avg(248)  avg(249)  \n",
       "0  0.000061  0.000109  0.000089  0.000060  0.011574  0.000036  \n",
       "1  0.000122  0.001599  0.001406  0.000119  0.107492  0.000072  \n",
       "2  0.000088  0.000489  0.001364  0.011884  0.101871  0.000052  \n",
       "3  0.000069  0.000389  0.004093  0.000067  0.047911  0.000041  \n",
       "4  0.000111  0.000397  0.001362  0.000108  0.005803  0.000065  \n",
       "\n",
       "[5 rows x 251 columns]"
      ]
     },
     "execution_count": 12,
     "metadata": {},
     "output_type": "execute_result"
    }
   ],
   "source": [
    "df_avgweight.limit(5).toPandas().head()"
   ]
  },
  {
   "cell_type": "markdown",
   "metadata": {},
   "source": [
    "**check years are identical with dataset:**"
   ]
  },
  {
   "cell_type": "code",
   "execution_count": 17,
   "metadata": {},
   "outputs": [
    {
     "name": "stdout",
     "output_type": "stream",
     "text": [
      "Year range of average weight dataframe: Row(min(year)='1840', max(year)='1945') \n",
      "Year number: 103\n",
      "Year range of doc-topic      dataframe: Row(min(year)='1840', max(year)='1945') \n",
      "Year number: 103\n"
     ]
    }
   ],
   "source": [
    "print('Year range of average weight dataframe:', \n",
    "      df_avgweight.select(F.min('year'), F.max('year')).first(), \n",
    "      '\\nYear number:',\n",
    "      df_avgweight.select('year').distinct().count())\n",
    "print('Year range of doc-topic      dataframe:', \n",
    "      df_doctopic.select(F.min('year'), F.max('year')).first(), \n",
    "      '\\nYear number:',\n",
    "      df_doctopic.select('year').distinct().count())"
   ]
  },
  {
   "cell_type": "markdown",
   "metadata": {},
   "source": [
    "**The dimension of the avrage weight dataframe is small (topic_n\\*year_n), so we directly save the dataframe using Pandas:**"
   ]
  },
  {
   "cell_type": "code",
   "execution_count": 18,
   "metadata": {},
   "outputs": [],
   "source": [
    "path = r'./train/avgWeight/'\n",
    "\n",
    "df_avgweight.toPandas().to_csv(path+'avgWeight.csv', header=False, index=False, encoding='utf-8')"
   ]
  },
  {
   "cell_type": "markdown",
   "metadata": {},
   "source": [
    "## 2 Prepare Dataframe for Subset"
   ]
  },
  {
   "cell_type": "markdown",
   "metadata": {},
   "source": [
    "**The process for subset is the same with for full dataset, we wrapped the process to a function and call it for each subset.**"
   ]
  },
  {
   "cell_type": "markdown",
   "metadata": {},
   "source": [
    "### 2.1 By Range of Time"
   ]
  },
  {
   "cell_type": "markdown",
   "metadata": {},
   "source": [
    "**Generate dataframes:**"
   ]
  },
  {
   "cell_type": "code",
   "execution_count": 4,
   "metadata": {},
   "outputs": [],
   "source": [
    "file = r'../5-model/model_wwi/docTopicsInfer.txt'\n",
    "\n",
    "df_dominant, df_avgweight = preplot(file, df_meta, df_topics, spark)"
   ]
  },
  {
   "cell_type": "markdown",
   "metadata": {},
   "source": [
    "**Save dataframes:**"
   ]
  },
  {
   "cell_type": "code",
   "execution_count": 6,
   "metadata": {},
   "outputs": [],
   "source": [
    "path = r'./wwi/avgWeight/'\n",
    "df_avgweight.toPandas().to_csv(path+'avgWeight.csv', header=False, index=False, encoding='utf-8')\n",
    "\n",
    "path = r'./wwi/domTopics'\n",
    "df_dominant.write.csv(path, mode='overwrite', compression='gzip')"
   ]
  },
  {
   "cell_type": "markdown",
   "metadata": {},
   "source": [
    "**Convert multi files to a csv file:**"
   ]
  },
  {
   "cell_type": "code",
   "execution_count": 7,
   "metadata": {},
   "outputs": [],
   "source": [
    "%%bash -s \"$path\"\n",
    "\n",
    "cat $1/*.csv.gz > $1/domTopics.csv.gz\n",
    "\n",
    "gunzip $1/domTopics.csv.gz"
   ]
  },
  {
   "cell_type": "markdown",
   "metadata": {},
   "source": [
    "### 2.2 By Region"
   ]
  },
  {
   "cell_type": "markdown",
   "metadata": {},
   "source": [
    "**Generate dataframes:**"
   ]
  },
  {
   "cell_type": "code",
   "execution_count": 11,
   "metadata": {},
   "outputs": [],
   "source": [
    "file = r'../5-model/model_regions/docTopicsInfer.txt'\n",
    "\n",
    "df_dominant, df_avgweight = preplot(file, df_meta, df_topics, spark)"
   ]
  },
  {
   "cell_type": "markdown",
   "metadata": {},
   "source": [
    "**Save dataframes:**"
   ]
  },
  {
   "cell_type": "code",
   "execution_count": 13,
   "metadata": {},
   "outputs": [],
   "source": [
    "path = r'./regions/avgWeight/'\n",
    "df_avgweight.toPandas().to_csv(path+'avgWeight.csv', header=False, index=False, encoding='utf-8')\n",
    "\n",
    "path = r'./regions/domTopics'\n",
    "df_dominant.write.csv(path, mode='overwrite', compression='gzip')"
   ]
  },
  {
   "cell_type": "markdown",
   "metadata": {},
   "source": [
    "**Convert multi files to a csv file:**"
   ]
  },
  {
   "cell_type": "code",
   "execution_count": 14,
   "metadata": {},
   "outputs": [],
   "source": [
    "%%bash -s \"$path\"\n",
    "\n",
    "cat $1/*.csv.gz > $1/domTopics.csv.gz\n",
    "\n",
    "gunzip $1/domTopics.csv.gz"
   ]
  },
  {
   "cell_type": "markdown",
   "metadata": {},
   "source": [
    "### 2.3 By Label"
   ]
  },
  {
   "cell_type": "markdown",
   "metadata": {},
   "source": [
    "**Generate dataframes:**"
   ]
  },
  {
   "cell_type": "code",
   "execution_count": 15,
   "metadata": {},
   "outputs": [],
   "source": [
    "file = r'../5-model/model_ads/docTopicsInfer.txt'\n",
    "\n",
    "df_dominant, df_avgweight = preplot(file, df_meta, df_topics, spark)"
   ]
  },
  {
   "cell_type": "markdown",
   "metadata": {},
   "source": [
    "**Save dataframes:**"
   ]
  },
  {
   "cell_type": "code",
   "execution_count": 16,
   "metadata": {},
   "outputs": [],
   "source": [
    "path = r'./ads/avgWeight/'\n",
    "df_avgweight.toPandas().to_csv(path+'avgWeight.csv', header=False, index=False, encoding='utf-8')\n",
    "\n",
    "path = r'./ads/domTopics'\n",
    "df_dominant.write.csv(path, mode='overwrite', compression='gzip')"
   ]
  },
  {
   "cell_type": "markdown",
   "metadata": {},
   "source": [
    "**Convert multi files to a csv file:**"
   ]
  },
  {
   "cell_type": "code",
   "execution_count": 17,
   "metadata": {},
   "outputs": [],
   "source": [
    "%%bash -s \"$path\"\n",
    "\n",
    "cat $1/*.csv.gz > $1/domTopics.csv.gz\n",
    "\n",
    "gunzip $1/domTopics.csv.gz"
   ]
  },
  {
   "cell_type": "markdown",
   "metadata": {},
   "source": [
    "---"
   ]
  }
 ],
 "metadata": {
  "kernelspec": {
   "display_name": "Python 3",
   "language": "python",
   "name": "python3"
  },
  "language_info": {
   "codemirror_mode": {
    "name": "ipython",
    "version": 3
   },
   "file_extension": ".py",
   "mimetype": "text/x-python",
   "name": "python",
   "nbconvert_exporter": "python",
   "pygments_lexer": "ipython3",
   "version": "3.5.2"
  }
 },
 "nbformat": 4,
 "nbformat_minor": 2
}
